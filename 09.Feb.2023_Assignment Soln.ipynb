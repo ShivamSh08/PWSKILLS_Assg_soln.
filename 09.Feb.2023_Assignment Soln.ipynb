{
 "cells": [
  {
   "cell_type": "markdown",
   "id": "5e4fbc8d-4c47-4832-b205-8e3d9fce4852",
   "metadata": {},
   "source": [
    "#### Q1, Create a vehicle class with an init method having instance variables as name_of_vehicle, max_speed and average_of_vehicle."
   ]
  },
  {
   "cell_type": "code",
   "execution_count": 3,
   "id": "1c2a4df2-d5c4-48ca-af01-f650e8e62602",
   "metadata": {},
   "outputs": [],
   "source": [
    "class vehicle:\n",
    "     def __init__(self, name_of_vehicle, max_speed, average_of_vehicle):\n",
    "            self.name_of_vehicle = name_of_vehicle\n",
    "            self.max_speed = max_speed\n",
    "            self.average_of_vehicle = average_of_vehicle        "
   ]
  },
  {
   "cell_type": "markdown",
   "id": "b8b9136e-6475-47ef-b861-4aba83ad97c7",
   "metadata": {},
   "source": [
    "##### Q2. Create a child class car from the vehicle class created in Que 1, which will inherit the vehicle class. Create a method named seating_capacity which takes capacity as an argument and returns the name of the vehicle and its seating capacity."
   ]
  },
  {
   "cell_type": "code",
   "execution_count": 4,
   "id": "c24735d5-7aac-4a99-a306-da5550b55a4f",
   "metadata": {},
   "outputs": [],
   "source": [
    "class car(vehicle):\n",
    "    def __init__(self, name_of_vehicle, max_speed, average_of_vehicle, capacity):\n",
    "        self.capacity = capacity\n",
    "        \n",
    "        vehicle.__init__(self, name_of_vehicle, max_speed, average_of_vehicle)\n",
    "        \n",
    "    def vehicle_capacity(self):\n",
    "        return \"The capacity of\",self.name_of_vehicle,\"is\",self.capacity,\"no. of passengers.\""
   ]
  },
  {
   "cell_type": "code",
   "execution_count": 5,
   "id": "5e230c91-df7b-48f6-9792-62ecb92759c2",
   "metadata": {},
   "outputs": [],
   "source": [
    "BMW =car('BMW',235, 14, 4)"
   ]
  },
  {
   "cell_type": "code",
   "execution_count": 6,
   "id": "64a59efb-78e7-4935-aedb-27397c42475b",
   "metadata": {},
   "outputs": [
    {
     "data": {
      "text/plain": [
       "235"
      ]
     },
     "execution_count": 6,
     "metadata": {},
     "output_type": "execute_result"
    }
   ],
   "source": [
    "BMW.max_speed"
   ]
  },
  {
   "cell_type": "code",
   "execution_count": 7,
   "id": "069a49d4-e1ae-4f81-b1bc-7d3cf886b1c4",
   "metadata": {},
   "outputs": [
    {
     "data": {
      "text/plain": [
       "4"
      ]
     },
     "execution_count": 7,
     "metadata": {},
     "output_type": "execute_result"
    }
   ],
   "source": [
    "BMW.capacity"
   ]
  },
  {
   "cell_type": "code",
   "execution_count": 8,
   "id": "a5a1d281-e507-43d7-86a3-c657207defee",
   "metadata": {},
   "outputs": [
    {
     "data": {
      "text/plain": [
       "('The capacity of', 'BMW', 'is', 4, 'no. of passengers.')"
      ]
     },
     "execution_count": 8,
     "metadata": {},
     "output_type": "execute_result"
    }
   ],
   "source": [
    "BMW.vehicle_capacity()"
   ]
  },
  {
   "cell_type": "markdown",
   "id": "13db4893-ac29-4b3b-9819-f63f44a04eaa",
   "metadata": {},
   "source": [
    "##### Q3. What is multiple inheritance? Write a python code to demonstrate multiple inheritance.\n"
   ]
  },
  {
   "cell_type": "markdown",
   "id": "c7e1248d-e874-4a98-98e7-f4c21ef15616",
   "metadata": {},
   "source": [
    "**Ans:** <br>\n",
    "When a class can be derived from more than one base class this type of inheritance is called multiple inheritances. In multiple inheritances, all the features of the base classes are inherited into the derived class.\n",
    "<br>\n",
    "Ex:"
   ]
  },
  {
   "cell_type": "code",
   "execution_count": 9,
   "id": "77f093cf-4396-4d26-86cf-b14c36e0268e",
   "metadata": {},
   "outputs": [
    {
     "name": "stdout",
     "output_type": "stream",
     "text": [
      "Father : RAM\n",
      "Mother : SITA\n"
     ]
    }
   ],
   "source": [
    "# Parent class1\n",
    "class Mother:\n",
    "    mothername = \"\"\n",
    " \n",
    "    def mother(self):\n",
    "        print(self.mothername)\n",
    "\n",
    "# Parent class2 \n",
    "class Father:\n",
    "    fathername = \"\"\n",
    " \n",
    "    def father(self):\n",
    "        print(self.fathername)\n",
    "\n",
    "# Child class\n",
    "class Son(Mother, Father):\n",
    "    def parents(self):\n",
    "        print(\"Father :\", self.fathername)\n",
    "        print(\"Mother :\", self.mothername)\n",
    " \n",
    " \n",
    "s1 = Son()\n",
    "s1.fathername = \"RAM\"\n",
    "s1.mothername = \"SITA\"\n",
    "s1.parents()"
   ]
  },
  {
   "cell_type": "markdown",
   "id": "fd10c942-d3f3-4cd3-8ca4-33ba706f67d5",
   "metadata": {},
   "source": [
    "##### Q4. What are getter and setter in python? Create a class and create a getter and a setter method in this class.\n"
   ]
  },
  {
   "cell_type": "markdown",
   "id": "3486dce1-d526-461d-9a62-e89a5c1a1735",
   "metadata": {},
   "source": [
    "#### **Getter:** <br>\n",
    "Getters are the methods that are used in Object-Oriented-Programming (OOPS) to access a class's private attributes. The setattr() function in Python corresponds to the getattr() function in Python. It alters an object's attribute values."
   ]
  },
  {
   "cell_type": "markdown",
   "id": "dbff1f03-1612-4422-868b-b31c4b10c988",
   "metadata": {},
   "source": [
    "#### **Setter:** <br>\n",
    "The setter is a method that is used to set the property's value. It is very useful in object-oriented programming to set the value of private attributes in a class."
   ]
  },
  {
   "cell_type": "code",
   "execution_count": 10,
   "id": "48c6dc3d-880d-4eb9-9583-a3315d21b2f9",
   "metadata": {},
   "outputs": [
    {
     "name": "stdout",
     "output_type": "stream",
     "text": [
      "21\n",
      "21\n"
     ]
    }
   ],
   "source": [
    "class Age:\n",
    "    def __init__(self, age = 0):\n",
    "         self.age = age\n",
    "      \n",
    "    # getter method\n",
    "    def get_age(self):\n",
    "        return self.age\n",
    "      \n",
    "    # setter method\n",
    "    def set_age(self, x):\n",
    "        self.age = x\n",
    "  \n",
    "raj = Age()\n",
    "  \n",
    "# setting the age using setter\n",
    "raj.set_age(21)\n",
    "  \n",
    "# retrieving age using getter\n",
    "print(raj.get_age())\n",
    "  \n",
    "print(raj.age)"
   ]
  },
  {
   "cell_type": "markdown",
   "id": "7c62e5df-ac7d-41d1-bb4a-85bc780a0c54",
   "metadata": {},
   "source": [
    "##### Q5.What is method overriding in python? Write a python code to demonstrate method overriding."
   ]
  },
  {
   "cell_type": "markdown",
   "id": "f1e8d169-d95b-40bd-ab0f-1b4b06842751",
   "metadata": {},
   "source": [
    "**Ans:** <br>\n",
    "##### **Method Overriding:** <br> \n",
    "\n",
    "Method overriding is an ability of any object-oriented programming language that allows a subclass or child class to provide a specific implementation of a method that is already provided by one of its super-classes or parent classes. When a method in a subclass has the same name, same parameters or signature and same return type(or sub-type) as a method in its super-class, then the method in the subclass is said to override the method in the super-class."
   ]
  },
  {
   "cell_type": "code",
   "execution_count": 11,
   "id": "5e7b3093-2b6a-4db8-9126-30a9a348cd60",
   "metadata": {},
   "outputs": [
    {
     "name": "stdout",
     "output_type": "stream",
     "text": [
      "Inside Parent\n",
      "Inside Child\n"
     ]
    }
   ],
   "source": [
    "class Parent():\n",
    "      \n",
    "    # Constructor\n",
    "    def __init__(self):\n",
    "        self.value = \"Inside Parent\"\n",
    "          \n",
    "    # Parent's show method\n",
    "    def show(self):\n",
    "        print(self.value)\n",
    "          \n",
    "# Defining child class\n",
    "class Child(Parent):\n",
    "      \n",
    "    # Constructor\n",
    "    def __init__(self):\n",
    "        self.value = \"Inside Child\"\n",
    "          \n",
    "    # Child's show method\n",
    "    def show(self):\n",
    "        print(self.value)\n",
    "          \n",
    "          \n",
    "# Driver's code\n",
    "obj1 = Parent()\n",
    "obj2 = Child()\n",
    "  \n",
    "obj1.show()\n",
    "obj2.show()"
   ]
  },
  {
   "cell_type": "code",
   "execution_count": null,
   "id": "49d2fcc4-6f2b-42a1-9fe9-c4630c8dfb70",
   "metadata": {},
   "outputs": [],
   "source": []
  }
 ],
 "metadata": {
  "kernelspec": {
   "display_name": "Python 3 (ipykernel)",
   "language": "python",
   "name": "python3"
  },
  "language_info": {
   "codemirror_mode": {
    "name": "ipython",
    "version": 3
   },
   "file_extension": ".py",
   "mimetype": "text/x-python",
   "name": "python",
   "nbconvert_exporter": "python",
   "pygments_lexer": "ipython3",
   "version": "3.10.8"
  }
 },
 "nbformat": 4,
 "nbformat_minor": 5
}
