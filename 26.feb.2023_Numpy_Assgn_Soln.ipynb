{
 "cells": [
  {
   "cell_type": "code",
   "execution_count": 2,
   "metadata": {},
   "outputs": [],
   "source": [
    "import numpy as np\n",
    "\n",
    "list_ = [ '1' , '2' , '3' , '4' , '5' ]\n",
    "\n",
    "array_list = np.array(object = list_)"
   ]
  },
  {
   "cell_type": "markdown",
   "metadata": {},
   "source": [
    "#### Q1. Is there any difference in the data type of variables list_ and array_list? If there is then write a code to print the data types of both the variables."
   ]
  },
  {
   "cell_type": "markdown",
   "metadata": {},
   "source": [
    "**Ans.** <br>Yes, there is a difference in the data type of the variables list_ and array_list. The variable list_ is a Python list, while the variable array_list is a NumPy array."
   ]
  },
  {
   "cell_type": "code",
   "execution_count": 3,
   "metadata": {},
   "outputs": [
    {
     "name": "stdout",
     "output_type": "stream",
     "text": [
      "<class 'list'> \n",
      " <class 'numpy.ndarray'>\n"
     ]
    }
   ],
   "source": [
    "print(type(list_),'\\n',type(array_list))"
   ]
  },
  {
   "cell_type": "markdown",
   "metadata": {},
   "source": [
    "#### Q2. Write a code to print the data type of each and every element of both the variables list_ and array_list."
   ]
  },
  {
   "cell_type": "code",
   "execution_count": 4,
   "metadata": {},
   "outputs": [
    {
     "name": "stdout",
     "output_type": "stream",
     "text": [
      "The data type of element 1 in list_ is <class 'str'>\n",
      "The data type of element 2 in list_ is <class 'str'>\n",
      "The data type of element 3 in list_ is <class 'str'>\n",
      "The data type of element 4 in list_ is <class 'str'>\n",
      "The data type of element 5 in list_ is <class 'str'>\n",
      "The data type of element 1 in array_list is <class 'numpy.str_'>\n",
      "The data type of element 2 in array_list is <class 'numpy.str_'>\n",
      "The data type of element 3 in array_list is <class 'numpy.str_'>\n",
      "The data type of element 4 in array_list is <class 'numpy.str_'>\n",
      "The data type of element 5 in array_list is <class 'numpy.str_'>\n"
     ]
    }
   ],
   "source": [
    "# Print the data type of each element in the list\n",
    "for element in list_:\n",
    "    print(f\"The data type of element {element} in list_ is {type(element)}\")\n",
    "\n",
    "# Print the data type of each element in the NumPy array\n",
    "for element in array_list:\n",
    "    print(f\"The data type of element {element} in array_list is {type(element)}\")"
   ]
  },
  {
   "cell_type": "markdown",
   "metadata": {},
   "source": [
    "#### Q3. Considering the following changes in the variable, array_list:"
   ]
  },
  {
   "cell_type": "code",
   "execution_count": 6,
   "metadata": {},
   "outputs": [],
   "source": [
    "array_list = np.array(object = list_, dtype = int)"
   ]
  },
  {
   "cell_type": "markdown",
   "metadata": {},
   "source": [
    "**Ans.**<br>\n",
    "The array_list will be a NumPy array with elements cast to the integer data type. The elements of array_list will be of type int."
   ]
  },
  {
   "cell_type": "code",
   "execution_count": 7,
   "metadata": {},
   "outputs": [
    {
     "name": "stdout",
     "output_type": "stream",
     "text": [
      "The data type of element 1 in list_ is <class 'str'>\n",
      "The data type of element 2 in list_ is <class 'str'>\n",
      "The data type of element 3 in list_ is <class 'str'>\n",
      "The data type of element 4 in list_ is <class 'str'>\n",
      "The data type of element 5 in list_ is <class 'str'>\n",
      "The data type of element 1 in array_list is <class 'numpy.int32'>\n",
      "The data type of element 2 in array_list is <class 'numpy.int32'>\n",
      "The data type of element 3 in array_list is <class 'numpy.int32'>\n",
      "The data type of element 4 in array_list is <class 'numpy.int32'>\n",
      "The data type of element 5 in array_list is <class 'numpy.int32'>\n"
     ]
    }
   ],
   "source": [
    "# Print the data type of each element in the list\n",
    "for element in list_:\n",
    "    print(f\"The data type of element {element} in list_ is {type(element)}\")\n",
    "\n",
    "# Print the data type of each element in the NumPy array\n",
    "for element in array_list:\n",
    "    print(f\"The data type of element {element} in array_list is {type(element)}\")"
   ]
  },
  {
   "cell_type": "markdown",
   "metadata": {},
   "source": [
    "#### Consider the below code to answer further questions:"
   ]
  },
  {
   "cell_type": "code",
   "execution_count": 8,
   "metadata": {},
   "outputs": [],
   "source": [
    "num_list = [ [ 1 , 2 , 3 ] , [ 4 , 5 , 6 ] ]\n",
    "\n",
    "num_array = np.array(object = num_list)"
   ]
  },
  {
   "cell_type": "markdown",
   "metadata": {},
   "source": [
    "#### Q4. Write a code to find the following characteristics of variable, num_array:<br>\n",
    "(i) shape<br>\n",
    "(ii) size<br>"
   ]
  },
  {
   "cell_type": "code",
   "execution_count": 9,
   "metadata": {},
   "outputs": [
    {
     "name": "stdout",
     "output_type": "stream",
     "text": [
      "Shape of num_array: (2, 3)\n",
      "Size of num_array: 6\n"
     ]
    }
   ],
   "source": [
    "# Find the shape of the array\n",
    "print(\"Shape of num_array:\", num_array.shape)\n",
    "\n",
    "# Find the size of the array\n",
    "print(\"Size of num_array:\", num_array.size)"
   ]
  },
  {
   "cell_type": "markdown",
   "metadata": {},
   "source": [
    "#### Q5. Write a code to create numpy array of 3*3 matrix containing zeros only, using a numpy array creation function.<br>\n",
    "[Hint: The size of the array will be 9 and the shape will be (3,3).]\n",
    "\n"
   ]
  },
  {
   "cell_type": "code",
   "execution_count": 10,
   "metadata": {},
   "outputs": [
    {
     "data": {
      "text/plain": [
       "array([[0., 0., 0.],\n",
       "       [0., 0., 0.],\n",
       "       [0., 0., 0.]])"
      ]
     },
     "execution_count": 10,
     "metadata": {},
     "output_type": "execute_result"
    }
   ],
   "source": [
    "np.zeros((3,3))"
   ]
  },
  {
   "cell_type": "markdown",
   "metadata": {},
   "source": [
    "#### Q6. Create an Identity matrix os shape (5,5) using numoy function?<br>\n",
    "[Hint: An identity matrix is a matrix containing 1 diagonally  and other  elements will be 0.]"
   ]
  },
  {
   "cell_type": "code",
   "execution_count": 12,
   "metadata": {},
   "outputs": [
    {
     "data": {
      "text/plain": [
       "array([[1., 0., 0., 0., 0.],\n",
       "       [0., 1., 0., 0., 0.],\n",
       "       [0., 0., 1., 0., 0.],\n",
       "       [0., 0., 0., 1., 0.],\n",
       "       [0., 0., 0., 0., 1.]])"
      ]
     },
     "execution_count": 12,
     "metadata": {},
     "output_type": "execute_result"
    }
   ],
   "source": [
    "arr1 = np.eye(5)\n",
    "arr1"
   ]
  }
 ],
 "metadata": {
  "kernelspec": {
   "display_name": "Python 3",
   "language": "python",
   "name": "python3"
  },
  "language_info": {
   "codemirror_mode": {
    "name": "ipython",
    "version": 3
   },
   "file_extension": ".py",
   "mimetype": "text/x-python",
   "name": "python",
   "nbconvert_exporter": "python",
   "pygments_lexer": "ipython3",
   "version": "3.11.4"
  }
 },
 "nbformat": 4,
 "nbformat_minor": 2
}
