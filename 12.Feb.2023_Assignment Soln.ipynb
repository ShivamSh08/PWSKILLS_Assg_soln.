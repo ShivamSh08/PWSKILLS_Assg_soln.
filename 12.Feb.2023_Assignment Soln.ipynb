{
 "cells": [
  {
   "cell_type": "markdown",
   "id": "6a22e066-9a50-48d0-9533-5972b5bc2844",
   "metadata": {},
   "source": [
    "### Q1. What is an Exception in python? Write the difference between Exceptions and Syntax Errors.<br>\n",
    "\n",
    "**Ans.** <br>\n",
    "An Exception is an error that happens during the execution of a program. Whenever there is an error, Python generates an exception that could be handled. It basically prevents the program from getting crashed. <br>\n",
    "\n",
    "#### **Difference between Syntax Error and Exceptions**<br>\n",
    "**Syntax Error:**<br>\n",
    "As the name suggests this error is caused by the wrong syntax in the code. It leads to the termination of the program."
   ]
  },
  {
   "cell_type": "code",
   "execution_count": 1,
   "id": "688a8b7b-93af-420a-b5bd-4fb265feca35",
   "metadata": {},
   "outputs": [
    {
     "ename": "SyntaxError",
     "evalue": "expected ':' (1406909703.py, line 6)",
     "output_type": "error",
     "traceback": [
      "\u001b[0;36m  Cell \u001b[0;32mIn[1], line 6\u001b[0;36m\u001b[0m\n\u001b[0;31m    if(amount > 2999)\u001b[0m\n\u001b[0m                     ^\u001b[0m\n\u001b[0;31mSyntaxError\u001b[0m\u001b[0;31m:\u001b[0m expected ':'\n"
     ]
    }
   ],
   "source": [
    "# initialize the amount variable\n",
    "amount = 10000\n",
    "\n",
    "# check that You are eligible to\n",
    "# purchase Dsa Self Paced or not\n",
    "if(amount > 2999)\n",
    "print(\"You are eligible to purchase Dsa Self Paced\")\n"
   ]
  },
  {
   "cell_type": "markdown",
   "id": "d24745d6-03d9-4bd1-a63a-b6aab5d1fb7d",
   "metadata": {},
   "source": [
    "**Exceptions:**<br>\n",
    "Exceptions are raised when the program is syntactically correct, but the code resulted in an error. This error does not stop the execution of the program, however, it changes the normal flow of the program."
   ]
  },
  {
   "cell_type": "code",
   "execution_count": 2,
   "id": "5f5ed22f-1592-4d34-b0d5-f3bc4cf591b1",
   "metadata": {},
   "outputs": [
    {
     "ename": "ZeroDivisionError",
     "evalue": "division by zero",
     "output_type": "error",
     "traceback": [
      "\u001b[0;31m---------------------------------------------------------------------------\u001b[0m",
      "\u001b[0;31mZeroDivisionError\u001b[0m                         Traceback (most recent call last)",
      "Cell \u001b[0;32mIn[2], line 5\u001b[0m\n\u001b[1;32m      2\u001b[0m marks \u001b[38;5;241m=\u001b[39m \u001b[38;5;241m10000\u001b[39m\n\u001b[1;32m      4\u001b[0m \u001b[38;5;66;03m# perform division with 0\u001b[39;00m\n\u001b[0;32m----> 5\u001b[0m a \u001b[38;5;241m=\u001b[39m \u001b[43mmarks\u001b[49m\u001b[43m \u001b[49m\u001b[38;5;241;43m/\u001b[39;49m\u001b[43m \u001b[49m\u001b[38;5;241;43m0\u001b[39;49m\n\u001b[1;32m      6\u001b[0m \u001b[38;5;28mprint\u001b[39m(a)\n",
      "\u001b[0;31mZeroDivisionError\u001b[0m: division by zero"
     ]
    }
   ],
   "source": [
    "# initialize the amount variable\n",
    "marks = 10000\n",
    "\n",
    "# perform division with 0\n",
    "a = marks / 0\n",
    "print(a)\n"
   ]
  },
  {
   "cell_type": "markdown",
   "id": "30254c7b-27f5-450c-b354-c81a18f043b4",
   "metadata": {},
   "source": [
    "### Q2. What happens when an exception is not handled? Explain with an example.<br>\n",
    "\n",
    "**Ans.**<br>\n",
    "If an exception occurs during execution of the try clause, the exception may be handled by an except clause. If the exception is not handled by an except clause, the exception is re-raised after the finally clause has been executed.<br>\n",
    "\n",
    "**Example:-**<br>"
   ]
  },
  {
   "cell_type": "code",
   "execution_count": 13,
   "id": "2efe46bc-2e2f-4e28-93a0-afa5096a18bd",
   "metadata": {},
   "outputs": [],
   "source": [
    "def divide1(x, y):\n",
    "    try:\n",
    "        result = x / y\n",
    "    except ZeroDivisionError:\n",
    "        print(\"division by zero!\")\n",
    "    else:\n",
    "        print(\"result is\", result)\n",
    "    finally:\n",
    "        print(\"executing finally clause\")"
   ]
  },
  {
   "cell_type": "code",
   "execution_count": 14,
   "id": "1f21d7d6-4122-4f1a-ada8-7a0bbc21afd0",
   "metadata": {},
   "outputs": [
    {
     "name": "stdout",
     "output_type": "stream",
     "text": [
      "executing finally clause\n"
     ]
    },
    {
     "ename": "TypeError",
     "evalue": "unsupported operand type(s) for /: 'str' and 'str'",
     "output_type": "error",
     "traceback": [
      "\u001b[0;31m---------------------------------------------------------------------------\u001b[0m",
      "\u001b[0;31mTypeError\u001b[0m                                 Traceback (most recent call last)",
      "Cell \u001b[0;32mIn[14], line 1\u001b[0m\n\u001b[0;32m----> 1\u001b[0m \u001b[43mdivide1\u001b[49m\u001b[43m(\u001b[49m\u001b[38;5;124;43m'\u001b[39;49m\u001b[38;5;124;43m2\u001b[39;49m\u001b[38;5;124;43m'\u001b[39;49m\u001b[43m,\u001b[49m\u001b[38;5;124;43m'\u001b[39;49m\u001b[38;5;124;43m1\u001b[39;49m\u001b[38;5;124;43m'\u001b[39;49m\u001b[43m)\u001b[49m\n",
      "Cell \u001b[0;32mIn[13], line 3\u001b[0m, in \u001b[0;36mdivide1\u001b[0;34m(x, y)\u001b[0m\n\u001b[1;32m      1\u001b[0m \u001b[38;5;28;01mdef\u001b[39;00m \u001b[38;5;21mdivide1\u001b[39m(x, y):\n\u001b[1;32m      2\u001b[0m     \u001b[38;5;28;01mtry\u001b[39;00m:\n\u001b[0;32m----> 3\u001b[0m         result \u001b[38;5;241m=\u001b[39m \u001b[43mx\u001b[49m\u001b[43m \u001b[49m\u001b[38;5;241;43m/\u001b[39;49m\u001b[43m \u001b[49m\u001b[43my\u001b[49m\n\u001b[1;32m      4\u001b[0m     \u001b[38;5;28;01mexcept\u001b[39;00m \u001b[38;5;167;01mZeroDivisionError\u001b[39;00m:\n\u001b[1;32m      5\u001b[0m         \u001b[38;5;28mprint\u001b[39m(\u001b[38;5;124m\"\u001b[39m\u001b[38;5;124mdivision by zero!\u001b[39m\u001b[38;5;124m\"\u001b[39m)\n",
      "\u001b[0;31mTypeError\u001b[0m: unsupported operand type(s) for /: 'str' and 'str'"
     ]
    }
   ],
   "source": [
    "divide1('2','1')"
   ]
  },
  {
   "cell_type": "code",
   "execution_count": 5,
   "id": "6c181c06-7fff-4c8d-bda1-63c029a3f9ac",
   "metadata": {},
   "outputs": [],
   "source": [
    "def divide(x, y):\n",
    "    try:\n",
    "        result = x / y\n",
    "    except Exception as e:\n",
    "        print(\"Error occured!\",e)\n",
    "    else:\n",
    "        print(\"result is\", result)\n",
    "    finally:\n",
    "        print(\"executing finally clause\")"
   ]
  },
  {
   "cell_type": "code",
   "execution_count": 6,
   "id": "b7c7c688-2483-41b8-a2af-ff76fb85f7ed",
   "metadata": {},
   "outputs": [
    {
     "name": "stdout",
     "output_type": "stream",
     "text": [
      "Error occured! unsupported operand type(s) for /: 'str' and 'str'\n",
      "executing finally clause\n"
     ]
    }
   ],
   "source": [
    "divide('2','1')"
   ]
  },
  {
   "cell_type": "markdown",
   "id": "60e9f532-911a-4ac6-8309-f2396a635641",
   "metadata": {},
   "source": [
    "### Q3. Which Python statements are used to catch and handle exceptions? Explain with an example.<br>\n",
    "\n",
    "**Ans.**<br>\n",
    "The try and except block in Python is used to catch and handle exceptions. Python executes code following the try statement as a “normal” part of the program. The code that follows the except statement is the program’s response to any exceptions in the preceding try clause."
   ]
  },
  {
   "cell_type": "code",
   "execution_count": 15,
   "id": "345a616b-1598-4264-a5e8-449cbadbc75e",
   "metadata": {},
   "outputs": [
    {
     "name": "stdout",
     "output_type": "stream",
     "text": [
      "Error: cannot add an int and a str\n"
     ]
    }
   ],
   "source": [
    "x = 5\n",
    "y = \"hello\"\n",
    "try:\n",
    "\tz = x + y\n",
    "except TypeError:\n",
    "\tprint(\"Error: cannot add an int and a str\")"
   ]
  },
  {
   "cell_type": "markdown",
   "id": "aa885c7b-36a0-426d-832d-16f69f89ca59",
   "metadata": {},
   "source": [
    "### Q4. Explain with an example: <br>\n",
    "\n",
    "* a. try and else<br>\n",
    "* b. finally<br>\n",
    "* c. raise<br>\n",
    "\n",
    "**Ans.** <br>\n",
    "* **1. try :-** The try block lets you test a block of code for errors.\n",
    "* **Else:-** If there is no exception then this block will be executed.\n"
   ]
  },
  {
   "cell_type": "code",
   "execution_count": 8,
   "id": "e125e466-3d30-4721-8acb-3e04be2ff533",
   "metadata": {},
   "outputs": [
    {
     "name": "stdin",
     "output_type": "stream",
     "text": [
      "Enter your age:  -3\n"
     ]
    },
    {
     "name": "stdout",
     "output_type": "stream",
     "text": [
      "You are not allowed to enter, you are too young.\n"
     ]
    }
   ],
   "source": [
    "try:\n",
    "    age=int(input('Enter your age: '))\n",
    "except:\n",
    "    print ('You have entered an invalid value.')\n",
    "else:\n",
    "    if age <= 21:\n",
    "        print('You are not allowed to enter, you are too young.')\n",
    "    else:\n",
    "        print('Welcome, you are old enough.')"
   ]
  },
  {
   "cell_type": "markdown",
   "id": "8622fb3e-05ca-4371-ae03-671b9fadb594",
   "metadata": {},
   "source": [
    "* **2. finally:-** The finally block lets you execute code, regardless of the result of the try- and except blocks. <br>\n",
    "Python provides a keyword finally, which is always executed after try and except blocks. The finally block always executes after normal termination of try block or after try block terminates due to some exception. Even if you return in the except block still the finally block will execute."
   ]
  },
  {
   "cell_type": "code",
   "execution_count": 9,
   "id": "9cf2c7be-0a90-4a0e-8301-6d3b8fd05a9b",
   "metadata": {},
   "outputs": [
    {
     "name": "stdout",
     "output_type": "stream",
     "text": [
      "Yeah ! Your answer is : 1\n",
      "This is always executed\n",
      "Sorry ! You are dividing by zero \n",
      "This is always executed\n"
     ]
    }
   ],
   "source": [
    "# Python code to illustrate\n",
    "# working of try()\n",
    "def divide(x, y):\n",
    "\ttry:\n",
    "\t\t# Floor Division : Gives only Fractional\n",
    "\t\t# Part as Answer\n",
    "\t\tresult = x // y\n",
    "\texcept ZeroDivisionError:\n",
    "\t\tprint(\"Sorry ! You are dividing by zero \")\n",
    "\telse:\n",
    "\t\tprint(\"Yeah ! Your answer is :\", result)\n",
    "\tfinally:\n",
    "\t\t# this block is always executed\n",
    "\t\t# regardless of exception generation.\n",
    "\t\tprint('This is always executed')\n",
    "\n",
    "# Look at parameters and note the working of Program\n",
    "divide(3, 2)\n",
    "divide(3, 0)"
   ]
  },
  {
   "cell_type": "markdown",
   "id": "fc5d3c05-cde0-4936-9f80-36174551ab66",
   "metadata": {},
   "source": [
    "* **3. raise:-** The raise keyword is used to raise an exception. You can define what kind of error to raise, and the text to print to the user.\n",
    "<br>\n",
    "Python raise Keyword is used to raise exceptions or errors. The raise keyword raises an error and stops the control flow of the program. It is used to bring up the current exception in an exception handler so that it can be handled further up the call stack."
   ]
  },
  {
   "cell_type": "code",
   "execution_count": 1,
   "id": "3757af54-1f3a-4bcc-a9e0-4247e5832f29",
   "metadata": {},
   "outputs": [
    {
     "ename": "Exception",
     "evalue": "The number shouldn't be an odd integer",
     "output_type": "error",
     "traceback": [
      "\u001b[0;31m---------------------------------------------------------------------------\u001b[0m",
      "\u001b[0;31mException\u001b[0m                                 Traceback (most recent call last)",
      "Cell \u001b[0;32mIn[1], line 4\u001b[0m\n\u001b[1;32m      1\u001b[0m a \u001b[38;5;241m=\u001b[39m \u001b[38;5;241m5\u001b[39m\n\u001b[1;32m      3\u001b[0m \u001b[38;5;28;01mif\u001b[39;00m a \u001b[38;5;241m%\u001b[39m \u001b[38;5;241m2\u001b[39m \u001b[38;5;241m!=\u001b[39m \u001b[38;5;241m0\u001b[39m:\n\u001b[0;32m----> 4\u001b[0m \t\u001b[38;5;28;01mraise\u001b[39;00m \u001b[38;5;167;01mException\u001b[39;00m(\u001b[38;5;124m\"\u001b[39m\u001b[38;5;124mThe number shouldn\u001b[39m\u001b[38;5;124m'\u001b[39m\u001b[38;5;124mt be an odd integer\u001b[39m\u001b[38;5;124m\"\u001b[39m)\n",
      "\u001b[0;31mException\u001b[0m: The number shouldn't be an odd integer"
     ]
    }
   ],
   "source": [
    "a = 5\n",
    "\n",
    "if a % 2 != 0:\n",
    "\traise Exception(\"The number shouldn't be an odd integer\")\n"
   ]
  },
  {
   "cell_type": "code",
   "execution_count": 2,
   "id": "97e2bccd-a4eb-42dd-9785-ff275df82ea2",
   "metadata": {},
   "outputs": [
    {
     "ename": "ValueError",
     "evalue": "String can't be changed into integer",
     "output_type": "error",
     "traceback": [
      "\u001b[0;31m---------------------------------------------------------------------------\u001b[0m",
      "\u001b[0;31mValueError\u001b[0m                                Traceback (most recent call last)",
      "Cell \u001b[0;32mIn[2], line 4\u001b[0m\n\u001b[1;32m      3\u001b[0m \u001b[38;5;28;01mtry\u001b[39;00m:\n\u001b[0;32m----> 4\u001b[0m \tnum \u001b[38;5;241m=\u001b[39m \u001b[38;5;28;43mint\u001b[39;49m\u001b[43m(\u001b[49m\u001b[43ms\u001b[49m\u001b[43m)\u001b[49m\n\u001b[1;32m      5\u001b[0m \u001b[38;5;28;01mexcept\u001b[39;00m \u001b[38;5;167;01mValueError\u001b[39;00m:\n",
      "\u001b[0;31mValueError\u001b[0m: invalid literal for int() with base 10: 'apple'",
      "\nDuring handling of the above exception, another exception occurred:\n",
      "\u001b[0;31mValueError\u001b[0m                                Traceback (most recent call last)",
      "Cell \u001b[0;32mIn[2], line 6\u001b[0m\n\u001b[1;32m      4\u001b[0m \tnum \u001b[38;5;241m=\u001b[39m \u001b[38;5;28mint\u001b[39m(s)\n\u001b[1;32m      5\u001b[0m \u001b[38;5;28;01mexcept\u001b[39;00m \u001b[38;5;167;01mValueError\u001b[39;00m:\n\u001b[0;32m----> 6\u001b[0m \t\u001b[38;5;28;01mraise\u001b[39;00m \u001b[38;5;167;01mValueError\u001b[39;00m(\u001b[38;5;124m\"\u001b[39m\u001b[38;5;124mString can\u001b[39m\u001b[38;5;124m'\u001b[39m\u001b[38;5;124mt be changed into integer\u001b[39m\u001b[38;5;124m\"\u001b[39m)\n",
      "\u001b[0;31mValueError\u001b[0m: String can't be changed into integer"
     ]
    }
   ],
   "source": [
    "s = 'apple'\n",
    "\n",
    "try:\n",
    "\tnum = int(s)\n",
    "except ValueError:\n",
    "\traise ValueError(\"String can't be changed into integer\")"
   ]
  },
  {
   "cell_type": "markdown",
   "id": "13055070-1ef1-4984-9929-aa9efe93d6b6",
   "metadata": {},
   "source": [
    "### Q5. What are Custom Exceptions in Python? Why do we need Custom Exceptions? Explain with an example.<br>\n",
    "\n",
    "**Ans.** <br>\n",
    "In Python, we can define custom exceptions by creating a new class that is derived from the built-in Exception class.\n",
    "\n",
    "Built-in exceptions offer information about Python-related problems, and custom exceptions will add information about project-related problems. That way, you can design your code (and traceback, if an exception is raised) in a way that combines Python code with the language of the project.\n"
   ]
  },
  {
   "cell_type": "code",
   "execution_count": 5,
   "id": "a2ea055e-8e06-4feb-b957-e443e07b1f82",
   "metadata": {},
   "outputs": [
    {
     "name": "stdin",
     "output_type": "stream",
     "text": [
      "Enter a number:  16\n"
     ]
    },
    {
     "name": "stdout",
     "output_type": "stream",
     "text": [
      "Exception occurred: Invalid Age\n"
     ]
    }
   ],
   "source": [
    "# define Python user-defined exceptions\n",
    "class InvalidAgeException(Exception):\n",
    "    \"Raised when the input value is less than 18\"\n",
    "    pass\n",
    "\n",
    "# you need to guess this number\n",
    "number = 18\n",
    "\n",
    "try:\n",
    "    input_num = int(input(\"Enter a number: \"))\n",
    "    if input_num < number:\n",
    "        raise InvalidAgeException\n",
    "    else:\n",
    "        print(\"Eligible to Vote\")\n",
    "        \n",
    "except InvalidAgeException:\n",
    "    print(\"Exception occurred: Invalid Age\")"
   ]
  },
  {
   "cell_type": "code",
   "execution_count": 6,
   "id": "92c7a110-fd5a-41a1-81f2-4d076b834f5f",
   "metadata": {},
   "outputs": [
    {
     "name": "stdin",
     "output_type": "stream",
     "text": [
      "Enter a number:  15\n"
     ]
    }
   ],
   "source": [
    "# define Python user-defined exceptions\n",
    "class Error(Exception):\n",
    "\t\"\"\"Base class for other exceptions\"\"\"\n",
    "\tpass\n",
    "\n",
    "class zerodivision(Error):\n",
    "\t\"\"\"Raised when the input value is zero\"\"\"\n",
    "\tpass\n",
    "\n",
    "try:\n",
    "\ti_num = int(input(\"Enter a number: \"))\n",
    "\tif i_num == 0:\n",
    "\t\traise zerodivision\n",
    "except zerodivision:\n",
    "\tprint(\"Input value is zero, try again!\")\n",
    "\tprint()"
   ]
  },
  {
   "cell_type": "markdown",
   "id": "2edf7d8f-82d1-480c-8c1e-1d253f22c73b",
   "metadata": {},
   "source": [
    "### Q6. Create a custom Exceptions class. Use this class to handle an exception.<br>\n",
    "\n",
    "**Ans.** <br>\n"
   ]
  },
  {
   "cell_type": "code",
   "execution_count": 7,
   "id": "02e498e0-883d-41f9-a1ba-471830d6e0c6",
   "metadata": {},
   "outputs": [],
   "source": [
    "class validateage(Exception) : \n",
    "    def __init__(self, msg) :\n",
    "        self.msg = msg"
   ]
  },
  {
   "cell_type": "code",
   "execution_count": 8,
   "id": "ba662cd0-6c1f-4247-999d-eb93a5573798",
   "metadata": {},
   "outputs": [],
   "source": [
    "def validate_age(age) : \n",
    "    if age < 0 : \n",
    "        raise validateage(\"age should not be lesser then zeor \" )\n",
    "    elif age > 200 : \n",
    "        raise validateage(\"age is too high \" )\n",
    "        \n",
    "    else :\n",
    "        print(\"age is valid\" )"
   ]
  },
  {
   "cell_type": "code",
   "execution_count": 9,
   "id": "d8d73a85-c95f-4c75-8675-5b7c70165edf",
   "metadata": {},
   "outputs": [
    {
     "name": "stdin",
     "output_type": "stream",
     "text": [
      "enter your age 45\n"
     ]
    },
    {
     "name": "stdout",
     "output_type": "stream",
     "text": [
      "age is valid\n"
     ]
    }
   ],
   "source": [
    "try : \n",
    "    age = int(input(\"enter your age\"))\n",
    "    validate_age(age)\n",
    "except validateage as e : \n",
    "    print(e)"
   ]
  }
 ],
 "metadata": {
  "kernelspec": {
   "display_name": "Python 3 (ipykernel)",
   "language": "python",
   "name": "python3"
  },
  "language_info": {
   "codemirror_mode": {
    "name": "ipython",
    "version": 3
   },
   "file_extension": ".py",
   "mimetype": "text/x-python",
   "name": "python",
   "nbconvert_exporter": "python",
   "pygments_lexer": "ipython3",
   "version": "3.10.8"
  }
 },
 "nbformat": 4,
 "nbformat_minor": 5
}
