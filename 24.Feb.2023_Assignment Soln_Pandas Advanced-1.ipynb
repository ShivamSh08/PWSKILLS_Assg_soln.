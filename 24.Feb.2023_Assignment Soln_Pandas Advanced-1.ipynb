{
 "cells": [
  {
   "cell_type": "markdown",
   "id": "dd4b6c7c-204f-44ec-a2be-1a7e42ed9147",
   "metadata": {},
   "source": [
    "#### Q1. List any five functions of the pandas library with execution."
   ]
  },
  {
   "cell_type": "markdown",
   "id": "1f27b9ca-3007-4d6b-aaf1-a93aa02ac13f",
   "metadata": {},
   "source": [
    "Certainly! Here are five functions along with sample executions:\n",
    "\n",
    "1. **`read_csv`**: This function is used to read data from a CSV file into a DataFrame.\n",
    "\n",
    "```python\n",
    "import pandas as pd\n",
    "\n",
    "# Assuming you have a CSV file named 'example.csv'\n",
    "df = pd.read_csv('example.csv')\n",
    "print(df.head())\n",
    "```\n",
    "\n",
    "2. **`head`**: This method is used to display the first n rows of a DataFrame.\n",
    "\n",
    "```python\n",
    "# Assuming 'df' is a DataFrame\n",
    "print(df.head(3))\n",
    "```\n",
    "\n",
    "3. **`info`**: This method is used to get a concise summary of the DataFrame, including information about the data types and missing values.\n",
    "\n",
    "```python\n",
    "# Assuming 'df' is a DataFrame\n",
    "print(df.info())\n",
    "```\n",
    "\n",
    "4. **`describe`**: This method generates descriptive statistics of the DataFrame, such as count, mean, std (standard deviation), min, and max.\n",
    "\n",
    "```python\n",
    "# Assuming 'df' is a DataFrame\n",
    "print(df.describe())\n",
    "```\n",
    "\n",
    "5. **`groupby`**: This method is used to group data based on one or more columns and perform operations on each group.\n",
    "\n",
    "```python\n",
    "# Assuming 'df' is a DataFrame with columns 'category' and 'value'\n",
    "grouped_df = df.groupby('category').sum()\n",
    "print(grouped_df)\n",
    "```"
   ]
  },
  {
   "cell_type": "markdown",
   "id": "6a4f53c2-ce94-4678-8763-ffa9c4380114",
   "metadata": {},
   "source": [
    "#### Q2. Given a Pandas DataFrame df with columns 'A', 'B', and 'C', write a Python function to re-index the DataFrame with a new index that starts from 1 and increments by 2 for each row."
   ]
  },
  {
   "cell_type": "code",
   "execution_count": 9,
   "id": "52461cd9-54e6-4f85-92c5-1c2099b97dc3",
   "metadata": {},
   "outputs": [
    {
     "name": "stdout",
     "output_type": "stream",
     "text": [
      "    A   B   C\n",
      "1  10  40  70\n",
      "3  20  50  80\n",
      "5  30  60  90\n"
     ]
    }
   ],
   "source": [
    "import pandas as pd\n",
    "\n",
    "def reindex_dataframe(df):\n",
    "    # Reset the index and create a new index starting from 1 and incrementing by 2\n",
    "    df_reindexed = df.reset_index(drop=True)\n",
    "    df_reindexed.index = df_reindexed.index * 2 + 1\n",
    "\n",
    "    return df_reindexed\n",
    "\n",
    "# Example usage:\n",
    "# Assuming 'df' is your DataFrame with columns 'A', 'B', and 'C'\n",
    "df = pd.DataFrame({'A': [10, 20, 30], 'B': [40, 50, 60], 'C': [70, 80, 90]})\n",
    "\n",
    "# Call the function to re-index the DataFrame\n",
    "df_reindexed = reindex_dataframe(df)\n",
    "\n",
    "# Display the re-indexed DataFrame\n",
    "print(df_reindexed)"
   ]
  },
  {
   "cell_type": "code",
   "execution_count": 10,
   "id": "a706e813-d225-4cfc-98b8-aa889f63277d",
   "metadata": {},
   "outputs": [
    {
     "name": "stdout",
     "output_type": "stream",
     "text": [
      "    A   B   C\n",
      "1  10  40  70\n",
      "3  20  50  80\n",
      "5  30  60  90\n"
     ]
    }
   ],
   "source": [
    "def reindex_dataframe(df):\n",
    "    # Create a new index starting from 1 and incrementing by 2\n",
    "    new_index = range(1, 2 * len(df) + 1, 2)\n",
    "\n",
    "    # Use the set_index function to set the new index\n",
    "    df_reindexed = df.set_index(pd.Index(new_index))\n",
    "\n",
    "    return df_reindexed\n",
    "\n",
    "# Example usage:\n",
    "# Assuming 'df' is your DataFrame with columns 'A', 'B', and 'C'\n",
    "df = pd.DataFrame({'A': [10, 20, 30], 'B': [40, 50, 60], 'C': [70, 80, 90]})\n",
    "\n",
    "# Call the function to re-index the DataFrame\n",
    "df_reindexed = reindex_dataframe(df)\n",
    "\n",
    "# Display the re-indexed DataFrame\n",
    "print(df_reindexed)\n"
   ]
  },
  {
   "cell_type": "markdown",
   "id": "6eb6e304-1ffd-489a-b237-c5e94761567d",
   "metadata": {},
   "source": [
    "#### Q3. You have a Pandas DataFrame df with a column named 'Values'. Write a Python function that iterates over the DataFrame and calculates the sum of the first three values in the 'Values' column. The function should print the sum to the console.\n",
    "\n",
    "\n",
    "#### For example, if the 'Values' column of df contains the values [10, 20, 30, 40, 50], your function should calculate and print the sum of the first three values, which is 60."
   ]
  },
  {
   "cell_type": "code",
   "execution_count": 11,
   "id": "a4601840-263a-414c-964d-0368be89c29a",
   "metadata": {},
   "outputs": [
    {
     "name": "stdout",
     "output_type": "stream",
     "text": [
      "The sum of the first three values is: 60\n",
      "The sum of the first three values is: 60\n"
     ]
    }
   ],
   "source": [
    "def sum_of_first_three1(df):\n",
    "    # Check if the 'Values' column exists in the DataFrame\n",
    "    if 'Values' in df.columns:\n",
    "        # Calculate and print the sum of the first three values\n",
    "        total_sum = df.loc[:2, 'Values'].sum()\n",
    "        print(f\"The sum of the first three values is: {total_sum}\")\n",
    "    else:\n",
    "        print(\"The 'Values' column is not found in the DataFrame.\")\n",
    "        \n",
    "\n",
    "\n",
    "def sum_of_first_three2(df):\n",
    "    # Check if the 'Values' column exists in the DataFrame\n",
    "    if 'Values' in df.columns:\n",
    "        # Calculate and print the sum of the first three values\n",
    "        total_sum = df['Values'].head(3).sum()\n",
    "        print(f\"The sum of the first three values is: {total_sum}\")\n",
    "    else:\n",
    "        print(\"The 'Values' column is not found in the DataFrame.\")\n",
    "\n",
    "\n",
    "df = pd.DataFrame({'Values': [10, 20, 30, 40, 50]})\n",
    "\n",
    "# Call the function to calculate and print the sum of the first three values\n",
    "sum_of_first_three1(df)\n",
    "sum_of_first_three2(df)"
   ]
  },
  {
   "cell_type": "markdown",
   "id": "772538fb-eee6-4d68-be51-fe9d75caed25",
   "metadata": {},
   "source": [
    "#### Q4. Given a Pandas DataFrame df with a column 'Text', write a Python function to create a new column 'Word_Count' that contains the number of words in each row of the 'Text' column."
   ]
  },
  {
   "cell_type": "code",
   "execution_count": 12,
   "id": "0271895c-ec66-4125-9cac-95bec8c4ccd6",
   "metadata": {},
   "outputs": [
    {
     "data": {
      "text/html": [
       "<div>\n",
       "<style scoped>\n",
       "    .dataframe tbody tr th:only-of-type {\n",
       "        vertical-align: middle;\n",
       "    }\n",
       "\n",
       "    .dataframe tbody tr th {\n",
       "        vertical-align: top;\n",
       "    }\n",
       "\n",
       "    .dataframe thead th {\n",
       "        text-align: right;\n",
       "    }\n",
       "</style>\n",
       "<table border=\"1\" class=\"dataframe\">\n",
       "  <thead>\n",
       "    <tr style=\"text-align: right;\">\n",
       "      <th></th>\n",
       "      <th>Text</th>\n",
       "      <th>Word_Count1</th>\n",
       "      <th>Word_Count2</th>\n",
       "    </tr>\n",
       "  </thead>\n",
       "  <tbody>\n",
       "    <tr>\n",
       "      <th>0</th>\n",
       "      <td>This is a sample sentence.</td>\n",
       "      <td>5</td>\n",
       "      <td>5</td>\n",
       "    </tr>\n",
       "    <tr>\n",
       "      <th>1</th>\n",
       "      <td>Count the words in this one.</td>\n",
       "      <td>6</td>\n",
       "      <td>6</td>\n",
       "    </tr>\n",
       "    <tr>\n",
       "      <th>2</th>\n",
       "      <td>A third sentence.</td>\n",
       "      <td>3</td>\n",
       "      <td>3</td>\n",
       "    </tr>\n",
       "  </tbody>\n",
       "</table>\n",
       "</div>"
      ],
      "text/plain": [
       "                           Text  Word_Count1  Word_Count2\n",
       "0    This is a sample sentence.            5            5\n",
       "1  Count the words in this one.            6            6\n",
       "2             A third sentence.            3            3"
      ]
     },
     "execution_count": 12,
     "metadata": {},
     "output_type": "execute_result"
    }
   ],
   "source": [
    "def add_word_count(df):\n",
    "    # Check if the 'Text' column exists in the DataFrame\n",
    "    if 'Text' in df.columns:\n",
    "        # Apply a lambda function to count words in each row and create a new column 'Word_Count'\n",
    "        df['Word_Count1'] = df['Text'].apply(lambda x: len(str(x).split()))\n",
    "        df['Word_Count2'] = df['Text'].str.split().str.len()\n",
    "    else:\n",
    "        print(\"The 'Text' column is not found in the DataFrame.\")     \n",
    "        \n",
    "        \n",
    "        \n",
    "# Example usage:\n",
    "# Assuming 'df' is your DataFrame with a 'Text' column\n",
    "df = pd.DataFrame({'Text': [\"This is a sample sentence.\", \"Count the words in this one.\", \"A third sentence.\"]})\n",
    "\n",
    "# Call the function to add the 'Word_Count' column\n",
    "add_word_count(df)\n",
    "\n",
    "# Display the DataFrame with the new 'Word_Count' column\n",
    "df"
   ]
  },
  {
   "cell_type": "markdown",
   "id": "3b18429e-2d6f-433f-90e4-67fcd9b44ccd",
   "metadata": {},
   "source": [
    "#### Q5. How are DataFrame.size() and DataFrame.shape() different?"
   ]
  },
  {
   "cell_type": "markdown",
   "id": "2b33efd8-55ed-4f6d-9749-43233ebe2f7b",
   "metadata": {},
   "source": [
    "There is a difference in the functionality and purpose between `DataFrame.size` and `DataFrame.shape` in pandas:\n",
    "\n",
    "1. **`DataFrame.size`**:\n",
    "   - The `DataFrame.size` attribute returns the total number of elements in the DataFrame, which is equivalent to the total number of cells.\n",
    "   - It calculates the size by multiplying the number of rows by the number of columns.\n",
    "\n",
    "   Example:\n",
    "   ```python\n",
    "   import pandas as pd\n",
    "\n",
    "   df = pd.DataFrame({'A': [1, 2, 3], 'B': [4, 5, 6]})\n",
    "   size_result = df.size\n",
    "   print(size_result)  # Output: 6 (3 rows * 2 columns)\n",
    "   ```\n",
    "\n",
    "2. **`DataFrame.shape`**:\n",
    "   - The `DataFrame.shape` attribute returns a tuple representing the dimensions of the DataFrame.\n",
    "   - The tuple contains two values: the number of rows and the number of columns.\n",
    "\n",
    "   Example:\n",
    "   ```python\n",
    "   import pandas as pd\n",
    "\n",
    "   df = pd.DataFrame({'A': [1, 2, 3], 'B': [4, 5, 6]})\n",
    "   shape_result = df.shape\n",
    "   print(shape_result)  # Output: (3, 2) (3 rows, 2 columns)\n",
    "   ```\n",
    "\n",
    "In summary:\n",
    "\n",
    "- `DataFrame.size` provides the total number of elements in the DataFrame.\n",
    "- `DataFrame.shape` provides a tuple representing the dimensions of the DataFrame (number of rows, number of columns).\n",
    "\n",
    "Keep in mind that both `DataFrame.size` and `DataFrame.shape` are attributes, not methods, so you should access them without parentheses."
   ]
  },
  {
   "cell_type": "markdown",
   "id": "03f86e5f-4804-4c4f-beb9-408fb6960428",
   "metadata": {},
   "source": [
    "#### Q6. Which function of pandas do we use to read an excel file?"
   ]
  },
  {
   "cell_type": "markdown",
   "id": "d4fde44d-b6b4-4779-a17a-72b51aed852e",
   "metadata": {},
   "source": [
    "To read an Excel file in pandas, we can use the `pd.read_excel()` function. This function is part of the pandas library and is specifically designed for reading data from Excel files.\n",
    "\n",
    "Here's an example of how to use `pd.read_excel()`:\n",
    "\n",
    "```python\n",
    "# Replace 'your_file.xlsx' with the actual path to your Excel file\n",
    "df = pd.read_excel('your_file.xlsx')\n",
    "\n",
    "# Now 'df' is a DataFrame containing the data from the Excel file\n",
    "```"
   ]
  },
  {
   "cell_type": "markdown",
   "id": "113c3391-e885-4c2c-bb5d-73c474458390",
   "metadata": {},
   "source": [
    "#### Q7. You have a Pandas DataFrame df that contains a column named 'Email' that contains email addresses in the format 'username@domain.com'. Write a Python function that creates a new column 'Username' in df that contains only the username part of each email address.\n",
    "\n",
    "\n",
    "#### The username is the part of the email address that appears before the '@' symbol. For example, if the email address is 'john.doe@example.com', the 'Username' column should contain 'john.doe'. Your function should extract the username from each email address and store it in the new 'Username' column."
   ]
  },
  {
   "cell_type": "code",
   "execution_count": 13,
   "id": "879e4b5e-c9bf-4ca1-b683-fe6def8d09e9",
   "metadata": {},
   "outputs": [
    {
     "data": {
      "text/html": [
       "<div>\n",
       "<style scoped>\n",
       "    .dataframe tbody tr th:only-of-type {\n",
       "        vertical-align: middle;\n",
       "    }\n",
       "\n",
       "    .dataframe tbody tr th {\n",
       "        vertical-align: top;\n",
       "    }\n",
       "\n",
       "    .dataframe thead th {\n",
       "        text-align: right;\n",
       "    }\n",
       "</style>\n",
       "<table border=\"1\" class=\"dataframe\">\n",
       "  <thead>\n",
       "    <tr style=\"text-align: right;\">\n",
       "      <th></th>\n",
       "      <th>Email</th>\n",
       "      <th>Username_1</th>\n",
       "      <th>Username_2</th>\n",
       "      <th>Username_3</th>\n",
       "    </tr>\n",
       "  </thead>\n",
       "  <tbody>\n",
       "    <tr>\n",
       "      <th>0</th>\n",
       "      <td>john.doe@example.com</td>\n",
       "      <td>john.doe</td>\n",
       "      <td>john.doe</td>\n",
       "      <td>john.doe</td>\n",
       "    </tr>\n",
       "    <tr>\n",
       "      <th>1</th>\n",
       "      <td>jane.smith@example.com</td>\n",
       "      <td>jane.smith</td>\n",
       "      <td>jane.smith</td>\n",
       "      <td>jane.smith</td>\n",
       "    </tr>\n",
       "    <tr>\n",
       "      <th>2</th>\n",
       "      <td>bob.jones@example.com</td>\n",
       "      <td>bob.jones</td>\n",
       "      <td>bob.jones</td>\n",
       "      <td>bob.jones</td>\n",
       "    </tr>\n",
       "  </tbody>\n",
       "</table>\n",
       "</div>"
      ],
      "text/plain": [
       "                    Email  Username_1  Username_2  Username_3\n",
       "0    john.doe@example.com    john.doe    john.doe    john.doe\n",
       "1  jane.smith@example.com  jane.smith  jane.smith  jane.smith\n",
       "2   bob.jones@example.com   bob.jones   bob.jones   bob.jones"
      ]
     },
     "execution_count": 13,
     "metadata": {},
     "output_type": "execute_result"
    }
   ],
   "source": [
    "import pandas as pd\n",
    "\n",
    "def extract_username_method1(df):\n",
    "    # Use str.split() and str.get() to extract the username\n",
    "    df['Username_1'] = df['Email'].str.split('@').str.get(0)\n",
    "    \n",
    "    # Use apply with a lambda function to extract the username\n",
    "    df['Username_2'] = df['Email'].apply(lambda x: x.split('@')[0])\n",
    "    \n",
    "     # Use str.split() and str.get() to extract the username\n",
    "    df['Username_3'] = df['Email'].str.split('@').str[0]\n",
    "    return df\n",
    "\n",
    "# Example usage:\n",
    "df = pd.DataFrame({'Email': ['john.doe@example.com', 'jane.smith@example.com', 'bob.jones@example.com']})\n",
    "result_df = extract_username_method1(df)\n",
    "result_df"
   ]
  },
  {
   "cell_type": "markdown",
   "id": "4758c623-bbfa-464a-9fd7-7d2398bd4069",
   "metadata": {},
   "source": [
    "#### Q8. You have a Pandas DataFrame df with columns 'A', 'B', and 'C'. Write a Python function that selects all rows where the value in column 'A' is greater than 5 and the value in column 'B' is less than 10. The function should return a new DataFrame that contains only the selected rows.\n",
    "\n",
    "#### (For example, if df contains the following values:\n",
    "\n",
    "#### A B C\n",
    "\n",
    "#### 0 3 5 1\n",
    "\n",
    "#### 1 8 2 7\n",
    "\n",
    "#### 2 6 9 4\n",
    "\n",
    "#### 3 2 3 5\n",
    "\n",
    "#### 4 9 1 2\n",
    "\n",
    "#### Your function should select the following rows: \n",
    "\n",
    "#### A B C\n",
    "\n",
    "#### 1 8 2 7\n",
    "\n",
    "#### 4 9 1 2\n",
    "\n",
    "#### The function should return a new DataFrame that contains only the selected rows."
   ]
  },
  {
   "cell_type": "code",
   "execution_count": 22,
   "id": "5a6fdf08-ad62-4716-95c3-18eb0ccc7d60",
   "metadata": {},
   "outputs": [
    {
     "name": "stdout",
     "output_type": "stream",
     "text": [
      "   A  B  C\n",
      "1  8  2  7\n",
      "2  6  9  4\n",
      "4  9  1  2\n"
     ]
    }
   ],
   "source": [
    "def select_rows_1(df):\n",
    "    # Select rows where 'A' > 5 and 'B' < 10\n",
    "    selected_rows_1 = df[(df['A'] > 5) & (df['B'] < 10)]\n",
    "    return selected_rows_1\n",
    "\n",
    "# Example usage:\n",
    "# Assuming 'df' is your DataFrame with columns 'A', 'B', and 'C'\n",
    "df = pd.DataFrame({'A' : [3,8,6,2,9], 'B': [5,2,9,3,1], 'C':[1,7,4,5,2]})\n",
    "\n",
    "\n",
    "# Call the function to select rows based on conditions\n",
    "result_df_1 = select_rows_1(df)\n",
    "\n",
    "# Display the resulting DataFrame\n",
    "print(result_df_1)\n"
   ]
  },
  {
   "cell_type": "code",
   "execution_count": 23,
   "id": "e517f1ea-e0bc-4aab-a6c8-d853901e310f",
   "metadata": {},
   "outputs": [
    {
     "name": "stdout",
     "output_type": "stream",
     "text": [
      "   A  B   C\n",
      "1  7  5  15\n"
     ]
    }
   ],
   "source": [
    "def select_rows_2(df):\n",
    "    # Use the query method to select rows based on conditions\n",
    "    selected_rows_2 = df.query('A > 5 and B < 10')\n",
    "    return selected_rows_2\n",
    "\n",
    "# Example usage:\n",
    "# Assuming 'df' is your DataFrame with columns 'A', 'B', and 'C'\n",
    "df = pd.DataFrame({'A': [4, 7, 2, 9], 'B': [8, 5, 3, 12], 'C': [10, 15, 20, 25]})\n",
    "\n",
    "# Call the function to select rows based on conditions\n",
    "result_df_2 = select_rows_2(df)\n",
    "\n",
    "# Display the resulting DataFrame\n",
    "print(result_df_2)\n"
   ]
  },
  {
   "cell_type": "code",
   "execution_count": 24,
   "id": "c71a2eb5-a7ab-4e97-b079-a2ad379bf2ea",
   "metadata": {},
   "outputs": [
    {
     "name": "stdout",
     "output_type": "stream",
     "text": [
      "   A  B  C\n",
      "1  8  2  7\n",
      "2  6  9  4\n",
      "4  9  1  2\n"
     ]
    }
   ],
   "source": [
    "def select_rows_3(df):\n",
    "    # Use the query method to select rows based on conditions\n",
    "    selected_rows_3 = df.loc[(df['A'] > 5) & (df['B'] < 10)]\n",
    "    return selected_rows_3\n",
    "\n",
    "# Example usage:\n",
    "# Assuming 'df' is your DataFrame with columns 'A', 'B', and 'C'\n",
    "df = pd.DataFrame({'A' : [3,8,6,2,9], 'B': [5,2,9,3,1], 'C':[1,7,4,5,2]})\n",
    "\n",
    "# Call the function to select rows based on conditions\n",
    "result_df_3 = select_rows_3(df)\n",
    "\n",
    "# Display the resulting DataFrame\n",
    "print(result_df_3)\n"
   ]
  },
  {
   "cell_type": "code",
   "execution_count": 25,
   "id": "fcc24fda-cb51-4c74-a008-6bbc1b0675b7",
   "metadata": {},
   "outputs": [
    {
     "name": "stdout",
     "output_type": "stream",
     "text": [
      "   A  B  C\n",
      "1  8  2  7\n",
      "2  6  9  4\n",
      "4  9  1  2\n"
     ]
    }
   ],
   "source": [
    "def select_rows_4(df):\n",
    "    # Use the query method to select rows based on conditions\n",
    "    selected_rows_4 = df[df['A'].gt(5) & df['B'].lt(10)]\n",
    "    return selected_rows_4\n",
    "\n",
    "# Example usage:\n",
    "# Assuming 'df' is your DataFrame with columns 'A', 'B', and 'C'\n",
    "df = pd.DataFrame({'A' : [3,8,6,2,9], 'B': [5,2,9,3,1], 'C':[1,7,4,5,2]})\n",
    "\n",
    "# Call the function to select rows based on conditions\n",
    "result_df_4 = select_rows_4(df)\n",
    "\n",
    "# Display the resulting DataFrame\n",
    "print(result_df_4)\n"
   ]
  },
  {
   "cell_type": "markdown",
   "id": "d6eb9fb1-701a-4fb0-8f2a-8146a53edf89",
   "metadata": {},
   "source": [
    "#### Q9. Given a Pandas DataFrame df with a column 'Values', write a Python function to calculate the mean, median, and standard deviation of the values in the 'Values' column."
   ]
  },
  {
   "cell_type": "code",
   "execution_count": 26,
   "id": "213586a3-cb33-4d14-8d8a-7f57d9b9e03b",
   "metadata": {},
   "outputs": [
    {
     "name": "stdout",
     "output_type": "stream",
     "text": [
      "Mean: 30.0\n",
      "Median: 30.0\n",
      "Standard Deviation: 15.811388300841896\n"
     ]
    }
   ],
   "source": [
    "def calculate_statistics(df):\n",
    "    # Check if the 'Values' column exists in the DataFrame\n",
    "    if 'Values' in df.columns:\n",
    "        # Calculate mean, median, and standard deviation\n",
    "        mean_value = df['Values'].mean()\n",
    "        median_value = df['Values'].median()\n",
    "        std_deviation = df['Values'].std()\n",
    "\n",
    "        # Display the results\n",
    "        print(f\"Mean: {mean_value}\")\n",
    "        print(f\"Median: {median_value}\")\n",
    "        print(f\"Standard Deviation: {std_deviation}\")\n",
    "    else:\n",
    "        print(\"The 'Values' column is not found in the DataFrame.\")\n",
    "\n",
    "# Example usage:\n",
    "# Assuming 'df' is your DataFrame with a 'Values' column\n",
    "df = pd.DataFrame({'Values': [10, 20, 30, 40, 50]})\n",
    "\n",
    "# Call the function to calculate statistics\n",
    "calculate_statistics(df)\n"
   ]
  },
  {
   "cell_type": "markdown",
   "id": "0c4ff597-45fe-4fda-a3e2-0e996e024ec3",
   "metadata": {},
   "source": [
    "#### Q10. Given a Pandas DataFrame df with a column 'Sales' and a column 'Date', write a Python function to create a new column 'MovingAverage' that contains the moving average of the sales for the past 7 days for each row in the DataFrame. The moving average should be calculated using a window of size 7 and should include the current day."
   ]
  },
  {
   "cell_type": "code",
   "execution_count": 27,
   "id": "4f750979-3209-4d7d-8db0-570ce1d66def",
   "metadata": {},
   "outputs": [
    {
     "name": "stdout",
     "output_type": "stream",
     "text": [
      "        Date  Sales  MovingAverage\n",
      "0 2023-01-01     10           10.0\n",
      "1 2023-01-02     15           12.5\n",
      "2 2023-01-03     20           15.0\n",
      "3 2023-01-04     25           17.5\n",
      "4 2023-01-05     30           20.0\n",
      "5 2023-01-06     35           22.5\n",
      "6 2023-01-07     40           25.0\n"
     ]
    }
   ],
   "source": [
    "def calculate_moving_average(df):\n",
    "    # Check if the 'Sales' and 'Date' columns exist in the DataFrame\n",
    "    if 'Sales' in df.columns and 'Date' in df.columns:\n",
    "        # Convert the 'Date' column to datetime type if it's not already\n",
    "        df['Date'] = pd.to_datetime(df['Date'])\n",
    "        \n",
    "        # Sort the DataFrame by 'Date' to ensure correct rolling calculation\n",
    "        df = df.sort_values(by='Date')\n",
    "\n",
    "        # Calculate the moving average using a window of size 7\n",
    "        df['MovingAverage'] = df['Sales'].rolling(window=7, min_periods=1).mean()\n",
    "\n",
    "        return df\n",
    "    else:\n",
    "        print(\"The 'Sales' or 'Date' column is not found in the DataFrame.\")\n",
    "        return None\n",
    "\n",
    "# Example usage:\n",
    "# Assuming 'df' is your DataFrame with 'Sales' and 'Date' columns\n",
    "df = pd.DataFrame({\n",
    "    'Date': ['2023-01-01', '2023-01-02', '2023-01-03', '2023-01-04', '2023-01-05', '2023-01-06', '2023-01-07'],\n",
    "    'Sales': [10, 15, 20, 25, 30, 35, 40]\n",
    "})\n",
    "\n",
    "# Call the function to calculate the moving average\n",
    "result_df = calculate_moving_average(df)\n",
    "\n",
    "# Display the resulting DataFrame\n",
    "print(result_df)\n"
   ]
  },
  {
   "cell_type": "markdown",
   "id": "3d6c5960-42d9-4f95-acab-1378e2bfc2d8",
   "metadata": {},
   "source": [
    "#### Q11. You have a Pandas DataFrame df with a column 'Date'. Write a Python function that creates a new column 'Weekday' in the DataFrame. The 'Weekday' column should contain the weekday name (e.g. Monday, Tuesday) corresponding to each date in the 'Date' column. <br> For example, if df contains the following values:<br>Date<br><br>0 2023-01-01<br><br>1 2023-01-02<br><br>2 2023-01-03<br><br>3 2023-01-04<br><br>4 2023-01-05<br><br>Your function should create the following DataFrame:<br><br>Date Weekday<br><br>0 2023-01-01 Sunday<br><br>1 2023-01-02 Monday<br><br>2 2023-01-03 Tuesday<br><br>3 2023-01-04 Wednesday<br><br>4 2023-01-05 Thursday<br><br>The function should return the modified DataFrame.<br>"
   ]
  },
  {
   "cell_type": "code",
   "execution_count": 29,
   "id": "0ef3da5a-061d-4f08-a17c-0855a6ece6eb",
   "metadata": {},
   "outputs": [
    {
     "name": "stdout",
     "output_type": "stream",
     "text": [
      "        Date    Weekday\n",
      "0 2023-01-01     Sunday\n",
      "1 2023-01-02     Monday\n",
      "2 2023-01-03    Tuesday\n",
      "3 2023-01-04  Wednesday\n",
      "4 2023-01-05   Thursday\n"
     ]
    }
   ],
   "source": [
    "def add_weekday_column(df):\n",
    "    # Check if the 'Date' column exists in the DataFrame\n",
    "    if 'Date' in df.columns:\n",
    "        # Convert the 'Date' column to datetime type if it's not already\n",
    "        df['Date'] = pd.to_datetime(df['Date'])\n",
    "\n",
    "        # Add a new 'Weekday' column containing weekday names\n",
    "        # df['Weekday'] = df['Date'].dt.strftime('%A')\n",
    "        # df['Weekday'] = df['Date'].apply(lambda x: x.strftime('%A'))\n",
    "        \n",
    "        df['Weekday'] = df['Date'].dt.day_name()\n",
    "\n",
    "        return df\n",
    "    else:\n",
    "        print(\"The 'Date' column is not found in the DataFrame.\")\n",
    "        return None\n",
    "\n",
    "# Example usage:\n",
    "# Assuming 'df' is DataFrame with a 'Date' column\n",
    "df = pd.DataFrame({'Date': ['2023-01-01', '2023-01-02', '2023-01-03', '2023-01-04', '2023-01-05']})\n",
    "\n",
    "# Call the function to add the 'Weekday' column\n",
    "result_df = add_weekday_column(df)\n",
    "\n",
    "# Display the resulting DataFrame\n",
    "print(result_df)"
   ]
  },
  {
   "cell_type": "markdown",
   "id": "9437fbf5-0dcd-45ae-84c1-d4be9fa53019",
   "metadata": {},
   "source": [
    "#### Q12. Given a Pandas DataFrame df with a column 'Date' that contains timestamps, write a Python function to select all rows where the date is between '2023-01-01' and '2023-01-31'."
   ]
  },
  {
   "cell_type": "code",
   "execution_count": 30,
   "id": "45031fcd-7a5c-4259-9bdd-ac308185a422",
   "metadata": {},
   "outputs": [
    {
     "name": "stdout",
     "output_type": "stream",
     "text": [
      "        Date\n",
      "0 2023-01-01\n",
      "1 2023-01-15\n",
      "2 2023-01-25\n"
     ]
    }
   ],
   "source": [
    "def select_rows_in_date_range(df):\n",
    "    # Check if the 'Date' column exists in the DataFrame\n",
    "    if 'Date' in df.columns:\n",
    "        # Convert the 'Date' column to datetime type if it's not already\n",
    "        df['Date'] = pd.to_datetime(df['Date'])\n",
    "\n",
    "        # Define the date range\n",
    "        start_date = '2023-01-01'\n",
    "        end_date = '2023-01-31'\n",
    "\n",
    "        # Select rows within the date range\n",
    "        selected_rows = df[(df['Date'] >= start_date) & (df['Date'] <= end_date)]\n",
    "\n",
    "        return selected_rows\n",
    "    else:\n",
    "        print(\"The 'Date' column is not found in the DataFrame.\")\n",
    "        return None\n",
    "\n",
    "# Example usage:\n",
    "# Assuming 'df' is DataFrame with a 'Date' column\n",
    "df = pd.DataFrame({\n",
    "    'Date': ['2023-01-01', '2023-01-15', '2023-01-25', '2023-02-05']\n",
    "})\n",
    "\n",
    "# Call the function to select rows within the date range\n",
    "result_df = select_rows_in_date_range(df)\n",
    "\n",
    "# Display the resulting DataFrame\n",
    "print(result_df)"
   ]
  },
  {
   "cell_type": "markdown",
   "id": "fe2a9eac-6252-4877-98ef-a0df4d19c3ab",
   "metadata": {},
   "source": [
    "#### Q13. To use the basic functions of pandas, what is the first and foremost necessary library that needs to be imported?"
   ]
  },
  {
   "cell_type": "markdown",
   "id": "5e7f8c41-3748-4df0-bfd9-fca8818bb4f3",
   "metadata": {},
   "source": [
    "To use the basic functions of pandas, the first and foremost necessary library that needs to be imported is the pandas library itself. We can import it using the following convention:\n",
    "\n",
    "```python\n",
    "import pandas as pd\n",
    "```\n",
    "\n",
    "Here, `pd` is a commonly used alias for the pandas library. This convention makes it easier to reference pandas functions and objects in our code. Once you've imported pandas, we can use its various functions and classes to work with data in a tabular format using DataFrames and Series."
   ]
  }
 ],
 "metadata": {
  "kernelspec": {
   "display_name": "Python 3 (ipykernel)",
   "language": "python",
   "name": "python3"
  },
  "language_info": {
   "codemirror_mode": {
    "name": "ipython",
    "version": 3
   },
   "file_extension": ".py",
   "mimetype": "text/x-python",
   "name": "python",
   "nbconvert_exporter": "python",
   "pygments_lexer": "ipython3",
   "version": "3.10.8"
  }
 },
 "nbformat": 4,
 "nbformat_minor": 5
}
