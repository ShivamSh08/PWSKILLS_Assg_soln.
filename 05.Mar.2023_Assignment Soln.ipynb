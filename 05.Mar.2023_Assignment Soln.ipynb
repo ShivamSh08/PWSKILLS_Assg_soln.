{
 "cells": [
  {
   "cell_type": "markdown",
   "metadata": {},
   "source": [
    "#### Q1. How can you create a Bokeh plot using Python code?<br>\n",
    "\n",
    "**Ans:**<br>"
   ]
  },
  {
   "cell_type": "markdown",
   "metadata": {},
   "source": [
    "**To create a Bokeh plot using Python code, we can follow these steps:**\n",
    "\n",
    "* Install the Bokeh library using pip:<br>\n",
    "\n",
    "*pip install bokeh*\n",
    "\n",
    "**Import the necessary functions and modules from Bokeh and create a figure object:**"
   ]
  },
  {
   "cell_type": "code",
   "execution_count": null,
   "metadata": {},
   "outputs": [],
   "source": [
    "from bokeh.plotting import figure, show"
   ]
  },
  {
   "cell_type": "code",
   "execution_count": null,
   "metadata": {},
   "outputs": [],
   "source": [
    "# Create a figure object\n",
    "p = figure(title=\"My Bokeh Plot\", x_axis_label='X-axis label', y_axis_label='Y-axis label')"
   ]
  },
  {
   "cell_type": "markdown",
   "metadata": {},
   "source": [
    "**Add glyphs (such as circles, lines, bars) to the figure to represent your data:**"
   ]
  },
  {
   "cell_type": "code",
   "execution_count": null,
   "metadata": {},
   "outputs": [],
   "source": [
    "# Example adding circles to the plot\n",
    "p.circle([1, 2, 3, 4, 5], [6, 7, 2, 4, 5], size=15, color=\"navy\", alpha=0.5)"
   ]
  },
  {
   "cell_type": "markdown",
   "metadata": {},
   "source": [
    "**Show the plot using the show() function:**"
   ]
  },
  {
   "cell_type": "code",
   "execution_count": null,
   "metadata": {},
   "outputs": [],
   "source": [
    "show(p)"
   ]
  },
  {
   "cell_type": "markdown",
   "metadata": {},
   "source": [
    "*By following these steps, we can create interactive and visually appealing plots using Bokeh in Python.*"
   ]
  },
  {
   "cell_type": "markdown",
   "metadata": {},
   "source": [
    "#### Q2. What are glyphs in Bokeh, and how can you add them to a Bokeh plot? Explain with an example?<br>\n",
    "\n",
    "**Ans:**<br>"
   ]
  },
  {
   "cell_type": "markdown",
   "metadata": {},
   "source": [
    "**In Bokeh, glyphs are visual shapes or markers used to represent data on a plot. They can be circles, squares, lines, bars, patches, etc. Glyphs are added to a plot to visually display the data.**<br>\n",
    "\n",
    "Here is an example of how you can add glyphs to a Bokeh plot:<br>\n",
    "\n",
    "* Install the Bokeh library using pip:<br>\n",
    "    - pip install bokeh"
   ]
  },
  {
   "cell_type": "markdown",
   "metadata": {},
   "source": [
    "* Import the necessary functions and modules from Bokeh and create a figure object:"
   ]
  },
  {
   "cell_type": "code",
   "execution_count": null,
   "metadata": {},
   "outputs": [],
   "source": [
    "from bokeh.plotting import figure, show\n",
    "\n",
    "# Create a figure object\n",
    "p = figure(title=\"My Bokeh Plot\", x_axis_label='X-axis label', y_axis_label='Y-axis label')"
   ]
  },
  {
   "cell_type": "markdown",
   "metadata": {},
   "source": [
    "* Add glyphs (e.g., circles) to the figure to represent your data"
   ]
  },
  {
   "cell_type": "code",
   "execution_count": null,
   "metadata": {},
   "outputs": [],
   "source": [
    "# Add circles glyph to the plot\n",
    "p.circle([1, 2, 3, 4, 5], [6, 7, 2, 4, 5], size=15, color=\"navy\", alpha=0.5)"
   ]
  },
  {
   "cell_type": "markdown",
   "metadata": {},
   "source": [
    "* Show the plot using the show() function:"
   ]
  },
  {
   "cell_type": "code",
   "execution_count": null,
   "metadata": {},
   "outputs": [],
   "source": [
    "show(p)"
   ]
  },
  {
   "cell_type": "markdown",
   "metadata": {},
   "source": [
    "In this example, the ```circle``` glyph is added to the plot to represent data points with x-coordinates ```[1, 2, 3, 4, 5]``` and y-coordinates ```[6, 7, 2, 4, 5]```. The ```size```, ```color```, and ```alpha``` parameters customize the appearance of the circles. You can add various glyphs like circles, lines, bars, etc., to enhance the visual representation of your data in a Bokeh plot."
   ]
  },
  {
   "cell_type": "markdown",
   "metadata": {},
   "source": [
    "#### Q3. How can you customize the appearance of a Bokeh plot, including the axes, title, and legend?<br>\n",
    "\n",
    "**Ans:**<br>"
   ]
  },
  {
   "cell_type": "markdown",
   "metadata": {},
   "source": [
    "To customize the appearance of a Bokeh plot, including the axes, title, and legend, you can use various properties and methods available in Bokeh. Here is how you can customize these elements:"
   ]
  },
  {
   "cell_type": "markdown",
   "metadata": {},
   "source": [
    "1. Axes customization:<br>\n",
    "\n",
    "     * You can customize the axes by setting properties like axis labels, axis line color, axis label text color, tick font size grid lines, etc.\n",
    "    * Example:"
   ]
  },
  {
   "cell_type": "code",
   "execution_count": null,
   "metadata": {},
   "outputs": [],
   "source": [
    "p.xaxis.axis_label = 'X-axis label'\n",
    "p.yaxis.axis_label = 'Y-axis label'\n",
    "p.xaxis.axis_label_text_color = 'blue'\n",
    "p.yaxis.axis_label_text_font_style = 'italic'"
   ]
  },
  {
   "cell_type": "markdown",
   "metadata": {},
   "source": [
    "2. Title customization: <br>\n",
    "\n",
    "    * You can customize the plot title by setting properties like title text, title text color, title text font size, etc.\n",
    "    * Example:"
   ]
  },
  {
   "cell_type": "code",
   "execution_count": null,
   "metadata": {},
   "outputs": [],
   "source": [
    "p.title.text = 'Customized Bokeh Plot'\n",
    "p.title.text_color = 'green'\n",
    "p.title.text_font_size = '16px'"
   ]
  },
  {
   "cell_type": "markdown",
   "metadata": {},
   "source": [
    "3. Legend customization:\n",
    "    * You can add a legend to the plot and customize it by setting properties like legend location, legend background color, legend title, etc.\n",
    "    * Example:"
   ]
  },
  {
   "cell_type": "code",
   "execution_count": null,
   "metadata": {},
   "outputs": [],
   "source": [
    "# Check if legend exists before customizing\n",
    "if p.legend:\n",
    "    p.add_layout(p.legend[0], 'right')\n",
    "    p.legend.background_fill_color = 'lightgray'\n",
    "    p.legend.label_text_font_style = 'bold'"
   ]
  },
  {
   "cell_type": "markdown",
   "metadata": {},
   "source": [
    "By customizing these elements with the appropriate properties and values, you can create visually appealing and informative Bokeh plots tailored to your specific requirements."
   ]
  },
  {
   "cell_type": "markdown",
   "metadata": {},
   "source": [
    "#### Q4. What is a Bokeh server, and how can you use it to create interactive plots that can be updated in real time?<br>\n",
    "\n",
    "**Ans:**<br>"
   ]
  },
  {
   "cell_type": "markdown",
   "metadata": {},
   "source": [
    "A Bokeh server is a Python server that allows you to create and deploy interactive Bokeh plots and applications. It enables the creation of web-based, interactive data visualization applications with real-time updating capabilities. With the Bokeh server, you can build dynamic and interactive dashboards, streaming data applications, and more.<br>\n",
    "\n",
    "To use the Bokeh server to create interactive plots that can be updated in real time, you can follow these steps:<br>\n",
    "\n",
    "    1. Define a Bokeh plot or application using the bokeh.plotting or bokeh.models modules.\n",
    "    2. Create a function that updates the data or properties of the plot/application.\n",
    "    3. Define a curdoc() object to access the current document.\n",
    "    4. Define a curdoc().add_root() to add the plot or application to the current document.\n",
    "    5. Run the Bokeh server to serve the plot or application with the bokeh serve command.\n",
    "Here is a simple example of using the Bokeh server to create an interactive plot that can be updated in real time:"
   ]
  },
  {
   "cell_type": "code",
   "execution_count": null,
   "metadata": {},
   "outputs": [],
   "source": [
    "from bokeh.plotting import figure, curdoc\n",
    "from bokeh.models import ColumnDataSource\n",
    "import numpy as np\n",
    "\n",
    "# Create a figure and data source\n",
    "source = ColumnDataSource(data=dict(x=[], y=[]))\n",
    "p = figure(x_range=(0, 10), y_range=(0, 10))\n",
    "p.circle(x='x', y='y', size=10, source=source)\n",
    "\n",
    "# Define a function to update the plot data\n",
    "def update():\n",
    "    new_data = dict(x=np.random.rand(10), y=np.random.rand(10))\n",
    "    source.data = new_data\n",
    "\n",
    "# Add the plot to the current document\n",
    "curdoc().add_root(p)\n",
    "\n",
    "# Add periodic callback to update the plot every 1000 milliseconds\n",
    "curdoc().add_periodic_callback(update, 1000)"
   ]
  },
  {
   "cell_type": "markdown",
   "metadata": {},
   "source": [
    "When you run the Bokeh server with this code, it will serve the interactive plot and automatically update the data in real time at 1-second intervals, demonstrating the real-time updating capabilities of the Bokeh server."
   ]
  },
  {
   "cell_type": "markdown",
   "metadata": {},
   "source": [
    "#### Q5. How can you embed a Bokeh plot into a web page or dashboard using Flask or Django?<br>\n",
    "\n",
    "**Ans:**<br>"
   ]
  },
  {
   "cell_type": "markdown",
   "metadata": {},
   "source": [
    "To embed a Bokeh plot into a web page or dashboard using Flask or Django, you can follow these general steps:<br>\n",
    "\n",
    "#### Using Flask:\n",
    "1. **Install Flask:** Make sure you have Flask installed. If not, you can install it using pip:\n",
    "    ```pip install Flask```\n",
    "2. **Create a Flask web application:** Create a Flask web application and define a route to render a template that includes the Bokeh plot.\n",
    "3. **Generate the Bokeh plot:** Generate the Bokeh plot within the Flask application using Bokeh's plotting functions.\n",
    "4. **Include the Bokeh plot in the template:** Embed the Bokeh plot in an HTML template that will be rendered by the Flask application.\n",
    "#### Example with Flask:\n",
    "Here is a simple example of embedding a Bokeh plot in a Flask web application:"
   ]
  },
  {
   "cell_type": "code",
   "execution_count": null,
   "metadata": {},
   "outputs": [],
   "source": [
    "from flask import Flask, render_template\n",
    "from bokeh.plotting import figure\n",
    "from bokeh.embed import components\n",
    "\n",
    "app = Flask(__name__)\n",
    "\n",
    "@app.route('/')\n",
    "def index():\n",
    "    # Create a Bokeh plot\n",
    "    p = figure()\n",
    "    p.line([1, 2, 3, 4, 5], [6, 7, 2, 4, 5])\n",
    "\n",
    "    # Get the components of the Bokeh plot (script and div)\n",
    "    script, div = components(p)\n",
    "\n",
    "    return render_template('index.html', script=script, div=div)\n",
    "\n",
    "if __name__ == '__main__':\n",
    "    app.run(debug=True)"
   ]
  },
  {
   "cell_type": "markdown",
   "metadata": {},
   "source": [
    "In both Flask and Django, you generate the Bokeh plot and pass the necessary components (script and div) to the template for rendering, allowing you to embed the interactive Bokeh plot into your web page or dashboard."
   ]
  }
 ],
 "metadata": {
  "kernelspec": {
   "display_name": "Python 3",
   "language": "python",
   "name": "python3"
  },
  "language_info": {
   "codemirror_mode": {
    "name": "ipython",
    "version": 3
   },
   "file_extension": ".py",
   "mimetype": "text/x-python",
   "name": "python",
   "nbconvert_exporter": "python",
   "pygments_lexer": "ipython3",
   "version": "3.11.4"
  }
 },
 "nbformat": 4,
 "nbformat_minor": 2
}
