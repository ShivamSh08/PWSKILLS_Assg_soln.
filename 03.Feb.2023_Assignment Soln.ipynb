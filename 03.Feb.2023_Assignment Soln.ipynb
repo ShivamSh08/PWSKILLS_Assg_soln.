{
 "cells": [
  {
   "cell_type": "markdown",
   "id": "d7f90703-39aa-4086-9662-4e4dd74f8573",
   "metadata": {},
   "source": [
    "#### Q1. Which keyword is used to create a function? Create a function to return a list of odd numbers in the range of 1 to 25.<br>\n",
    "Ans.<br>\n",
    "\n",
    "**def** keyword is used to create a function, which actual mean is to **define a function.**<br>"
   ]
  },
  {
   "cell_type": "code",
   "execution_count": 2,
   "id": "fe085a70-457c-479a-9733-ecdcf61bc89c",
   "metadata": {},
   "outputs": [],
   "source": [
    "def oddnum(a):\n",
    "    oddlist=[]\n",
    "    for i in range (a):\n",
    "        if i%2!=0:\n",
    "            oddlist.append(i)\n",
    "    return oddlist\n",
    "        \n",
    "        "
   ]
  },
  {
   "cell_type": "code",
   "execution_count": 3,
   "id": "79f42321-5e63-4c12-ae3b-b2c59b69e1fd",
   "metadata": {},
   "outputs": [
    {
     "data": {
      "text/plain": [
       "[1, 3, 5, 7, 9, 11, 13, 15, 17, 19, 21, 23]"
      ]
     },
     "execution_count": 3,
     "metadata": {},
     "output_type": "execute_result"
    }
   ],
   "source": [
    "oddnum(25)"
   ]
  },
  {
   "cell_type": "markdown",
   "id": "b956cc96-1dd4-4137-93f1-3910d33fcd9f",
   "metadata": {},
   "source": [
    "#### Q2. Why *args and **kwargs is used in some functions? Create a function each for *args and **kwargs to demonstrate their use.<br>\n",
    "\n",
    "Ans. <br>\n",
    "\n",
    "***args**:- <br> The special syntax *args in function definitions in python is used to pass a variable number of arguments to a function. It is used to pass a non-key worded, variable-length argument list. <br>\n",
    "\n",
    "* Example:- <br>"
   ]
  },
  {
   "cell_type": "markdown",
   "id": "0f575362-a833-4495-b434-f0e942f9c461",
   "metadata": {},
   "source": [
    "def test1(*args):\n",
    "    return args"
   ]
  },
  {
   "cell_type": "markdown",
   "id": "cb738c86-346a-4d43-86a5-28fbeaade22b",
   "metadata": {},
   "source": [
    "We are passing three arguments in the above defined function.c"
   ]
  },
  {
   "cell_type": "code",
   "execution_count": 9,
   "id": "564a105b-97c6-4e60-9a76-684aa580bea5",
   "metadata": {},
   "outputs": [
    {
     "data": {
      "text/plain": [
       "(1, 2, 3)"
      ]
     },
     "execution_count": 9,
     "metadata": {},
     "output_type": "execute_result"
    }
   ],
   "source": [
    "test1(1,2,3)"
   ]
  },
  {
   "cell_type": "markdown",
   "id": "2b1b6ea2-903c-4151-8e75-2895eea79686",
   "metadata": {},
   "source": [
    "Now, We are passing 21 arguments or items which contain, integers and string character too in the above defined function."
   ]
  },
  {
   "cell_type": "code",
   "execution_count": 11,
   "id": "65fcdc94-5bfe-4fa4-8d67-e19bcaf69486",
   "metadata": {},
   "outputs": [
    {
     "data": {
      "text/plain": [
       "(1,\n",
       " 2,\n",
       " 3,\n",
       " 4,\n",
       " 5,\n",
       " 6,\n",
       " 7,\n",
       " 8,\n",
       " 9,\n",
       " 'a',\n",
       " 'b',\n",
       " 'c',\n",
       " 'd',\n",
       " 'e',\n",
       " 'f',\n",
       " 'g',\n",
       " 'h',\n",
       " 'i',\n",
       " 'j',\n",
       " 'k',\n",
       " 'l')"
      ]
     },
     "execution_count": 11,
     "metadata": {},
     "output_type": "execute_result"
    }
   ],
   "source": [
    "test1(1,2,3,4,5,6,7,8,9,'a','b','c','d','e','f','g','h','i','j','k','l')"
   ]
  },
  {
   "cell_type": "markdown",
   "id": "15059813-0b97-43dc-8925-494f23f25ed7",
   "metadata": {},
   "source": [
    "***kwargs**:- <br> The special syntax **kwargs in function definitions in python is used to pass a keyworded, variable-length argument list. We use the name kwargs with the double star. The reason is that the double star allows us to pass through keyword arguments (and any number of them). <br>\n",
    "\n",
    "* Example:-"
   ]
  },
  {
   "cell_type": "code",
   "execution_count": 12,
   "id": "69d37e9a-43df-4567-9805-0b291539ea4b",
   "metadata": {},
   "outputs": [],
   "source": [
    "def test5(**kwargs):\n",
    "    return kwargs"
   ]
  },
  {
   "cell_type": "markdown",
   "id": "05f98def-b868-4fac-95f2-3df5f356cecc",
   "metadata": {},
   "source": [
    "Now, we are passing agruments which contain **keys and value pairs**"
   ]
  },
  {
   "cell_type": "code",
   "execution_count": 14,
   "id": "a71b50ed-195d-45a8-99e4-65e2877698f3",
   "metadata": {},
   "outputs": [
    {
     "data": {
      "text/plain": [
       "{'a': 34, 'b': 23, 'c': [1, 2, 3, 4], 'd': ('sudh', 'pwskills')}"
      ]
     },
     "execution_count": 14,
     "metadata": {},
     "output_type": "execute_result"
    }
   ],
   "source": [
    "test5(a = 34 , b = 23 , c = [1,2,3,4] , d = (\"sudh\" , \"pwskills\"))"
   ]
  },
  {
   "cell_type": "markdown",
   "id": "9b7b0e97-9556-43d6-bfdb-3f575c4233a7",
   "metadata": {},
   "source": [
    "#### Q3. What is an iterator in python? Name the method used to initialise the iterator object and the method used for iteration. Use these methods to print the first five elements of the given list [2, 4, 6, 8, 10, 12, 14, 16, 18, 20]. <br>\n",
    "\n",
    "Ans. <br>\n",
    "\n",
    "Iterator in Python is an object that is used to iterate over iterable objects like lists, tuples, dicts, and sets. The iterator object is initialized using the iter() method. It uses the next() method for iteration."
   ]
  },
  {
   "cell_type": "code",
   "execution_count": 16,
   "id": "fe319035-8428-47c7-b174-d1e191daefd1",
   "metadata": {},
   "outputs": [],
   "source": [
    "list=[2, 4, 6, 8, 10, 12, 14, 16, 18, 20]"
   ]
  },
  {
   "cell_type": "code",
   "execution_count": 17,
   "id": "7468d98e-4a60-4243-956d-382a07d01608",
   "metadata": {},
   "outputs": [],
   "source": [
    "L1 = iter(list)"
   ]
  },
  {
   "cell_type": "code",
   "execution_count": 18,
   "id": "84b05790-153a-4ea2-b6fb-17f671eeedb6",
   "metadata": {},
   "outputs": [
    {
     "name": "stdout",
     "output_type": "stream",
     "text": [
      "2\n"
     ]
    }
   ],
   "source": [
    "print(next(L1))"
   ]
  },
  {
   "cell_type": "code",
   "execution_count": 19,
   "id": "8e099de1-1f62-49ce-a3b9-b44548f7c080",
   "metadata": {},
   "outputs": [
    {
     "name": "stdout",
     "output_type": "stream",
     "text": [
      "4\n"
     ]
    }
   ],
   "source": [
    "print(next(L1))"
   ]
  },
  {
   "cell_type": "code",
   "execution_count": 20,
   "id": "8ed0808a-73e8-4b60-ac13-9020d5148912",
   "metadata": {},
   "outputs": [
    {
     "name": "stdout",
     "output_type": "stream",
     "text": [
      "6\n"
     ]
    }
   ],
   "source": [
    "print(next(L1))"
   ]
  },
  {
   "cell_type": "code",
   "execution_count": 21,
   "id": "da74b6f9-7482-4f54-b395-0555de876f4f",
   "metadata": {},
   "outputs": [
    {
     "name": "stdout",
     "output_type": "stream",
     "text": [
      "8\n"
     ]
    }
   ],
   "source": [
    "print(next(L1))"
   ]
  },
  {
   "cell_type": "code",
   "execution_count": 22,
   "id": "a8a56d36-8906-44e7-9a06-2ad98469cd77",
   "metadata": {},
   "outputs": [
    {
     "name": "stdout",
     "output_type": "stream",
     "text": [
      "10\n"
     ]
    }
   ],
   "source": [
    "print(next(L1))"
   ]
  },
  {
   "cell_type": "code",
   "execution_count": 27,
   "id": "2884d073-5495-4de5-bdd8-feb0814f40d4",
   "metadata": {},
   "outputs": [
    {
     "name": "stdout",
     "output_type": "stream",
     "text": [
      "2 4 6 8 10 "
     ]
    }
   ],
   "source": [
    "for i in range(len(list)):\n",
    "    print(list[i], end=' ')\n",
    "    if i == 4:\n",
    "        break"
   ]
  },
  {
   "cell_type": "markdown",
   "id": "cabd530d-0991-4dc4-b187-e0e52f318c0f",
   "metadata": {},
   "source": [
    "#### Q4. What is a generator function in python? Why yield keyword is used? Give an example of a generator function. <br>\n",
    "\n",
    "Ans. <br>\n",
    "Generator functions allow you to declare a function that behaves like an iterator, i.e. it can be used in a for loop.<br>\n",
    "\n",
    "Or, In other words in Python, a generator is a function that returns an iterator that produces a sequence of values when iterated over.<br>\n",
    "Generators are useful when we want to produce a large sequence of values, but we don't want to store all of them in memory at once. <br>\n",
    "When the generator function is called, it does not execute the function body immediately. Instead, it returns a generator object that can be iterated over to produce the values.<br>\n",
    "\n",
    "The yield keyword is used to produce a value from the generator.The yield keyword in Python controls the flow of a generator function. This is similar to a return statement used for returning values in Python. However, there is a difference.<br>\n",
    "When you call a function that has a yield statement, as soon as a yield is encountered, the execution of the function halts and returns a generator iterator object instead of simply returning a value. <br>\n",
    "\n",
    "\n",
    "\n",
    "* **Example:-**<br>"
   ]
  },
  {
   "cell_type": "code",
   "execution_count": null,
   "id": "e88e3f5e-3753-43e0-854a-6c8cce3dfbfd",
   "metadata": {},
   "outputs": [],
   "source": [
    "def gen_func(x): # Defining a generator Function\n",
    "    for i in range(x): # Code defining the generator function wrok\n",
    "        yield i #\"Yield function used to hold and throw the output of the iterator object called by the caller using a function call 'next()' or using a for loop."
   ]
  },
  {
   "cell_type": "code",
   "execution_count": 21,
   "id": "95a6cd6a-855a-42a7-84b7-d3993302129b",
   "metadata": {},
   "outputs": [
    {
     "name": "stdout",
     "output_type": "stream",
     "text": [
      "0\n",
      "1\n",
      "2\n"
     ]
    }
   ],
   "source": [
    "Gen = gen_func(3)\n",
    "print(next(Gen))\n",
    "print(next(Gen))\n",
    "print(next(Gen))\n"
   ]
  },
  {
   "cell_type": "code",
   "execution_count": 22,
   "id": "ab3aa6d8-edf5-48a4-9f26-43aa88d822fc",
   "metadata": {},
   "outputs": [
    {
     "name": "stdout",
     "output_type": "stream",
     "text": [
      "0\n",
      "1\n",
      "2\n",
      "3\n",
      "4\n"
     ]
    }
   ],
   "source": [
    "x = 5\n",
    "for i in gen_func(x):\n",
    "    print(i)"
   ]
  },
  {
   "cell_type": "markdown",
   "id": "d72893ba-a948-430a-8c4d-888f8464331c",
   "metadata": {},
   "source": [
    "#### Q5. Create a generator function for prime numbers less than 1000. Use the next() method to print the first 20 prime numbers."
   ]
  },
  {
   "cell_type": "code",
   "execution_count": 6,
   "id": "7912981f-1e39-4b0f-a40b-3947c046a5a1",
   "metadata": {},
   "outputs": [],
   "source": [
    "def prime_num(x):\n",
    "        for num in range (x):\n",
    "            #print('num =', num)\n",
    "            if num > 1:\n",
    "                for j in range(2,num):\n",
    "                    #print('_j_ =',j)\n",
    "                    if (num%j==0):\n",
    "                        break\n",
    "                else:\n",
    "                    #print(num)\n",
    "                    #print(j)\n",
    "                    yield num"
   ]
  },
  {
   "cell_type": "code",
   "execution_count": 7,
   "id": "85d868b0-a574-46fb-b31a-44a79495b743",
   "metadata": {},
   "outputs": [],
   "source": [
    "Pnum = prime_num(1000)"
   ]
  },
  {
   "cell_type": "code",
   "execution_count": 8,
   "id": "ab6081b7-39d9-45a6-bf26-bb5ab5775da0",
   "metadata": {},
   "outputs": [
    {
     "name": "stdout",
     "output_type": "stream",
     "text": [
      "2\n",
      "3\n",
      "5\n",
      "7\n",
      "11\n",
      "13\n",
      "17\n",
      "19\n",
      "23\n",
      "29\n",
      "31\n",
      "37\n",
      "41\n",
      "43\n",
      "47\n",
      "53\n",
      "59\n",
      "61\n",
      "67\n",
      "71\n"
     ]
    }
   ],
   "source": [
    "print(next(Pnum))\n",
    "print(next(Pnum))\n",
    "print(next(Pnum))\n",
    "print(next(Pnum))\n",
    "print(next(Pnum))\n",
    "print(next(Pnum))\n",
    "print(next(Pnum))\n",
    "print(next(Pnum))\n",
    "print(next(Pnum))\n",
    "print(next(Pnum))\n",
    "print(next(Pnum))\n",
    "print(next(Pnum))\n",
    "print(next(Pnum))\n",
    "print(next(Pnum))\n",
    "print(next(Pnum))\n",
    "print(next(Pnum))\n",
    "print(next(Pnum))\n",
    "print(next(Pnum))\n",
    "print(next(Pnum))\n",
    "print(next(Pnum))"
   ]
  },
  {
   "cell_type": "code",
   "execution_count": null,
   "id": "be6c606f-6bd6-4a84-9049-d3c051c79760",
   "metadata": {},
   "outputs": [],
   "source": []
  }
 ],
 "metadata": {
  "kernelspec": {
   "display_name": "Python 3 (ipykernel)",
   "language": "python",
   "name": "python3"
  },
  "language_info": {
   "codemirror_mode": {
    "name": "ipython",
    "version": 3
   },
   "file_extension": ".py",
   "mimetype": "text/x-python",
   "name": "python",
   "nbconvert_exporter": "python",
   "pygments_lexer": "ipython3",
   "version": "3.10.8"
  }
 },
 "nbformat": 4,
 "nbformat_minor": 5
}
