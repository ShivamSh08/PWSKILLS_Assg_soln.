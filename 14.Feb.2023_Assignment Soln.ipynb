{
 "cells": [
  {
   "cell_type": "markdown",
   "id": "3bc78a7d-1ec1-45ba-a15b-814886c3ecce",
   "metadata": {},
   "source": [
    "#### Q1. What is multithreading in python? Why it is used? Name the module used to handle threads in python."
   ]
  },
  {
   "cell_type": "markdown",
   "id": "80e4eb3d-546c-43e6-819d-d8d036079992",
   "metadata": {},
   "source": [
    "**ANS.**<br>\n",
    "\n",
    "Multithreading in Python refers to the ability of a program to run multiple threads (subsets of a program) concurrently within a single process. This allows a program to achieve parallelism, meaning it can execute multiple tasks simultaneously, which can improve its overall performance.<br>\n",
    "\n",
    "Multithreading is commonly used in Python when a program needs to perform multiple independent tasks simultaneously, such as downloading multiple files from the internet or processing large amounts of data.<br>\n",
    "\n",
    "In Python, the threading module is used to handle threads. This module provides a high-level interface for creating and managing threads, as well as synchronization primitives like locks, events, and semaphores that can be used to coordinate the execution of multiple threads. The threading module is built on top of the lower-level _thread module and provides a more user-friendly interface for working with threads in Python.<br>"
   ]
  },
  {
   "cell_type": "markdown",
   "id": "65455d89-fc95-4268-bf29-536951873aa5",
   "metadata": {},
   "source": [
    "#### Q2. Why threading module used? Write the uses of the following function: <br>\n",
    "\n",
    "**1. activeCount()**<br>\n",
    "**2. currentThread()** <br>\n",
    "**3. enumerate()** <br>"
   ]
  },
  {
   "cell_type": "markdown",
   "id": "0ba1d59a-47b9-486a-a02b-3b8b6cec620e",
   "metadata": {},
   "source": [
    "**ANS.**<br>\n",
    "\n",
    "The threading module in Python is used to create, manage, and synchronize threads within a Python program. Some of the main reasons to use the threading module include:<br>\n",
    "\n",
    "**Concurrent Execution:** Threading allows multiple tasks to be executed concurrently, thereby improving the overall performance of the program.<br>\n",
    "\n",
    "**Resource Sharing:** Threads can share resources such as memory and data structures, which can make it easier to write programs that need to work with large amounts of data.<br>\n",
    "\n",
    "**Responsiveness:** By using threads, a program can remain responsive to user input, even when performing time-consuming tasks in the background.<br>\n",
    "\n",
    "Let's take a look at the uses of some of the functions provided by the threading module:<br>\n",
    "\n",
    "**activeCount():** This function is used to get the number of thread objects that are currently active in the program. It returns an integer value that represents the number of active threads.<br>\n",
    "\n",
    "**currentThread():** This function is used to get the thread object corresponding to the current thread of execution. It returns a Thread object that can be used to access information about the current thread, such as its name or identification number.<br>\n",
    "\n",
    "**enumerate():** This function is used to return a list of all thread objects that are currently active in the program. It returns a list of Thread objects that can be used to access information about each thread, such as its name or identification number. This function is useful when you need to iterate over all active threads in a program, for example, to join them before the program exits.<br>"
   ]
  },
  {
   "cell_type": "markdown",
   "id": "e6ce94be-b1f3-4aba-ac18-732cce7b58cd",
   "metadata": {},
   "source": [
    "#### Q3. Explain the following functions:<br>\n",
    "\n",
    "**1. run()**<br>\n",
    "**2. start()**<br>\n",
    "**3. join()**<br>\n",
    "**4. isAlive()**<br>\n"
   ]
  },
  {
   "cell_type": "markdown",
   "id": "ec7091e2-020f-49b3-9b4b-94f64a890820",
   "metadata": {},
   "source": [
    "**ANS.**<br>\n",
    "\n",
    "**1. run():** This is the method that actually gets executed when you call start() on a thread object. You can think of it as the main function for the thread. By default, it simply calls the target function that you passed to the Thread constructor, but you can override it in a subclass of Thread to provide your own behavior.<br>\n",
    "\n",
    "**2. start():** This is the method that actually starts the thread. It creates a new operating system-level thread and calls the run() method in that thread. You can only call start() once on a given thread object, and calling it more than once will raise a RuntimeError. Once a thread has started, it will continue running until its target function returns, or until you explicitly stop it by calling Thread's stop() method (which is not recommended).<br>\n",
    "\n",
    "**3. join():** This is a method that you can call on a thread object to wait for that thread to finish executing before continuing with the rest of your program. When you call join(), your program will block until the thread completes, which means that it will not continue executing any code after the join() call until the thread is done. If the thread has already completed by the time you call join(), the call will return immediately.<br>\n",
    "\n",
    "**4. isAlive():** This is a method that you can call on a thread object to check whether that thread is still running or has completed. If the thread is still running, isAlive() will return True, and if it has completed, it will return False. You can use this method to check the status of a thread at any time, even while your program is still running. Note that isAlive() may return True for a brief period of time after a thread has completed, due to the way that the operating system manages threads.<br>"
   ]
  },
  {
   "cell_type": "markdown",
   "id": "4efb6a68-9057-49cc-91c4-46231cb9a448",
   "metadata": {},
   "source": [
    "#### Q4. Write a python program to create two threads. Thread one must print the list of squares and thread two must print the list of cubes."
   ]
  },
  {
   "cell_type": "markdown",
   "id": "cdcdf329-4357-4f7b-9f78-2c8b9c528829",
   "metadata": {},
   "source": [
    "**ANS.**<br>"
   ]
  },
  {
   "cell_type": "code",
   "execution_count": 6,
   "id": "d1f8015d-164e-4fd9-8cca-cae002a4e2b4",
   "metadata": {},
   "outputs": [
    {
     "name": "stdout",
     "output_type": "stream",
     "text": [
      "Squares: [1, 4, 9, 16, 25, 36, 49, 64, 81, 100]\n",
      "Cubes: [1, 8, 27, 64, 125, 216, 343, 512, 729, 1000]\n"
     ]
    }
   ],
   "source": [
    "import threading\n",
    "\n",
    "def calculate_squares(numbers):\n",
    "    squares = [n ** 2 for n in numbers]\n",
    "    print(f\"Squares: {squares}\")\n",
    "\n",
    "def calculate_cubes(numbers):\n",
    "    cubes = [n ** 3 for n in numbers]\n",
    "    print(f\"Cubes: {cubes}\")\n",
    "\n",
    "numbers = [1, 2, 3, 4, 5, 6, 7, 8, 9, 10]\n",
    "\n",
    "t1 = threading.Thread(target=calculate_squares, args=(numbers,))\n",
    "t2 = threading.Thread(target=calculate_cubes, args=(numbers,))\n",
    "\n",
    "t1.start()\n",
    "t2.start()\n",
    "\n",
    "t1.join()\n",
    "t2.join()\n"
   ]
  },
  {
   "cell_type": "markdown",
   "id": "1f37b052-e09f-45a2-a4e4-b39c5b70f37e",
   "metadata": {},
   "source": [
    "#### Q5. State  advantages and disadvantages of multithreading."
   ]
  },
  {
   "cell_type": "markdown",
   "id": "6c0857bb-0cca-4af2-9e54-85190e2660f6",
   "metadata": {},
   "source": [
    "**ANS.**<br>\n",
    "\n",
    "Multithreading is a programming technique that involves the use of multiple threads of execution within a single process. Here are some advantages and disadvantages of multithreading:<br>\n",
    "\n",
    "**Advantages:**<br>\n",
    "\n",
    "**1. Increased performance:** <br>\n",
    "Multithreading can improve the overall performance of an application by allowing multiple threads to run concurrently and utilize the available resources more efficiently.<br>\n",
    "\n",
    "**2. Responsiveness:**<br>\n",
    "Multithreading can help improve the responsiveness of an application by allowing it to perform multiple tasks simultaneously, such as responding to user input while performing a time-consuming operation in the background.<br>\n",
    "\n",
    "**3. Resource sharing:**<br>\n",
    "Multithreading can facilitate the sharing of resources between threads, such as memory or network connections, which can reduce the overall resource usage and improve the scalability of the application.<br>\n",
    "\n",
    "**4. Modular design:**<br>\n",
    "Multithreading can help create a modular design for an application by separating different tasks into separate threads, which can make the code easier to maintain and extend.<br>\n",
    "\n",
    "**5. Better utilization of multi-core CPUs:**<br>\n",
    "Multithreading can take advantage of multi-core CPUs by allowing different threads to run on different cores simultaneously, which can lead to significant performance gains.<br>\n",
    "\n",
    "\n",
    "**Disadvantages:**<br>\n",
    "\n",
    "**1. Complexity:**<br>\n",
    "Multithreaded programming can be complex, as it requires careful synchronization of shared resources and can be prone to race conditions, deadlocks, and other synchronization issues.<br>\n",
    "\n",
    "**2. Overhead:**<br>\n",
    "Multithreading can introduce overhead, such as the cost of thread creation, synchronization primitives, and context switching, which can reduce the overall performance of the application.<br>\n",
    "\n",
    "**3. Debugging:**<br> \n",
    "Multithreaded programming can be challenging to debug, as issues can be difficult to reproduce and diagnose, and the order of execution can be non-deterministic.<br>\n",
    "\n",
    "**4. Scalability:**<br>\n",
    "Although multithreading can improve scalability, there is a limit to the number of threads that can be effectively utilized in a given application, and creating too many threads can lead to diminishing returns or even reduced performance due to overhead and contention for resources.<br>\n",
    "\n",
    "**5. Portability:**<br>\n",
    "Multithreading can be platform-dependent, and code that works well on one platform may not work as well on another platform, requiring additional testing and development effort.<br>"
   ]
  },
  {
   "cell_type": "markdown",
   "id": "5c3b69c9-ea4f-4006-8d50-649f7669e350",
   "metadata": {},
   "source": [
    "#### Q6. Explain deadlocks and race conditions."
   ]
  },
  {
   "cell_type": "markdown",
   "id": "4e611680-4b1a-4344-a958-be02c45ca721",
   "metadata": {},
   "source": [
    "**ANS.**<br>\n",
    "\n",
    "Deadlocks and race conditions are two common synchronization issues that can arise in multithreaded programming.<br>\n",
    "\n",
    "**Deadlock:**<br>\n",
    "Deadlock is a situation where two or more threads are blocked, each waiting for a resource that another thread holds, resulting in a situation where none of the threads can proceed. In other words, deadlock occurs when two or more threads are waiting for each other to release a resource that they need to continue execution. Deadlocks can occur when multiple threads compete for the same set of resources and can be difficult to detect and resolve.<br>\n",
    "\n",
    "**For example,** suppose two threads T1 and T2 are holding resources R1 and R2, respectively, and each thread requires the resource held by the other thread to proceed. If T1 requests R2 and T2 requests R1, a deadlock occurs, as neither thread can proceed until the other thread releases the resource it is holding.<br>\n",
    "\n",
    "**Race Condition:**<br>\n",
    "A race condition is a situation that arises when the behavior of a program depends on the order in which two or more threads execute, and the outcome of the program depends on which thread executes first. Race conditions can occur when two or more threads access shared resources or data structures without proper synchronization, resulting in unpredictable behavior.<br>\n",
    "\n",
    "**For example,** suppose two threads T1 and T2 access a shared variable x, and both threads modify its value. If the order of execution is such that T1 modifies the value of x before T2 reads it, the outcome will be different from the situation where T2 reads the value of x before T1 modifies it. This can lead to incorrect results, crashes, or other unexpected behavior.<br>\n",
    "\n",
    "To prevent race conditions and deadlocks, multithreaded programs need to use appropriate synchronization mechanisms, such as locks, semaphores, or monitors, to ensure that only one thread can access a shared resource or data structure at a time. Proper synchronization can ensure that the program executes correctly, and avoids issues such as race conditions and deadlocks."
   ]
  }
 ],
 "metadata": {
  "kernelspec": {
   "display_name": "Python 3 (ipykernel)",
   "language": "python",
   "name": "python3"
  },
  "language_info": {
   "codemirror_mode": {
    "name": "ipython",
    "version": 3
   },
   "file_extension": ".py",
   "mimetype": "text/x-python",
   "name": "python",
   "nbconvert_exporter": "python",
   "pygments_lexer": "ipython3",
   "version": "3.10.8"
  }
 },
 "nbformat": 4,
 "nbformat_minor": 5
}
