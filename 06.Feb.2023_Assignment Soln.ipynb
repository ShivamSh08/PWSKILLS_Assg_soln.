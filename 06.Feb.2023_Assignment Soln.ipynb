{
 "cells": [
  {
   "cell_type": "markdown",
   "id": "d6d8276f-27d0-4ad5-b5f0-09de2bdab87a",
   "metadata": {},
   "source": [
    "#### Q1. Create a function which will take a list as an argument and return the product of all the numbers after creating a flat list.<br>\n",
    "\n",
    "Use the below-given list as an argument for your function.<br>\n",
    "\n",
    "\n",
    "list1 = [1,2,3,4, [44,55,66, True], False, (34,56,78,89,34), {1,2,3,3,2,1}, {1:34, \"key2\": [55, 67, 78, 89], 4: (45, 22, 61, 34)}, [56, 'data science'], 'Machine Learning']\n",
    "\n",
    "\n",
    "**Note:** you must extract numeric keys and values of the dictionary also."
   ]
  },
  {
   "cell_type": "code",
   "execution_count": 2,
   "id": "39199437-7528-4c6f-8def-a1eb57b5a21c",
   "metadata": {},
   "outputs": [],
   "source": [
    "list1 = [1,2,3,4, [44,55,66, True], False, (34,56,78,89,34), {1,2,3,3,2,1}, {1:34, \"key2\": [55, 67, 78, 89], 4: (45, 22, 61, 34)}, [56, 'data science'], 'Machine Learning']"
   ]
  },
  {
   "cell_type": "code",
   "execution_count": 5,
   "id": "0847c6ff-2e85-4ddd-8e7c-b201f7e4ce0e",
   "metadata": {},
   "outputs": [],
   "source": [
    "def flat_list_product(List):\n",
    "    li = [];\n",
    "    for i in list1:\n",
    "        if type(i) is int:\n",
    "            li.append(i);\n",
    "            \n",
    "        \n",
    "        elif type(i) is bool:\n",
    "            continue;\n",
    "            \n",
    "        \n",
    "        elif type(i) is str:\n",
    "            continue;\n",
    "        \n",
    "        \n",
    "        elif type(i) is list:\n",
    "            for j in i:\n",
    "                \n",
    "                if type(j) is bool:\n",
    "                    continue;\n",
    "\n",
    "                elif type(j) is str:\n",
    "                    continue;\n",
    "\n",
    "                else:\n",
    "                    li.append(j);\n",
    "        \n",
    "        elif type(i) is tuple:\n",
    "            for k in i:\n",
    "                if type(k) is bool:\n",
    "                    continue;\n",
    "\n",
    "                elif type(k) is str:\n",
    "                    continue;\n",
    "\n",
    "                else:\n",
    "                    li.append(k)\n",
    "        \n",
    "        elif type(i) is set:\n",
    "            for l in i:\n",
    "                if type(l) is bool:\n",
    "                    continue;\n",
    "\n",
    "                elif type(l) is str:\n",
    "                    continue;\n",
    "\n",
    "                else:\n",
    "                    li.append(l);\n",
    "                \n",
    "        else:\n",
    "            if type(i) is dict:\n",
    "                for m in i.keys():\n",
    "                    if type(m) is str:\n",
    "                        continue\n",
    "\n",
    "                    elif type(m) is list:\n",
    "                        for n in m:\n",
    "                            li.append(n)\n",
    "                    \n",
    "                    elif type(m) is tuple:\n",
    "                        for o in m:\n",
    "                            li.append(o)\n",
    "                        \n",
    "                    else:\n",
    "                        li.append(m)\n",
    "                    \n",
    "                for p in i.values():\n",
    "                    if type(p) is str:\n",
    "                        continue\n",
    "\n",
    "                    elif type(p) is list:\n",
    "                        for r in p:\n",
    "                            li.append(r)\n",
    "                        \n",
    "                    elif type(p) is tuple:\n",
    "                        for q in p:\n",
    "                            li.append(q)\n",
    "                    \n",
    "                    else:\n",
    "                        li.append(p)\n",
    "    \n",
    "    from functools import reduce\n",
    "\n",
    "    return reduce(lambda x,y : x*y, li)"
   ]
  },
  {
   "cell_type": "markdown",
   "id": "4050fddf-ff31-4ad4-8242-f28af93e14f0",
   "metadata": {},
   "source": []
  },
  {
   "cell_type": "code",
   "execution_count": 7,
   "id": "ce40e152-00f6-4ff9-98c8-6431d3bd358d",
   "metadata": {},
   "outputs": [
    {
     "name": "stdout",
     "output_type": "stream",
     "text": [
      "[1, 2, 3, 4, 44, 55, 66, 34, 56, 78, 89, 34, 1, 2, 3, 1, 34, 55, 67, 78, 89, 4, 45, 22, 61, 34, 56]\n"
     ]
    }
   ],
   "source": [
    "flat_list = []\n",
    "for items in list1:\n",
    "    if type(items) == int:\n",
    "        flat_list.append(items)\n",
    "    elif type(items) == list:\n",
    "        for sub_item in items:\n",
    "            if type(sub_item) == int:\n",
    "                flat_list.append(sub_item)\n",
    "    elif type(items) == str:\n",
    "        pass\n",
    "    elif type(items) == tuple:\n",
    "        for sub_item in items:\n",
    "            if type(sub_item) == int:\n",
    "                flat_list.append(sub_item)\n",
    "    elif type(items) == set:\n",
    "        for sub_item in items:\n",
    "            if type(sub_item) == int:\n",
    "                flat_list.append(sub_item)\n",
    "    elif type(items) == dict:\n",
    "        for sub_item in items:\n",
    "            if type(sub_item) == int:\n",
    "                flat_list.append(sub_item)\n",
    "            if type(items[sub_item]) == int:\n",
    "                flat_list.append(items[sub_item])\n",
    "            if type(sub_item) == str:\n",
    "                pass\n",
    "            if type(items[sub_item]) == list or type(items[sub_item]) == tuple:\n",
    "                for i in items[sub_item]:\n",
    "                    flat_list.append(i)\n",
    "    elif type(items) == list:\n",
    "        for sub_item in items:\n",
    "            if type(sub_item) == int:\n",
    "                flat_list.append(sub_item)\n",
    "    else:\n",
    "        pass\n",
    "\n",
    "print(flat_list)"
   ]
  },
  {
   "cell_type": "code",
   "execution_count": 6,
   "id": "dbdc0e11-86e7-4f17-bc91-160bf090293a",
   "metadata": {},
   "outputs": [
    {
     "data": {
      "text/plain": [
       "4134711838987085478833841242112000"
      ]
     },
     "execution_count": 6,
     "metadata": {},
     "output_type": "execute_result"
    }
   ],
   "source": [
    "flat_list_product(list1)"
   ]
  },
  {
   "cell_type": "markdown",
   "id": "1134bb5d-4ddb-4941-84aa-7ef2e992af0c",
   "metadata": {},
   "source": [
    "#### Q2. Write a python program for encrypting a message sent to you by your friend. The logic of encryption should be such that, for a the output should be z. For b, the output should be y. For c, the output should be x respectively. Also, the whitespace should be replaced with a dollar sign. Keep the punctuation marks unchanged. <br>\n",
    "\n",
    "\n",
    "Input Sentence: I want to become a Data Scientist.<br>\n",
    "\n",
    "\n",
    "Encrypt the above input sentence using the program you just created.<br>\n",
    "\n",
    "\n",
    "**Note:** Convert the given input sentence into lowercase before encrypting. The final output should be\n",
    "lowercase."
   ]
  },
  {
   "cell_type": "code",
   "execution_count": 13,
   "id": "a4ab008c-8f5e-42e5-bfde-c9254bd19279",
   "metadata": {},
   "outputs": [],
   "source": [
    "def msg_encrypt(a):\n",
    "    \n",
    "    a = a.lower()\n",
    "    \n",
    "    for i in a:\n",
    "        if ord(i)>96 and ord(i)<122:\n",
    "            b = chr(ord('z')+ord('a')-ord(i))\n",
    "            print(b, end='')\n",
    "        \n",
    "        else:\n",
    "            print('$', end='')"
   ]
  },
  {
   "cell_type": "code",
   "execution_count": 15,
   "id": "67c9a8e3-8de6-4f71-b515-f497efc9a241",
   "metadata": {},
   "outputs": [
    {
     "name": "stdout",
     "output_type": "stream",
     "text": [
      "r$dzmg$gl$yvxlnv$z$wzgz$hxrvmgrhg"
     ]
    }
   ],
   "source": [
    "Input_Sentence = 'I want to become a Data Scientist'\n",
    "msg_encrypt(Input_Sentence)"
   ]
  }
 ],
 "metadata": {
  "kernelspec": {
   "display_name": "Python 3 (ipykernel)",
   "language": "python",
   "name": "python3"
  },
  "language_info": {
   "codemirror_mode": {
    "name": "ipython",
    "version": 3
   },
   "file_extension": ".py",
   "mimetype": "text/x-python",
   "name": "python",
   "nbconvert_exporter": "python",
   "pygments_lexer": "ipython3",
   "version": "3.10.8"
  }
 },
 "nbformat": 4,
 "nbformat_minor": 5
}
