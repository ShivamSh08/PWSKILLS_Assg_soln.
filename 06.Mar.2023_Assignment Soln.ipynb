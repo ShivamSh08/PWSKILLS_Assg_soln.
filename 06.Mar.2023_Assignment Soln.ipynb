{
 "cells": [
  {
   "cell_type": "markdown",
   "metadata": {},
   "source": [
    "Q1. What is Statistics?<br>\n",
    "**Ans.**"
   ]
  },
  {
   "cell_type": "markdown",
   "metadata": {},
   "source": [
    "**Statistics, a branch of mathematics, uses procedures that allow you to correctly analyze the numbers/data.**\n",
    "These procedures, or statistical methods, transform numbers into useful information that you can use when making decisions about the numbers/data.You can make better sense of the numbers you encounter if you learn to understand statistics.<br>\n",
    "\n",
    "Statistical methods can also tell you the known risks associated with making a decision as well as help you make more consistent judgments about the numbers.<br>"
   ]
  },
  {
   "cell_type": "markdown",
   "metadata": {},
   "source": [
    "Q2. Define the different types of statistics and give an example of when each type might be used.<br>\n",
    "**Ans.**"
   ]
  },
  {
   "cell_type": "markdown",
   "metadata": {},
   "source": [
    "Different types of statistics include descriptive statistics and inferential statistics:\n",
    "\n",
    "1. **Descriptive Statistics:**\n",
    "**Definition:** Descriptive statistics summarize and describe the main features of a dataset. It provides simple summaries about the sample and the observations in the dataset.<br>\n",
    "**Example:** Mean, median, mode, range, standard deviation, variance, percentiles.<br>\n",
    "**Use case:** Descriptive statistics are used to summarize and describe data, such as calculating the average income in a population, understanding the spread of test scores in a classroom, or analyzing the central tendency of a dataset.<br>\n",
    "\n",
    "2. **Inferential Statistics:**\n",
    "**Definition:** Inferential statistics use data from a sample to make predictions or inferences about a population. It involves generalizing from a sample to a population, drawing conclusions, and making decisions based on probability.<br>\n",
    "**Example:** Hypothesis testing, confidence intervals, regression analysis, ANOVA (Analysis of Variance).<br>\n",
    "**Use case:** Inferential statistics are used to draw conclusions about a population based on a sample, such as determining if a new drug is effective for a larger population based on a clinical trial, analyzing the impact of a marketing campaign on sales, or comparing means across different groups.<br>\n",
    "\n",
    "Each type of statistics serves a different purpose and is used in various contexts to analyze and interpret data effectively."
   ]
  },
  {
   "cell_type": "markdown",
   "metadata": {},
   "source": [
    "Q3. What are the different types of data and how do they differ from each other? Provide an example of\n",
    "each type of data."
   ]
  },
  {
   "cell_type": "markdown",
   "metadata": {},
   "source": [
    "**Ans.**<br>\n",
    "In statistics, there are several types of data that differ from each other based on their characteristics and properties. Here are the main types of data and examples of each:<br>\n",
    "\n",
    "**1. Quantitative Data:**<br>\n",
    "\n",
    "Definition: Quantitative data is numerical data that can be measured and quantified. It can be represented by numbers and can be compared and analyzed using mathematical operations.<br>\n",
    "    <br>\n",
    "Example: Age (in years), height (in inches), weight (in pounds), temperature (in degrees Fahrenheit), time (in hours), and scores (on a scale of 1-100).<br>\n",
    "\n",
    "There are further division of Quantitative Data types:<br>\n",
    "\n",
    "* Continuous Variables:<br>\n",
    "Definition: Continuous variables are numerical data that can take on any value within a specific range. They can be measured with a high degree of precision.<br>\n",
    "<br>\n",
    "Example: Age (in years), height (in inches), weight (in pounds), temperature (in degrees Fahrenheit), time (in hours), and scores (on a scale of 1-100).<br>\n",
    "\n",
    "* Discrete Variables:<br>\n",
    "Definition: Discrete variables are numerical data that can only take on specific, distinct values. They are often categorical or count data.<br>\n",
    "<br>\n",
    "Example: Number of siblings, number of cars owned, number of years of education, number of hours worked per week, and number of days in a month.<br>\n",
    "\n",
    "\n",
    "**2. Qualitative Data:**<br>\n",
    "    \n",
    "Definition: Qualitative data is non-numerical data that cannot be measured or quantified. It is categorical and can be described using words or symbols.<br>\n",
    "<br>\n",
    "Example: Gender (male/female), color (red, blue, green), religion (Christianity, Islam, Buddhism), political affiliation (Republican, Democrat), and job title (engineer, teacher, artist).<br>\n",
    "<br>\n",
    "Qualitative data can be further divided into nominal and ordinal data:<br>\n",
    "<br>\n",
    "* Nominal Data: Nominal data represent categories or labels without any particular order. It's about 'naming' variables with different categories.<br>\n",
    "<br>\n",
    "Example: Colors (red, blue, green), Gender (male, female), Types of cars (sedan, SUV, truck).\n",
    "* Ordinal Data: Ordinal data involves categories with a clear order or ranking. The intervals between each category might not be equal.<br>\n",
    "<br>\n",
    "Example: Educational level (elementary, high school, bachelor's, master's, Ph.D.), Likert scale responses (strongly disagree, disagree, neutral, agree, strongly agree)."
   ]
  },
  {
   "cell_type": "markdown",
   "metadata": {},
   "source": [
    "Q4. Categorise the following datasets with respect to quantitative and qualitative data types:\n",
    "\n",
    "(i) Grading in exam: A+, A, B+, B, C+, C, D, E\n",
    "\n",
    "(ii) Colour of mangoes: yellow, green, orange, red\n",
    "\n",
    "(iii) Height data of a class: [178.9, 179, 179.5, 176, 177.2, 178.3, 175.8,...]\n",
    "\n",
    "(iv) Number of mangoes exported by a farm: [500, 600, 478, 672, …]"
   ]
  },
  {
   "cell_type": "markdown",
   "metadata": {},
   "source": [
    "**Ans:**<br>\n",
    "\n",
    "Let's categorize each dataset:\n",
    "\n",
    "(i) Grading in exam:\n",
    "- This dataset represents categories or labels without any inherent order. Therefore, it falls under qualitative data.\n",
    "- Specifically, it's ordinal data since there is a clear order or ranking among the grades.\n",
    "\n",
    "   **Type:** Qualitative (Ordinal)\n",
    "\n",
    "(ii) Colour of mangoes:\n",
    "- This dataset represents categories or labels without any inherent order, similar to the grading system. Hence, it's qualitative data.\n",
    "- Like the previous example, it's also nominal data since there's no inherent order among the colors.\n",
    "\n",
    "   **Type:** Qualitative (Nominal)\n",
    "\n",
    "(iii) Height data of a class:\n",
    "- This dataset represents measurable quantities (heights) and is numeric. It's quantitative data.\n",
    "- Since it has equal intervals between measurements and a true zero point, it's ratio data.\n",
    "\n",
    "   **Type:** Quantitative (Continuous)\n",
    "\n",
    "(iv) Number of mangoes exported by a farm:\n",
    "- This dataset also represents measurable quantities (number of mangoes) and is numeric. It's quantitative data.\n",
    "- Similar to the previous dataset, it has equal intervals between measurements and a true zero point.\n",
    "\n",
    "   **Type:** Quantitative (Discrete)"
   ]
  },
  {
   "cell_type": "markdown",
   "metadata": {},
   "source": [
    "Q5. Explain the concept of levels of measurement and give an example of a variable for each level."
   ]
  },
  {
   "cell_type": "markdown",
   "metadata": {},
   "source": [
    "**Ans.**<br>\n",
    "\n",
    "The concept of levels of measurement also known as scales of measurement or levels of data is fundamental in statistics, and refers to the different ways in which data can be organized and quantified. Each level of measurement provides a different way of describing and analyzing data. There are four main levels of measurement: nominal, ordinal, interval, and ratio.<br>\n",
    " \n",
    "\n",
    "1. **Nominal Level:**\n",
    "   - At the nominal level, data are categorized into distinct groups or categories without any inherent order or ranking.\n",
    "   - Examples of nominal variables include:\n",
    "     - Gender (male, female)\n",
    "     - Eye color (blue, brown, green)\n",
    "     - Types of vehicles (car, truck, motorcycle)\n",
    "   - In nominal data, the categories are merely labels, and there is no quantitative significance to the values.\n",
    "\n",
    "2. **Ordinal Level:**\n",
    "   - At the ordinal level, data are categorized into groups with a clear order or ranking, but the intervals between the categories may not be uniform or measurable.\n",
    "   - Examples of ordinal variables include:\n",
    "     - Educational attainment (high school, bachelor's, master's, Ph.D.)\n",
    "     - Likert scale responses (strongly disagree, disagree, neutral, agree, strongly agree)\n",
    "     - Socioeconomic status (low, middle, high)\n",
    "   - In ordinal data, the order of the categories is meaningful, but the differences between them are not precisely quantifiable.\n",
    "\n",
    "3. **Interval Level:**\n",
    "   - At the interval level, data are measured on a scale where the intervals between consecutive points are equal, but there is no true zero point.\n",
    "   - Examples of interval variables include:\n",
    "     - Temperature (measured in Celsius or Fahrenheit)\n",
    "     - Calendar dates (days, months, years)\n",
    "     - IQ scores (measured on a standardized scale)\n",
    "   - In interval data, arithmetic operations like addition and subtraction can be performed, but ratios are not meaningful due to the lack of a true zero point.\n",
    "\n",
    "4. **Ratio Level:**\n",
    "   - At the ratio level, data are measured on a scale with equal intervals between points and a true zero point, allowing for meaningful ratios.\n",
    "   - Examples of ratio variables include:\n",
    "     - Height\n",
    "     - Weight\n",
    "     - Income\n",
    "     - Number of children\n",
    "   - In ratio data, all arithmetic operations are meaningful, including ratios, because there is a true zero point."
   ]
  },
  {
   "cell_type": "markdown",
   "metadata": {},
   "source": [
    "Q6. Why is it important to understand the level of measurement when analyzing data? Provide an\n",
    "example to illustrate your answer."
   ]
  },
  {
   "cell_type": "markdown",
   "metadata": {},
   "source": [
    "**Ans:**<br>\n",
    "\n",
    "Understanding the level of measurement is crucial when analyzing data because it determines the appropriate statistical techniques that can be applied, the types of conclusions that can be drawn, and the interpretations that can be made. Here's why it's important:\n",
    "\n",
    "1. **Appropriate Statistical Techniques:** Different statistical methods are suitable for different levels of measurement. Using the wrong statistical technique can lead to incorrect conclusions. For example:\n",
    "   - Nominal data requires methods like chi-square tests.\n",
    "   - Ordinal data may require non-parametric tests like Mann-Whitney U test or Spearman's rank correlation.\n",
    "   - Interval and ratio data allow for more sophisticated techniques like t-tests, ANOVA, correlation, and regression.\n",
    "\n",
    "2. **Meaningful Interpretations:** The level of measurement affects the interpretations of the data. For instance:\n",
    "   - With nominal data, you can only determine frequencies and proportions within categories, but you can't calculate averages or meaningful differences.\n",
    "   - With ratio data, you can calculate ratios and proportions, making interpretations more precise and meaningful.\n",
    "\n",
    "3. **Data Manipulation:** The level of measurement determines what operations can be performed on the data. For example:\n",
    "   - Ratio data allow for meaningful addition, subtraction, multiplication, and division.\n",
    "   - Interval data allow for addition and subtraction, but not multiplication or division.\n",
    "\n",
    "4. **Decision Making:** Understanding the level of measurement helps in making informed decisions about data collection, analysis, and presentation.\n",
    "\n",
    "Here's an example to illustrate:\n",
    "\n",
    "Suppose we're conducting a survey to understand customer satisfaction with a product. We collect data on various aspects of satisfaction, including ratings on a scale from 1 to 5 (ordinal), the number of complaints received (ratio), and demographic information such as gender (nominal).\n",
    "\n",
    "- With the ordinal data (ratings), you could calculate median satisfaction scores and use non-parametric tests to analyze differences between groups.\n",
    "- With the ratio data (complaints received), you could calculate averages, perform correlation analyses with other variables, and make meaningful comparisons.\n",
    "- With the nominal data (gender), you could determine the frequency of each gender category and examine differences in satisfaction between genders using appropriate tests.\n",
    "\n",
    "Understanding the level of measurement ensures that we choose the right statistical techniques and draw accurate conclusions from your data analysis."
   ]
  },
  {
   "cell_type": "markdown",
   "metadata": {},
   "source": [
    "Q7. How nominal data type is different from ordinal data type."
   ]
  },
  {
   "cell_type": "markdown",
   "metadata": {},
   "source": [
    "**Ans:**<br>\n",
    "Nominal and ordinal data types are both forms of categorical data, but they differ in the level of measurement and the nature of the categories. Here's how they differ:\n",
    "\n",
    "**Nominal Data:**\n",
    "\n",
    "- **Definition:** Nominal data represent categories or labels without any inherent order or ranking. The categories are distinct and separate, and there is no notion of order among them.\n",
    "- **Examples:** Gender (male, female), eye color (blue, brown, green), types of fruits (apple, banana, orange).\n",
    "- **Characteristics:**\n",
    "  - Categories are mutually exclusive and exhaustive.\n",
    "  - There is no natural order or ranking among the categories.\n",
    "  - Arithmetic operations such as addition, subtraction, or multiplication are not meaningful.\n",
    "- **Usage:** Nominal data are typically used to label variables or to classify observations into distinct groups.\n",
    "\n",
    "**Ordinal Data:**\n",
    "\n",
    "- **Definition:** Ordinal data also represent categories or labels, but they have a natural order or ranking. The categories have a sequence, but the intervals between them may not be equal.\n",
    "- **Examples:** Grades (A, B, C, D, F), Likert scale responses (strongly disagree, disagree, neutral, agree, strongly agree), socioeconomic status (low, middle, high).\n",
    "- **Characteristics:**\n",
    "  - Categories have a meaningful order or ranking.\n",
    "  - The intervals between categories may not be uniform or measurable.\n",
    "  - Arithmetic operations are limited; only comparison operators like greater than or less than are meaningful.\n",
    "- **Usage:** Ordinal data are used when there is a clear ranking or ordering among the categories, but the differences between them are not precisely quantifiable.\n",
    "\n",
    "**Key Differences:**\n",
    "\n",
    "1. **Order:** Nominal data have no inherent order, while ordinal data have a clear order or ranking.\n",
    "2. **Intervals:** Nominal data do not have intervals between categories, while ordinal data may have unequal or non-quantifiable intervals.\n",
    "3. **Arithmetic Operations:** Arithmetic operations are not meaningful for nominal data, while limited operations (e.g., comparison) are possible for ordinal data.\n",
    "\n",
    "In summary, while both nominal and ordinal data represent categories or labels, ordinal data provide additional information about the order or ranking among the categories, whereas nominal data do not."
   ]
  },
  {
   "cell_type": "markdown",
   "metadata": {},
   "source": [
    "Q8. Which type of plot can be used to display data in terms of range?"
   ]
  },
  {
   "cell_type": "markdown",
   "metadata": {},
   "source": [
    "**Ans:**<br>\n",
    "A plot that can be used to display data in terms of range is a **box plot** (also known as a box-and-whisker plot). \n",
    "\n",
    "A box plot provides a visual representation of the distribution of the data, including the minimum, maximum, median, and quartiles. It effectively shows the range of the data along with its central tendency and variability.\n",
    "\n",
    "Here's how a box plot displays data:\n",
    "\n",
    "- The box represents the interquartile range (IQR), which spans from the first quartile (Q1) to the third quartile (Q3). The length of the box represents the range of the middle 50% of the data.\n",
    "- The line inside the box represents the median (Q2), which is the middle value of the dataset when arranged in ascending order.\n",
    "- The \"whiskers\" extend from the edges of the box to the minimum and maximum values within a specified range (usually 1.5 times the IQR from the quartiles). Any data points beyond the whiskers are considered outliers and are often displayed as individual points.\n",
    "\n",
    "A box plot is particularly useful for comparing the ranges of multiple datasets or identifying outliers in the data. It provides a clear visualization of the spread of the data and can be effective in identifying skewness or asymmetry in the distribution.\n",
    "\n",
    "So, if you want to display data in terms of its range, a box plot would be a suitable choice."
   ]
  },
  {
   "cell_type": "markdown",
   "metadata": {},
   "source": [
    "Q9. Describe the difference between descriptive and inferential statistics. Give an example of each\n",
    "type of statistics and explain how they are used."
   ]
  },
  {
   "cell_type": "markdown",
   "metadata": {},
   "source": [
    "**Ans:**<br>\n",
    "**Descriptive Statistics:**\n",
    "\n",
    "Descriptive statistics involves summarizing and describing the main features of a dataset. It provides simple summaries about the sample or population being studied. Descriptive statistics do not involve making inferences or predictions about a larger population; rather, they focus on describing what is observed in the data.\n",
    "\n",
    "**Example:**\n",
    "Suppose you have a dataset containing the heights of students in a class. Descriptive statistics would involve calculating measures such as the mean height, median height, range of heights, and measures of variability like standard deviation or variance. These statistics summarize the characteristics of the height distribution within the class without making any broader conclusions about other classes or populations.\n",
    "\n",
    "**How they are used:**\n",
    "Descriptive statistics are used to organize, summarize, and present data in a meaningful way. They help to simplify large amounts of data and make it more understandable. Descriptive statistics are commonly used in various fields such as business, social sciences, and healthcare to describe characteristics of populations, samples, or phenomena.\n",
    "\n",
    "**Inferential Statistics:**\n",
    "\n",
    "Inferential statistics involves using sample data to make inferences or predictions about a larger population. It allows researchers to draw conclusions or make generalizations based on the analysis of a representative sample from the population.\n",
    "\n",
    "**Example:**\n",
    "Suppose you want to determine whether the average height of students in your class is representative of the average height of all students in the school. You could take a random sample of students from the entire school population, calculate the mean height of the sample, and use inferential statistics to estimate the population mean and determine the level of confidence in your estimate.\n",
    "\n",
    "**How they are used:**\n",
    "Inferential statistics are used to test hypotheses, make predictions, and generalize findings from a sample to a larger population. They are widely used in scientific research, marketing research, quality control, and many other fields to draw conclusions based on sample data.\n",
    "\n",
    "**Key Difference:**\n",
    "- Descriptive statistics describe what is observed in the data, providing summaries and visualizations.\n",
    "- Inferential statistics involve making inferences or predictions about a population based on sample data, allowing researchers to generalize their findings to a larger population."
   ]
  },
  {
   "cell_type": "markdown",
   "metadata": {},
   "source": [
    "Q10. What are some common measures of central tendency and variability used in statistics? Explain\n",
    "how each measure can be used to describe a dataset."
   ]
  },
  {
   "cell_type": "markdown",
   "metadata": {},
   "source": [
    "**Ans:**<br>\n",
    "**Measures of Central Tendency:**\n",
    "\n",
    "1. **Mean:** The mean is the average of a set of numbers. It is calculated by summing all the values in the dataset and dividing by the total number of values.\n",
    "   - **Use:** The mean provides a measure of the central value of the dataset. It represents the typical value or the \"center\" of the data distribution. It's widely used in many situations, especially when the data are normally distributed.\n",
    "\n",
    "2. **Median:** The median is the middle value in a dataset when the values are arranged in ascending order. If there is an even number of observations, the median is the average of the two middle values.\n",
    "   - **Use:** The median is robust to outliers and extreme values, making it useful when the data are skewed or contain outliers. It represents the midpoint of the dataset and divides it into two equal halves.\n",
    "\n",
    "3. **Mode:** The mode is the value that occurs most frequently in a dataset.\n",
    "   - **Use:** The mode is useful for categorical or nominal data and can provide insights into the most common category or value in the dataset. Unlike the mean and median, the mode is not influenced by extreme values.\n",
    "\n",
    "**Measures of Variability:**\n",
    "\n",
    "1. **Range:** The range is the difference between the maximum and minimum values in a dataset.\n",
    "   - **Use:** The range provides a simple measure of the spread or dispersion of the data. It gives an idea of how much the values in the dataset vary from the smallest to the largest value.\n",
    "\n",
    "2. **Variance:** The variance is the average of the squared differences between each value and the mean of the dataset.\n",
    "   - **Use:** Variance measures the average deviation of each data point from the mean. It gives a measure of the spread of the data, but because it's in squared units, it may be difficult to interpret directly.\n",
    "\n",
    "3. **Standard Deviation:** The standard deviation is the square root of the variance. It represents the average deviation of each data point from the mean.\n",
    "   - **Use:** Standard deviation is a commonly used measure of variability. It provides a more interpretable measure of spread compared to variance because it's in the same units as the original data.\n",
    "\n",
    "**How they are used:**\n",
    "\n",
    "- Measures of central tendency help describe the typical or central value of a dataset.\n",
    "- Measures of variability help describe the dispersion or spread of the data points around the central value.\n",
    "- Together, these measures provide a comprehensive summary of the dataset, giving insights into both the central tendency and the variability of the data. They are essential for understanding the characteristics and distribution of the data, enabling researchers to make informed decisions and draw meaningful conclusions."
   ]
  }
 ],
 "metadata": {
  "kernelspec": {
   "display_name": "Python 3",
   "language": "python",
   "name": "python3"
  },
  "language_info": {
   "name": "python",
   "version": "undefined.undefined.undefined"
  }
 },
 "nbformat": 4,
 "nbformat_minor": 2
}
