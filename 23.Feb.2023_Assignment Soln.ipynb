{
 "cells": [
  {
   "cell_type": "code",
   "execution_count": 1,
   "id": "9b8c09c9-9b02-482c-8fd4-cd615c4efa9a",
   "metadata": {},
   "outputs": [],
   "source": [
    "import pandas as pd"
   ]
  },
  {
   "cell_type": "markdown",
   "id": "b4637875-0502-4b48-9189-01eaf51f6206",
   "metadata": {},
   "source": [
    "#### Q1. Create a Pandas Series that contains the following data: 4, 8, 15, 16, 23, and 42. Then, print the series."
   ]
  },
  {
   "cell_type": "code",
   "execution_count": 4,
   "id": "f71ea703-a6eb-47c2-b9cb-7926d639876c",
   "metadata": {},
   "outputs": [
    {
     "name": "stdout",
     "output_type": "stream",
     "text": [
      "0     4\n",
      "1     8\n",
      "2    15\n",
      "3    16\n",
      "4    23\n",
      "5    42\n",
      "dtype: int64\n"
     ]
    }
   ],
   "source": [
    "a = pd.Series([4,8,15,16,23,42])\n",
    "print(a)"
   ]
  },
  {
   "cell_type": "code",
   "execution_count": 7,
   "id": "8742b2ed-9017-41e7-a005-0d23e37c6842",
   "metadata": {},
   "outputs": [
    {
     "data": {
      "text/plain": [
       "pandas.core.series.Series"
      ]
     },
     "execution_count": 7,
     "metadata": {},
     "output_type": "execute_result"
    }
   ],
   "source": [
    "type(a)"
   ]
  },
  {
   "cell_type": "markdown",
   "id": "a5e91dbd-f7d6-4bcc-8fe4-5c83ad68d4ae",
   "metadata": {},
   "source": [
    "#### Q2. Create a variable of list type containing 10 elements in it, and apply pandas.Series function on the variable print it."
   ]
  },
  {
   "cell_type": "code",
   "execution_count": 6,
   "id": "7a360bff-5f06-4191-acd6-1edbcf7e70f0",
   "metadata": {},
   "outputs": [
    {
     "name": "stdout",
     "output_type": "stream",
     "text": [
      "0                         1\n",
      "1                         a\n",
      "2                        is\n",
      "3                  pwskills\n",
      "4                        10\n",
      "5                        23\n",
      "6                        45\n",
      "7                        24\n",
      "8                   ineuron\n",
      "9    mere laptop purana hai\n",
      "dtype: object\n"
     ]
    }
   ],
   "source": [
    "b = [1, \"a\", \"is\", \"pwskills\", \"10\", 23, 45, 24, \"ineuron\", \"mere laptop purana hai\" ]\n",
    "B = pd.Series(b)\n",
    "print(B)"
   ]
  },
  {
   "cell_type": "code",
   "execution_count": 8,
   "id": "905ee685-8c90-4bda-aad5-3e67688ac7a0",
   "metadata": {},
   "outputs": [
    {
     "data": {
      "text/plain": [
       "pandas.core.series.Series"
      ]
     },
     "execution_count": 8,
     "metadata": {},
     "output_type": "execute_result"
    }
   ],
   "source": [
    "type(B)"
   ]
  },
  {
   "attachments": {
    "cb092adf-746b-49ab-811b-8890ca6dd474.png": {
     "image/png": "[encoded data removed]"
    }
   },
   "cell_type": "markdown",
   "id": "082cf98e-aa3c-4be7-90e8-8caa7809d11e",
   "metadata": {},
   "source": [
    "#### Q3. Create a Pandas DataFrame that contains the following data:![Screenshot (284).png](attachment:cb092adf-746b-49ab-811b-8890ca6dd474.png) Then, print the DataFrame."
   ]
  },
  {
   "cell_type": "code",
   "execution_count": 12,
   "id": "04321216-a8ab-4b5c-9eac-64151e16907c",
   "metadata": {},
   "outputs": [
    {
     "name": "stdout",
     "output_type": "stream",
     "text": [
      "     Name  Age    Gender\n",
      "0   Alice   25   Female \n",
      "1     Bob   30     Male \n",
      "2  Claire   27   Female  <class 'pandas.core.frame.DataFrame'>\n"
     ]
    }
   ],
   "source": [
    "data = {'Name' : ['Alice', 'Bob', 'Claire'],\n",
    "     'Age' : [25, 30, 27],\n",
    "     'Gender' : [' Female ', ' Male ' , ' Female ']}\n",
    "\n",
    "df = pd.DataFrame(data)\n",
    "print(df, type(df))"
   ]
  },
  {
   "cell_type": "markdown",
   "id": "6e8f348c-74a3-47f9-961b-6c13edf050ef",
   "metadata": {},
   "source": [
    "#### Q4. What is ‘DataFrame’ in pandas and how is it different from pandas.series? Explain with an example."
   ]
  },
  {
   "cell_type": "markdown",
   "id": "2cd01ee4-a607-448e-b0f1-35f2b9cb6a3a",
   "metadata": {},
   "source": [
    "In pandas, a **DataFrame** is a two-dimensional, tabular data structure that is designed to store and manipulate heterogeneous data. It is similar to a spreadsheet or SQL table, where data is organized in rows and columns. Each column in a DataFrame is a Pandas Series, and they share many properties. However, a DataFrame can be thought of as a container for multiple Series.\n",
    "\n",
    "Here's a brief comparison between a DataFrame and a Series:\n",
    "\n",
    "1. **DataFrame:**\n",
    "   - Two-dimensional table of data.\n",
    "   - Consists of rows and columns.\n",
    "   - Can store data of different data types in different columns.\n",
    "   - Suitable for handling complex, structured data.\n",
    "\n",
    "2. **Series:**\n",
    "   - One-dimensional array.\n",
    "   - Similar to a column in a DataFrame.\n",
    "   - Homogeneous data structure (all elements have the same data type).\n",
    "   - Useful for handling one-dimensional data.\n",
    "\n",
    "Let's illustrate the difference with an example:\n",
    "\n",
    "```python\n",
    "import pandas as pd\n",
    "\n",
    "# Creating a DataFrame\n",
    "data = {\n",
    "    'Name': ['Alice', 'Bob', 'Charlie'],\n",
    "    'Age': [25, 30, 22],\n",
    "    'City': ['New York', 'San Francisco', 'Los Angeles']\n",
    "}\n",
    "\n",
    "df = pd.DataFrame(data)\n",
    "\n",
    "# Creating a Series\n",
    "ages_series = pd.Series([25, 30, 22], name='Age')\n",
    "\n",
    "# Printing the DataFrame and Series\n",
    "print(\"DataFrame:\")\n",
    "print(df)\n",
    "print(\"\\nSeries:\")\n",
    "print(ages_series)\n",
    "```\n",
    "\n",
    "In this example, the `df` DataFrame has three columns ('Name', 'Age', 'City'), where each column is a Pandas Series. The `ages_series` is a standalone Series representing the 'Age' column. The DataFrame provides a structure to organize multiple Series together, making it more convenient for handling and analyzing tabular data."
   ]
  },
  {
   "cell_type": "markdown",
   "id": "c57c65c3-5f3c-4f66-b8db-18fdcf820809",
   "metadata": {},
   "source": [
    "#### Q5. What are some common functions you can use to manipulate data in a Pandas DataFrame? Can you give an example of when you might use one of these functions?"
   ]
  },
  {
   "cell_type": "markdown",
   "id": "28d4a109-822c-4cdb-9356-94c8f4a24f2c",
   "metadata": {},
   "source": [
    "Pandas provides a wide range of functions to manipulate and analyze data in a DataFrame. Here are some common functions:\n",
    "\n",
    "1. **head() and tail():**\n",
    "   - **Example:** `df.head()` returns the first 5 rows of the DataFrame. Useful for quickly inspecting the structure of the data.\n",
    "\n",
    "2. **info():**\n",
    "   - **Example:** `df.info()` provides a concise summary of the DataFrame, including data types and missing values. Helpful for understanding the data types and identifying missing values.\n",
    "\n",
    "3. **describe():**\n",
    "   - **Example:** `df.describe()` generates descriptive statistics of the DataFrame, such as mean, standard deviation, minimum, and maximum values. Useful for understanding the distribution of numerical data.\n",
    "\n",
    "4. **loc[] and iloc[]:**\n",
    "   - **Example:** `df.loc[:, 'ColumnName']` selects all rows for a specific column using the column name. `df.iloc[:, 0]` selects all rows for the first column using the column index. Useful for indexing and selecting specific data.\n",
    "\n",
    "5. **drop():**\n",
    "   - **Example:** `df.drop('ColumnName', axis=1)` drops a specific column from the DataFrame. Helpful for removing unnecessary columns.\n",
    "\n",
    "6. **groupby():**\n",
    "   - **Example:** `df.groupby('Category')['Column'].mean()` groups the DataFrame by a specific category and calculates the mean of a particular column for each group. Useful for aggregating and summarizing data.\n",
    "\n",
    "7. **sort_values():**\n",
    "   - **Example:** `df.sort_values(by='Column', ascending=False)` sorts the DataFrame based on values in a specific column in descending order. Useful for sorting data.\n",
    "\n",
    "8. **fillna():**\n",
    "   - **Example:** `df.fillna(value)` fills missing values in the DataFrame with a specified value. Helpful for handling missing data.\n",
    "\n",
    "9. **apply():**\n",
    "   - **Example:** `df['Column'].apply(lambda x: x * 2)` applies a custom function to each element in a column. Useful for applying a transformation to the data.\n",
    "\n",
    "10. **merge():**\n",
    "    - **Example:** `pd.merge(df1, df2, on='KeyColumn')` merges two DataFrames based on a common column. Useful for combining data from different sources."
   ]
  },
  {
   "cell_type": "markdown",
   "id": "b7309954-4c1a-46d0-affb-be38ae1b476f",
   "metadata": {},
   "source": [
    "#### Q6. Which of the following is mutable in nature Series, DataFrame, Panel?"
   ]
  },
  {
   "cell_type": "markdown",
   "id": "ee9a8b3f-a768-4144-9f5d-afb63ba4286e",
   "metadata": {},
   "source": [
    "In Pandas, among Series, DataFrame, and Panel, the only mutable data structure is the **DataFrame**. Both Series and Panel are immutable.\n",
    "\n",
    "- **Series:** Immutable, meaning you cannot change the values of elements in a Series after it has been created.\n",
    "\n",
    "- **DataFrame:** Mutable, meaning you can modify the content of a DataFrame. You can add or remove columns, update values, and perform various manipulations.\n",
    "\n",
    "- **Panel:** While Panel was a data structure in earlier versions of Pandas, it has been deprecated. MultiIndex DataFrames are now recommended to handle 3D data.\n",
    "\n",
    "So, to summarize, DataFrame is the mutable data structure among the options provided."
   ]
  },
  {
   "cell_type": "markdown",
   "id": "21bb8651-d017-4861-a056-094b4467365f",
   "metadata": {},
   "source": [
    "#### Q7. Create a DataFrame using multiple Series. Explain with an example."
   ]
  },
  {
   "cell_type": "markdown",
   "id": "065c8e5b-2d6f-4495-9902-587da82d116e",
   "metadata": {},
   "source": [
    "Certainly! We can create a DataFrame using multiple Series by combining them into a dictionary where each key-value pair represents a column name and the corresponding Series. Here's an example:\n",
    "\n",
    "```python\n",
    "import pandas as pd\n",
    "\n",
    "# Creating multiple Series\n",
    "name_series = pd.Series(['Alice', 'Bob', 'Charlie'], name='Name')\n",
    "age_series = pd.Series([25, 30, 22], name='Age')\n",
    "city_series = pd.Series(['New York', 'San Francisco', 'Los Angeles'], name='City')\n",
    "\n",
    "# Creating a DataFrame using the Series\n",
    "data = {'Name': name_series, 'Age': age_series, 'City': city_series}\n",
    "df = pd.DataFrame(data)\n",
    "\n",
    "# Displaying the DataFrame\n",
    "print(df)\n",
    "```\n",
    "\n",
    "**Output:**\n",
    "```\n",
    "      Name  Age           City\n",
    "0    Alice   25       New York\n",
    "1      Bob   30  San Francisco\n",
    "2  Charlie   22    Los Angeles\n",
    "```\n",
    "\n",
    "In this example, we create three Series (`name_series`, `age_series`, and `city_series`), each representing a column of the DataFrame. Then, we combine these Series into a dictionary called `data`, where the keys are the column names ('Name', 'Age', 'City') and the values are the corresponding Series. Finally, we use `pd.DataFrame(data)` to create a DataFrame from the dictionary.\n",
    "\n",
    "The resulting DataFrame has three columns: 'Name', 'Age', and 'City', and each column is populated with the values from the respective Series."
   ]
  }
 ],
 "metadata": {
  "kernelspec": {
   "display_name": "Python 3 (ipykernel)",
   "language": "python",
   "name": "python3"
  },
  "language_info": {
   "codemirror_mode": {
    "name": "ipython",
    "version": 3
   },
   "file_extension": ".py",
   "mimetype": "text/x-python",
   "name": "python",
   "nbconvert_exporter": "python",
   "pygments_lexer": "ipython3",
   "version": "3.10.8"
  }
 },
 "nbformat": 4,
 "nbformat_minor": 5
}
