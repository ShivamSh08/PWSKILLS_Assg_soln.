{
 "cells": [
  {
   "cell_type": "markdown",
   "id": "e28cc5c2-f444-4dd1-9fef-8dce2c3af7e3",
   "metadata": {},
   "source": [
    "#### Q1. Explain Class and Object with respect to Object-Oriented Programming. Give a suitable example. <br>\n",
    "\n",
    "Ans. <br>\n",
    "\n",
    "#### **Class** :- <br>\n",
    "Python is an object-oriented programming language. Unlike procedure-oriented programming, where the main emphasis is on functions, object-oriented programming stresses on objects. We can think of a class as a sketch (prototype) of a house. It contains all the details about the floors, doors, windows, etc. Based on these descriptions we build the house. House is the object. As many houses can be made from a house's blueprint, we can create many objects from a class.\n",
    "**An object is also called an instance of a class and the process of creating this object is called instantiation.**\n",
    " \n",
    " **Example:-**"
   ]
  },
  {
   "cell_type": "code",
   "execution_count": 3,
   "id": "6d227ece-a3c6-4f03-a27f-b789c5cbcd41",
   "metadata": {},
   "outputs": [],
   "source": [
    "class Car(object):\n",
    "    def __init__(self, model,color, speed):\n",
    "        self.model = model\n",
    "        self.color = color\n",
    "        self.speed = speed\n",
    "\n",
    "    def car_properties(self):\n",
    "        return self.model, self.color, self.speed"
   ]
  },
  {
   "cell_type": "markdown",
   "id": "2d5e75ae-747b-42c8-917d-287e21c5c7b8",
   "metadata": {},
   "source": [
    "Here **Car** is a class which contain blueprint of car properties like, model, color, speed."
   ]
  },
  {
   "cell_type": "markdown",
   "id": "da585991-14b4-4be2-99de-260a90bdf5da",
   "metadata": {},
   "source": [
    "**Object:-** <br>\n",
    "\n",
    "An object (instance) is an instantiation of a class. When class is defined, only the description for the object is defined. Therefore, no memory or storage is allocated. The object is an entity that has state and behavior. It may be any real-world object like the mouse, keyboard, chair, table, pen, etc. **Everything in Python is an object, and almost everything has attributes and methods. All functions have a built-in attribute __doc__, which returns the docstring defined in the function source code.**\n",
    "**When we define a class, it needs to create an object to allocate the memory.** Object is also known as reference_variable. The object is an entity that has a state and behavior associated with it.\n",
    "<br>\n",
    "The object is an entity that has a state and behavior associated with it. It may be any real-world object like a mouse, keyboard, chair, table, pen, etc. Integers, strings, floating-point numbers, even arrays, and dictionaries, are all objects. More specifically, any single integer or any single string is an object. The number 12 is an object, the string “Hello, world” is an object, a list is an object that can hold other objects, and so on. You’ve been using objects all along and may not even realize it.\n",
    "<br>\n",
    "An object consists of :<br>\n",
    "**● State:** It is represented by the attributes of an object. It also reflects the properties of an object.<br>\n",
    "**● Behavior:** It is represented by the methods of an object. It also reflects the response of an object to other objects.<br>\n",
    "**● Identity:** It gives a unique name to an object and enables one object to interact with other objects.<br>\n",
    "\n",
    "**Example:-**"
   ]
  },
  {
   "cell_type": "code",
   "execution_count": 8,
   "id": "2ae2ccf2-0830-4c61-850f-a2359ba6b744",
   "metadata": {},
   "outputs": [
    {
     "data": {
      "text/plain": [
       "('BMW', 'red', 234)"
      ]
     },
     "execution_count": 8,
     "metadata": {},
     "output_type": "execute_result"
    }
   ],
   "source": [
    "bmw = Car(\"BMW\",\"red\", 234)\n",
    "ferrari = Car(\"Ferrari\",\"black\", 196)\n",
    "ford = Car(\"Ford\",\"blue\", 250)\n",
    "\n",
    "bmw.car_properties()"
   ]
  },
  {
   "cell_type": "code",
   "execution_count": 10,
   "id": "8674aa93-db1f-48e4-a244-f4f7d0a073bc",
   "metadata": {},
   "outputs": [
    {
     "data": {
      "text/plain": [
       "('Ferrari', 'black', 196)"
      ]
     },
     "execution_count": 10,
     "metadata": {},
     "output_type": "execute_result"
    }
   ],
   "source": [
    "ferrari.car_properties()"
   ]
  },
  {
   "cell_type": "code",
   "execution_count": 11,
   "id": "c7cbfc1e-ba1c-46db-a0b8-4123b36444eb",
   "metadata": {},
   "outputs": [
    {
     "data": {
      "text/plain": [
       "('Ford', 'blue', 250)"
      ]
     },
     "execution_count": 11,
     "metadata": {},
     "output_type": "execute_result"
    }
   ],
   "source": [
    "ford.car_properties()"
   ]
  },
  {
   "cell_type": "markdown",
   "id": "32f29429-a50a-4f33-a8b7-8ab2a85278aa",
   "metadata": {},
   "source": [
    "Here *BMW*, *Ferrari*, *Ford* is object or instance of real world Entity which actually accessing the variable of class as an object of that class."
   ]
  },
  {
   "cell_type": "markdown",
   "id": "f78aba48-32d2-4ebd-8073-819ebfae5696",
   "metadata": {},
   "source": [
    "#### Q2. Name the four pillars of OOPs.<br>\n",
    "\n",
    "Ans <br>\n",
    "The Four pillars of OOPs are **Inheritance, Polymorphism, Encapsulation and Abstraction.**"
   ]
  },
  {
   "cell_type": "markdown",
   "id": "b9cc279d-24ef-4b2b-9e35-795de507c475",
   "metadata": {},
   "source": [
    "#### Q3. Explain why the __init__() function is used. Give a suitable example.<br>\n",
    "\n",
    "Ans.<br>\n",
    "The __init__() function is used to initialize(assign values) to the data members of the class when an object of the class is created.<br>\n",
    "All classes have a function called __init__(), which is always executed when the class is being initiated.<br>\n",
    "\n",
    "Example:-\n"
   ]
  },
  {
   "cell_type": "code",
   "execution_count": 3,
   "id": "3c287c34-4391-4b36-835e-9d4ce63500c0",
   "metadata": {},
   "outputs": [],
   "source": [
    "class Car(object):\n",
    "    def __init__(self, model,color, speed):\n",
    "        self.model = model\n",
    "        self.color = color\n",
    "        self.speed = speed\n",
    "\n",
    "    def car_properties(self):\n",
    "        return self.model, self.color, self.speed"
   ]
  },
  {
   "cell_type": "code",
   "execution_count": 8,
   "id": "fa5487cc-ad62-4126-80d8-134c42a0e54f",
   "metadata": {},
   "outputs": [
    {
     "data": {
      "text/plain": [
       "('BMW', 'red', 234)"
      ]
     },
     "execution_count": 8,
     "metadata": {},
     "output_type": "execute_result"
    }
   ],
   "source": [
    "bmw = Car(\"BMW\",\"red\", 234)\n",
    "ferrari = Car(\"Ferrari\",\"black\", 196)\n",
    "ford = Car(\"Ford\",\"blue\", 250)\n",
    "\n",
    "bmw.car_properties()"
   ]
  },
  {
   "cell_type": "markdown",
   "id": "eca74b7d-9c35-4750-8bf9-889d444c2fcf",
   "metadata": {},
   "source": [
    "In the above example, car name **bmw** is created. While creating a car **bmw**, its properties like **model name = BMW, color = Red, Speed = 234** are passed as an argument, this argument will be passed to the __init__ method to initialize the object. The keyword self represents the instance of a class and binds the attributes with the given arguments. Similarly, many objects of the Car class can be created by passing different properties relate to that car as arguments."
   ]
  },
  {
   "cell_type": "markdown",
   "id": "125f2b28-2b3a-4a23-9662-587d87863f9e",
   "metadata": {},
   "source": [
    "#### Q4. Why self is used in OOPs?<br>\n",
    "\n",
    "Ans<br>\n",
    "Self is the default variable which is always pointing to the current object. By using self we can access instance variables and instance methods of objects. Self is the first argument to be passed in the Constructor and Instance Method.\n",
    "\n",
    "Self also represents the instance of the class. By using the “self”  we can access the attributes and methods of the class in python. It binds the attributes with the given arguments."
   ]
  },
  {
   "cell_type": "markdown",
   "id": "d5e3bef7-6057-4319-86db-46bb8349dc0c",
   "metadata": {},
   "source": [
    "#### Q5. What is inheritance? Give an example for each type of inheritance.<br>\n",
    "\n",
    "Ans <br>\n",
    "Inheritance is the most important aspect of object-oriented programming, which simulates the real-world concept of inheritance. It specifies that the child object acquires all the properties and behaviors of the parent object.<br>\n",
    "\n",
    "Inheritance is categorized based on the hierarchy followed and the number of parent classes and subclasses involved.<br>\n",
    "\n",
    "There are five types of inheritances:<br>\n",
    "\n",
    "* Single Inheritance<br>\n",
    "* Multiple Inheritance<br>\n",
    "* Multilevel Inheritance<br>\n",
    "* Hierarchical Inheritance<br>\n",
    "* Hybrid Inheritance<br>\n"
   ]
  },
  {
   "cell_type": "markdown",
   "id": "c6c235cf-1df8-4963-a77a-52e4e41e973e",
   "metadata": {},
   "source": [
    "##### **Single Inheritance:** <br>\n",
    "Single inheritance enables a derived class to inherit properties from a single parent class, thus enabling code reusability and the addition of new features to existing code.\n",
    "\n",
    "Ex:-"
   ]
  },
  {
   "cell_type": "code",
   "execution_count": 12,
   "id": "2143eb40-1024-426a-9d1d-a678a8eee5c6",
   "metadata": {},
   "outputs": [
    {
     "name": "stdout",
     "output_type": "stream",
     "text": [
      "Parent class.\n",
      "Child class.\n"
     ]
    }
   ],
   "source": [
    "# Parent class\n",
    "class Parent:\n",
    "    def func1(self):\n",
    "        print(\"Parent class.\")\n",
    " \n",
    "#Child Class\n",
    "class Child(Parent):\n",
    "    def func2(self):\n",
    "        print(\"Child class.\")\n",
    "\n",
    "object = Child()\n",
    "object.func1()\n",
    "object.func2()"
   ]
  },
  {
   "cell_type": "markdown",
   "id": "514987f9-5563-4ac0-982a-a5bc819ce745",
   "metadata": {},
   "source": [
    "##### **Multiple Inheritance:** <br>\n",
    "When a class can be derived from more than one base class this type of inheritance is called multiple inheritances. In multiple inheritances, all the features of the base classes are inherited into the derived class. <br>\n",
    "\n",
    "Ex:-"
   ]
  },
  {
   "cell_type": "code",
   "execution_count": 17,
   "id": "f8d46bd4-512b-4ec8-b167-ea4844ee81ad",
   "metadata": {},
   "outputs": [
    {
     "name": "stdout",
     "output_type": "stream",
     "text": [
      "Father : RAM\n",
      "Mother : SITA\n"
     ]
    }
   ],
   "source": [
    "# Parent class1\n",
    "class Mother:\n",
    "    mothername = \"\"\n",
    " \n",
    "    def mother(self):\n",
    "        print(self.mothername)\n",
    "\n",
    "# Parent class2 \n",
    "class Father:\n",
    "    fathername = \"\"\n",
    " \n",
    "    def father(self):\n",
    "        print(self.fathername)\n",
    "\n",
    "# Child class\n",
    "class Son(Mother, Father):\n",
    "    def parents(self):\n",
    "        print(\"Father :\", self.fathername)\n",
    "        print(\"Mother :\", self.mothername)\n",
    " \n",
    " \n",
    "s1 = Son()\n",
    "s1.fathername = \"RAM\"\n",
    "s1.mothername = \"SITA\"\n",
    "s1.parents()"
   ]
  },
  {
   "cell_type": "markdown",
   "id": "1f87a2ff-220a-41cc-b4ec-8a1b2b9dd791",
   "metadata": {},
   "source": [
    "##### **Multilevel Inheritance :** <br>\n",
    "\n",
    "In multilevel inheritance, features of the base class and the derived class are further inherited into the new derived class. This is similar to a relationship representing a child and a grandfather. <br>\n",
    "Ex:-"
   ]
  },
  {
   "cell_type": "code",
   "execution_count": 18,
   "id": "33068bc5-a71e-4260-b0e8-c3e3af95815a",
   "metadata": {},
   "outputs": [
    {
     "name": "stdout",
     "output_type": "stream",
     "text": [
      "Lal mani\n",
      "Grandfather name : Lal mani\n",
      "Father name : Rampal\n",
      "Son name : Prince\n"
     ]
    }
   ],
   "source": [
    "# Parent Class1\n",
    "class Grandfather:\n",
    " \n",
    "    def __init__(self, grandfathername):\n",
    "        self.grandfathername = grandfathername\n",
    "\n",
    "        \n",
    "# Child class\n",
    "class Father(Grandfather):\n",
    "    def __init__(self, fathername, grandfathername):\n",
    "        self.fathername = fathername\n",
    " \n",
    "        # invoking constructor of Grandfather class\n",
    "        Grandfather.__init__(self, grandfathername)\n",
    " \n",
    "\n",
    "# Grand Child class \n",
    "class Son(Father):\n",
    "    def __init__(self, sonname, fathername, grandfathername):\n",
    "        self.sonname = sonname\n",
    " \n",
    "        # invoking constructor of Father class\n",
    "        Father.__init__(self, fathername, grandfathername)\n",
    " \n",
    "    def print_name(self):\n",
    "        print('Grandfather name :', self.grandfathername)\n",
    "        print(\"Father name :\", self.fathername)\n",
    "        print(\"Son name :\", self.sonname)\n",
    " \n",
    " \n",
    "s1 = Son('Prince', 'Rampal', 'Lal mani')\n",
    "print(s1.grandfathername)\n",
    "s1.print_name()"
   ]
  },
  {
   "cell_type": "markdown",
   "id": "ae9613f7-f3d1-4972-8c0f-a1a9acc68af1",
   "metadata": {},
   "source": [
    "##### **Hierarchical Inheritance:** <br>\n",
    "When more than one derived class are created from a single base this type of inheritance is called hierarchical inheritance. In this program, we have a parent (base) class and two child (derived) classes.\n",
    "\n",
    "Ex:-<br>"
   ]
  },
  {
   "cell_type": "code",
   "execution_count": 20,
   "id": "80a5dc89-7182-4018-bb4e-5dd238fb536b",
   "metadata": {},
   "outputs": [
    {
     "name": "stdout",
     "output_type": "stream",
     "text": [
      "This function is in parent class.\n",
      "This function is in child 1.\n",
      "This function is in parent class.\n",
      "This function is in child 2.\n"
     ]
    }
   ],
   "source": [
    "# Parent class\n",
    "class Parent:\n",
    "    def func1(self):\n",
    "        print(\"This function is in parent class.\")\n",
    " \n",
    "\n",
    "# Child class1\n",
    "class Child1(Parent):\n",
    "    def func2(self):\n",
    "        print(\"This function is in child 1.\")\n",
    " \n",
    "\n",
    "# Child class2\n",
    "class Child2(Parent):\n",
    "    def func3(self):\n",
    "        print(\"This function is in child 2.\")\n",
    " \n",
    " \n",
    "# Driver's code\n",
    "object1 = Child1()\n",
    "object2 = Child2()\n",
    "object1.func1()\n",
    "object1.func2()\n",
    "object2.func1()\n",
    "object2.func3()"
   ]
  },
  {
   "cell_type": "markdown",
   "id": "7d3c902e-f43b-49f7-ae55-aef4ee49bb14",
   "metadata": {},
   "source": [
    "##### **Hybrid Inheritance:**<br> \n",
    "Inheritance consisting of multiple types of inheritance is called hybrid inheritance.<br>\n",
    "\n",
    "Ex:-<br>"
   ]
  },
  {
   "cell_type": "code",
   "execution_count": 21,
   "id": "420154a9-6756-49a2-828f-3c08c7814d5d",
   "metadata": {},
   "outputs": [
    {
     "name": "stdout",
     "output_type": "stream",
     "text": [
      "This function is in school.\n",
      "This function is in student 1. \n"
     ]
    }
   ],
   "source": [
    "class School:\n",
    "    def func1(self):\n",
    "        print(\"This function is in school.\")\n",
    " \n",
    " \n",
    "class Student1(School):\n",
    "    def func2(self):\n",
    "        print(\"This function is in student 1. \")\n",
    " \n",
    " \n",
    "class Student2(School):\n",
    "    def func3(self):\n",
    "        print(\"This function is in student 2.\")\n",
    " \n",
    " \n",
    "class Student3(Student1, School):\n",
    "    def func4(self):\n",
    "        print(\"This function is in student 3.\")\n",
    " \n",
    " \n",
    "object = Student3()\n",
    "object.func1()\n",
    "object.func2()"
   ]
  },
  {
   "cell_type": "markdown",
   "id": "b17fa2a9-0b90-4585-bf65-a99cea48179a",
   "metadata": {},
   "source": []
  },
  {
   "cell_type": "markdown",
   "id": "91bcb13b-320c-4aa0-8588-75bc6e4332ec",
   "metadata": {},
   "source": []
  }
 ],
 "metadata": {
  "kernelspec": {
   "display_name": "Python 3 (ipykernel)",
   "language": "python",
   "name": "python3"
  },
  "language_info": {
   "codemirror_mode": {
    "name": "ipython",
    "version": 3
   },
   "file_extension": ".py",
   "mimetype": "text/x-python",
   "name": "python",
   "nbconvert_exporter": "python",
   "pygments_lexer": "ipython3",
   "version": "3.10.8"
  }
 },
 "nbformat": 4,
 "nbformat_minor": 5
}
