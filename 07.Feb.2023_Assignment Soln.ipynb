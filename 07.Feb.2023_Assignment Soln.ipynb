{
 "cells": [
  {
   "cell_type": "markdown",
   "id": "b993214c-cf26-4bca-9cef-b1b9e916c16c",
   "metadata": {},
   "source": [
    "#### Q1. You are writing code for a company. The requirement of the company is that you create a python function that will check whether the password entered by the user is correct or not. The function should take the password as input and returned the string \"Valid Password\" if the enterwd password follows the below given password guidelines else it should \"Invalid Password\". <br>\n",
    "\n",
    "**Note:** 1. The password should contain at least two uppercase letters and at least two lowercase letters.<br>\n",
    "2. The password should contain at least a number and three sprcial characters.<br>\n",
    "3. The length of the password should be 10 characters long.\n"
   ]
  },
  {
   "cell_type": "code",
   "execution_count": 2,
   "id": "be5c61ee-c4e7-482d-bb53-a6e8481d4069",
   "metadata": {},
   "outputs": [],
   "source": [
    "def check_password(password):\n",
    "    # Check password length\n",
    "    if len(password) < 8:\n",
    "        return \"Invalid Password: Password must be at least 8 characters long.\"\n",
    "    \n",
    "    # Check if password contains at least one uppercase letter\n",
    "    if not any(char.isupper() for char in password):\n",
    "        return \"Invalid Password: Password must contain at least one uppercase letter.\"\n",
    "    \n",
    "    # Check if password contains at least one lowercase letter\n",
    "    if not any(char.islower() for char in password):\n",
    "        return \"Invalid Password: Password must contain at least one lowercase letter.\"\n",
    "    \n",
    "    # Check if password contains at least one digit\n",
    "    if not any(char.isdigit() for char in password):\n",
    "        return \"Invalid Password: Password must contain at least one digit.\"\n",
    "    \n",
    "    # Check if password contains at least one special character\n",
    "    special_chars = \"!@#$%^&*()_+-=[]{}|;:,<.>/?\"\n",
    "    if not any(char in special_chars for char in password):\n",
    "        return \"Invalid Password: Password must contain at least one special character.\"\n",
    "    \n",
    "    # If all requirements are met, return \"Valid Password\"\n",
    "    return \"Valid Password\""
   ]
  },
  {
   "cell_type": "code",
   "execution_count": null,
   "id": "7eb2743a-e780-4ca1-9cc7-e8e25dbb1477",
   "metadata": {},
   "outputs": [
    {
     "data": {
      "text/plain": [
       "'Valid Password'"
      ]
     },
     "execution_count": 3,
     "metadata": {},
     "output_type": "execute_result"
    }
   ],
   "source": [
    "check_password('Loki*007')"
   ]
  },
  {
   "cell_type": "markdown",
   "id": "e6af309c-a80c-418d-8e51-d5efc2511239",
   "metadata": {},
   "source": [
    "#### Q2. Solve the below given questions using at least one of the following:<br>\n",
    "\n",
    "1. Lambda function <br>\n",
    "2. Filter function <br>\n",
    "3. Map Function <br>\n",
    "4. List Comprehension <br>\n",
    "\n",
    "* Check if the string starts with a particular letter.<br>\n",
    "* Check if the string is numeric.<br>\n",
    "* Sort a lsit of tuples having  fruit names and their quantity.[('mango',99),('orange',80),('grapes',100)]<br>\n",
    "* Find the squares of the numbers from 1 to 10. <br>\n",
    "* Find the cube root of numbers from 1 to 10.<br>\n",
    "* Check if a given number is even.<br>\n",
    "* Filter odd numbers from theg iven list. [1,2,3,4,5,6,7,8,9,10]<br>\n",
    "* Sort a list of integers into positive and negative integers lists. [1,2,3,4,5,6,-1,-2,-3,-4,-5,0]"
   ]
  },
  {
   "cell_type": "markdown",
   "id": "7edfaf83-31b9-4990-9528-50d6f9b54779",
   "metadata": {},
   "source": [
    "##### * Check if the string starts with a particular letter <br>"
   ]
  },
  {
   "cell_type": "code",
   "execution_count": 41,
   "id": "4b93f24c-e57e-40a8-b765-5adf92cdb95e",
   "metadata": {},
   "outputs": [],
   "source": [
    "starts_with = lambda x : True if x.startswith('S') else False\n",
    "   "
   ]
  },
  {
   "cell_type": "code",
   "execution_count": 43,
   "id": "8ba418c3-d52f-4c21-83eb-0566572244cc",
   "metadata": {},
   "outputs": [
    {
     "data": {
      "text/plain": [
       "False"
      ]
     },
     "execution_count": 43,
     "metadata": {},
     "output_type": "execute_result"
    }
   ],
   "source": [
    "starts_with('A')"
   ]
  },
  {
   "cell_type": "markdown",
   "id": "9c530890-55fa-41bc-a839-f3a767f2e7b6",
   "metadata": {},
   "source": [
    "##### * Check if the string is numeric."
   ]
  },
  {
   "cell_type": "code",
   "execution_count": 44,
   "id": "be949734-83a7-4a1a-984d-b1c8daad6bfd",
   "metadata": {},
   "outputs": [],
   "source": [
    "is_num = lambda x : True if x.isnumeric() else False"
   ]
  },
  {
   "cell_type": "code",
   "execution_count": 46,
   "id": "0f77fa16-09e9-4654-ba84-de251de6fb52",
   "metadata": {},
   "outputs": [
    {
     "data": {
      "text/plain": [
       "False"
      ]
     },
     "execution_count": 46,
     "metadata": {},
     "output_type": "execute_result"
    }
   ],
   "source": [
    "is_num('123A')"
   ]
  },
  {
   "cell_type": "markdown",
   "id": "bdfd9d7b-7745-4e9d-a491-baffc0b51b86",
   "metadata": {},
   "source": [
    "##### * Sort a list of tuples having fruit names and their quantity.[('mango',99),('orange',80),('grapes',100)]"
   ]
  },
  {
   "cell_type": "code",
   "execution_count": 47,
   "id": "1db66e22-1e10-438c-b9f5-6b89a2c62b1a",
   "metadata": {},
   "outputs": [],
   "source": [
    "x = [('mango',99),('orange',80),('grapes',100)]"
   ]
  },
  {
   "cell_type": "code",
   "execution_count": 58,
   "id": "488d5acc-523d-48d9-b876-37747981c536",
   "metadata": {},
   "outputs": [],
   "source": [
    "def sort_list_tup(li):\n",
    "   return sorted(li, key = lambda x: x[0])"
   ]
  },
  {
   "cell_type": "code",
   "execution_count": 59,
   "id": "f59040b5-238a-44b4-a667-fac5475c039d",
   "metadata": {},
   "outputs": [
    {
     "data": {
      "text/plain": [
       "[('grapes', 100), ('mango', 99), ('orange', 80)]"
      ]
     },
     "execution_count": 59,
     "metadata": {},
     "output_type": "execute_result"
    }
   ],
   "source": [
    "sort_list_tup(x)"
   ]
  },
  {
   "cell_type": "code",
   "execution_count": 66,
   "id": "173ef035-a9e2-40ba-92ec-f0ce73f8527f",
   "metadata": {},
   "outputs": [
    {
     "data": {
      "text/plain": [
       "[('grapes', 100), ('mango', 99), ('orange', 80)]"
      ]
     },
     "execution_count": 66,
     "metadata": {},
     "output_type": "execute_result"
    }
   ],
   "source": [
    "sorted(x)"
   ]
  },
  {
   "cell_type": "markdown",
   "id": "ffd00494-5f8e-4e05-90d4-f94b397f10f3",
   "metadata": {},
   "source": [
    "##### * Find the squares of the numbers from 1 to 10."
   ]
  },
  {
   "cell_type": "code",
   "execution_count": 2,
   "id": "e359ef2c-9fc7-4695-9c70-a65fd54344b0",
   "metadata": {},
   "outputs": [
    {
     "data": {
      "text/plain": [
       "[1, 2, 3, 4, 5, 6, 7, 8, 9, 10]"
      ]
     },
     "execution_count": 2,
     "metadata": {},
     "output_type": "execute_result"
    }
   ],
   "source": [
    "lst = []\n",
    "for i in range (1, 11):\n",
    "    lst.append(i)\n",
    "lst"
   ]
  },
  {
   "cell_type": "code",
   "execution_count": 8,
   "id": "c4093544-b6ea-4811-b312-c1812ec49c4c",
   "metadata": {},
   "outputs": [
    {
     "data": {
      "text/plain": [
       "[1, 4, 9, 16, 25, 36, 49, 64, 81, 100]"
      ]
     },
     "execution_count": 8,
     "metadata": {},
     "output_type": "execute_result"
    }
   ],
   "source": [
    "list(map(lambda x : x*x, lst))"
   ]
  },
  {
   "cell_type": "markdown",
   "id": "4b1a90a4-6237-46f7-9062-de0bb563791b",
   "metadata": {},
   "source": [
    "##### * Find the cube root of numbers from 1 to 10."
   ]
  },
  {
   "cell_type": "code",
   "execution_count": 10,
   "id": "70b282a2-c9f9-4ed3-8f29-20def29f3520",
   "metadata": {},
   "outputs": [
    {
     "data": {
      "text/plain": [
       "[1, 2, 3, 4, 5, 6, 7, 8, 9, 10]"
      ]
     },
     "execution_count": 10,
     "metadata": {},
     "output_type": "execute_result"
    }
   ],
   "source": [
    "lst = []\n",
    "for i in range (1, 11):\n",
    "    lst.append(i)\n",
    "lst"
   ]
  },
  {
   "cell_type": "code",
   "execution_count": 12,
   "id": "c6995093-abfb-49a4-ac21-1dd749eef9b4",
   "metadata": {},
   "outputs": [
    {
     "data": {
      "text/plain": [
       "[1.0,\n",
       " 1.2599210498948732,\n",
       " 1.4422495703074083,\n",
       " 1.5874010519681994,\n",
       " 1.7099759466766968,\n",
       " 1.8171205928321397,\n",
       " 1.912931182772389,\n",
       " 2.0,\n",
       " 2.080083823051904,\n",
       " 2.154434690031884]"
      ]
     },
     "execution_count": 12,
     "metadata": {},
     "output_type": "execute_result"
    }
   ],
   "source": [
    "list(map(lambda x : x**(1/3), lst))"
   ]
  },
  {
   "cell_type": "markdown",
   "id": "f77cedba-4435-421a-9b19-1633207048bd",
   "metadata": {},
   "source": [
    "##### * Check if a given number is even."
   ]
  },
  {
   "cell_type": "code",
   "execution_count": 18,
   "id": "72232a5d-a855-416f-b004-e6b1f8bc9986",
   "metadata": {},
   "outputs": [],
   "source": [
    "Even_num = lambda x : 'even' if x%2==0 else 'odd'"
   ]
  },
  {
   "cell_type": "code",
   "execution_count": 20,
   "id": "31efb03d-cc26-4a82-9523-d005005656f7",
   "metadata": {},
   "outputs": [
    {
     "data": {
      "text/plain": [
       "'odd'"
      ]
     },
     "execution_count": 20,
     "metadata": {},
     "output_type": "execute_result"
    }
   ],
   "source": [
    "Even_num(5)"
   ]
  },
  {
   "cell_type": "markdown",
   "id": "7a8d09c0-b7d8-4a12-a3d0-111a45e33c79",
   "metadata": {},
   "source": [
    "##### * Filter odd numbers from theg iven list. [1,2,3,4,5,6,7,8,9,10]"
   ]
  },
  {
   "cell_type": "code",
   "execution_count": 21,
   "id": "3698866e-eaed-402b-a959-afb5a16005fd",
   "metadata": {},
   "outputs": [],
   "source": [
    "l1 = [1,2,3,4,5,6,7,8,9,10]"
   ]
  },
  {
   "cell_type": "code",
   "execution_count": 23,
   "id": "b1d4e556-d7a8-4394-a5b2-bb7f18dc5bc1",
   "metadata": {},
   "outputs": [
    {
     "data": {
      "text/plain": [
       "[1, 3, 5, 7, 9]"
      ]
     },
     "execution_count": 23,
     "metadata": {},
     "output_type": "execute_result"
    }
   ],
   "source": [
    "list(filter(lambda x : x%2!=0, l1))"
   ]
  },
  {
   "cell_type": "markdown",
   "id": "89f5122e-2ad8-4ddd-b7b8-277db995a5a3",
   "metadata": {},
   "source": [
    "##### * Sort a list of integers into positive and negative integers lists. [1,2,3,4,5,6,-1,-2,-3,-4,-5,0]"
   ]
  },
  {
   "cell_type": "code",
   "execution_count": 24,
   "id": "2b9e694b-50bc-480b-9e78-41951f0d87d3",
   "metadata": {},
   "outputs": [],
   "source": [
    "l2 = [1,2,3,4,5,6,-1,-2,-3,-4,-5,0]"
   ]
  },
  {
   "cell_type": "code",
   "execution_count": 26,
   "id": "bcdd05f1-8c49-40f1-8348-c13eb967cdf5",
   "metadata": {},
   "outputs": [
    {
     "name": "stdout",
     "output_type": "stream",
     "text": [
      "[-1, -2, -3, -4, -5]\n",
      "[1, 2, 3, 4, 5, 6, 0]\n"
     ]
    }
   ],
   "source": [
    "Neg_Nums = list(filter(lambda x : x < 0, l2))\n",
    "Posi_Nums = list(filter(lambda x : x >= 0 , l2))\n",
    "                 \n",
    "print(Neg_Nums)\n",
    "print(Posi_Nums)"
   ]
  },
  {
   "cell_type": "code",
   "execution_count": null,
   "id": "4ba79661-fa02-4c58-8f49-869478e57e79",
   "metadata": {},
   "outputs": [],
   "source": []
  }
 ],
 "metadata": {
  "kernelspec": {
   "display_name": "Python 3 (ipykernel)",
   "language": "python",
   "name": "python3"
  },
  "language_info": {
   "codemirror_mode": {
    "name": "ipython",
    "version": 3
   },
   "file_extension": ".py",
   "mimetype": "text/x-python",
   "name": "python",
   "nbconvert_exporter": "python",
   "pygments_lexer": "ipython3",
   "version": "3.10.8"
  }
 },
 "nbformat": 4,
 "nbformat_minor": 5
}
