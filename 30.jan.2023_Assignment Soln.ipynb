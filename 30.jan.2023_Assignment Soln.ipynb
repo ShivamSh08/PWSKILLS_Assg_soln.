{
 "cells": [
  {
   "cell_type": "markdown",
   "id": "5a64bb1d-9571-49ff-a331-b053db5ef7a6",
   "metadata": {},
   "source": [
    "## Assignment 2 Soln.:-"
   ]
  },
  {
   "cell_type": "markdown",
   "id": "add983e5-f735-465f-878f-bc66d6e5ef9d",
   "metadata": {},
   "source": [
    "Q1) Write a program to accept percentage from the user and display the grade according to the following criteria: <br>\n",
    "\n",
    "|Marks         |Grade|\n",
    "|-|-|\n",
    "|>90           | A   |\n",
    "|>80 and <=90  | B   |\n",
    "|>=60 and <=80 | C   |\n",
    "|Below 60      | D   |"
   ]
  },
  {
   "cell_type": "code",
   "execution_count": 1,
   "id": "9243f5a3-1633-4500-917b-201c3d712618",
   "metadata": {},
   "outputs": [
    {
     "name": "stdin",
     "output_type": "stream",
     "text": [
      " 80\n"
     ]
    },
    {
     "name": "stdout",
     "output_type": "stream",
     "text": [
      "Grade: C\n"
     ]
    }
   ],
   "source": [
    "p = Percentage = int(input())\n",
    "\n",
    "if p>90:\n",
    "    print('Grade: A')\n",
    "    \n",
    "elif p > 80 and p<=90:\n",
    "    print('Grade: B')\n",
    "    \n",
    "elif p >= 60 and p <= 80:\n",
    "    print('Grade: C')\n",
    "    \n",
    "else:\n",
    "    print('Grade: D')"
   ]
  },
  {
   "cell_type": "markdown",
   "id": "7d9d3c23-0b88-4273-8474-d97686d32cb7",
   "metadata": {},
   "source": [
    "Q2) Write a program to accept percentage the cost price of a bike and display the road tax to be paid according to the following criteria: <br>\n",
    "\n",
    "|Tax|Cost Price(in Rs.)|\n",
    "|-|-|\n",
    "|15% | >100000   |\n",
    "|10% | >50000 and<=100000   |\n",
    "|5% | <= 50000   |"
   ]
  },
  {
   "cell_type": "code",
   "execution_count": null,
   "id": "f01a91d5-e8ed-442d-a9de-42775cd20ac1",
   "metadata": {},
   "outputs": [],
   "source": [
    "cp = Cost_Price = int(input())\n",
    "\n",
    "if cp > 100000:\n",
    "    print('Road Tax:',cp*0.15)\n",
    "    \n",
    "elif cp > 50000 and cp <= 100000:\n",
    "    print('Road Tax:',cp*0.10)\n",
    "    \n",
    "else:\n",
    "    print('Road Tax:',cp*0.05)"
   ]
  },
  {
   "cell_type": "markdown",
   "id": "abe5f228-6c67-4fa9-aff4-2f2bac9227c8",
   "metadata": {},
   "source": [
    "Q3) Accept any city from the user and display monuments of that city. <br>\n",
    "\n",
    "|City|Monument|\n",
    "|-|-|\n",
    "|Delhi | Red Fort |\n",
    "|Agra | Taj Mahal   |\n",
    "|Jaipur | Jal Mahal   |"
   ]
  },
  {
   "cell_type": "code",
   "execution_count": null,
   "id": "e73267d8-c1bd-4f90-99da-c1f1ee314d33",
   "metadata": {},
   "outputs": [
    {
     "name": "stdin",
     "output_type": "stream",
     "text": [
      "Enter the City Name: Delhi\n"
     ]
    },
    {
     "name": "stdout",
     "output_type": "stream",
     "text": [
      "Monument is Red Fort\n"
     ]
    }
   ],
   "source": [
    " city = (input('Enter the City Name:'))\n",
    "if city == 'Delhi':\n",
    "    print('Monument is Red Fort')\n",
    "    \n",
    "elif city == 'Agra':\n",
    "    print('Monument is Taj Mahal')\n",
    "    \n",
    "else:\n",
    "    if city == 'Jaipur':\n",
    "        print('Monument is Jal Mahal')\n"
   ]
  },
  {
   "cell_type": "markdown",
   "id": "0cc2864f-0269-4c7d-9f90-86656f574b9b",
   "metadata": {},
   "source": [
    "Q4) Check how many times a given number can be divided by 3 before it is less than or equals to 10?\n"
   ]
  },
  {
   "cell_type": "code",
   "execution_count": null,
   "id": "08a3636d-65ea-497f-84fd-7a4c1673ec09",
   "metadata": {},
   "outputs": [],
   "source": [
    "num = int(input())\n",
    "count = 0\n",
    "while num >10:\n",
    "    count+=1\n",
    "    num = int(num/3)\n",
    "    print(count)"
   ]
  },
  {
   "cell_type": "markdown",
   "id": "f23613e0-597b-488a-b5b9-139fb57370e4",
   "metadata": {},
   "source": [
    "Q5) Why and When to use while Loop in Python give a detailed description with example?\n",
    "\n",
    "Ans. <br>\n",
    "While loop is used to runs a single statement or a set of statements for a given true condition, which means that the while loop runs the statement until condition goes False.As the condition goes False the loop breaks.<br>\n",
    "\n",
    "A \"while\" loop is used When the number of iterations is unknown. The statement is repeated until the boolean value is false. Because the condition is tested at the beginning of a while loop, it is also known as the pre-test loop.<br>\n",
    "\n",
    "The initialization and condition checking are done at the beginning of the loop.<br>\n",
    "\n",
    "* It is used only when the number of iterations isn’t known.\n",
    "\n",
    "* If the condition is not mentioned in the 'while' loop, it results in a compilation error.\n",
    "\n",
    "* If the initialization is done when the condition is being checked, then initialization occurs every time the loop is iterated through.\n",
    "\n",
    "* The iteration statement can be written within any point inside the loop.\n",
    "\n",
    "* Example:-\n",
    "    number = 0<br>\n",
    "    while number < 10:<br>\n",
    "        print(f\"Number is {number}!\")<br>\n",
    "        number = number + 1<br>\n",
    "* Output:- <br>\n",
    "Number is 0!<br>\n",
    "Number is 1!<br>\n",
    "Number is 2!<br>\n",
    "Number is 3!<br>\n",
    "Number is 4!<br>\n",
    "Number is 5!<br>\n",
    "Number is 6!<br>\n",
    "Number is 7!<br>\n",
    "Number is 8!<br>\n",
    "Number is 9!<br>\n",
    "\n",
    "##### Steps of execution:- <br>\n",
    "\n",
    "1. Here, the variable number is set to 0 initially.<br>\n",
    "\n",
    "2. Before any code is run, Python checks the condition (number < 10). It evaluates to True so the print statement gets executed and Number is 0! is printed to the console.<br>\n",
    "\n",
    "3. Number is then incremented by 1. The condition is re-evaluated and it is again True, so the whole procedure repeats until number is equal to 9.<br>\n",
    "\n",
    "4. This time Number is 9! is printed and number is incremented, but now number is equal to 10 so the condition is no longer met and therefore the loop is terminated.<br>"
   ]
  },
  {
   "cell_type": "markdown",
   "id": "c67a5583-87a6-4dd6-b281-606cc91e1bac",
   "metadata": {},
   "source": [
    "Q6) Use nested while loop to print 3 different pattern."
   ]
  },
  {
   "cell_type": "markdown",
   "id": "1ba94728-d6d3-4ac8-beae-b8297d9782e4",
   "metadata": {},
   "source": [
    "Ans.\n",
    "1. '*' right angle triangle."
   ]
  },
  {
   "cell_type": "code",
   "execution_count": null,
   "id": "fe08df93-e367-41f5-9570-f42516af8585",
   "metadata": {},
   "outputs": [],
   "source": [
    "n = int(input('Enter number of rows : '))\n",
    " \n",
    "i = 1\n",
    "while i <= n :\n",
    "    j = 1\n",
    "    while j <= i:\n",
    "        print(\"*\", end = \" \")\n",
    "        j += 1\n",
    "    print()\n",
    "    i += 1"
   ]
  },
  {
   "cell_type": "markdown",
   "id": "c10d3d57-a7f9-4d0d-8f46-716c7dffa943",
   "metadata": {},
   "source": [
    "2. '*' reverse right angle triangle."
   ]
  },
  {
   "cell_type": "code",
   "execution_count": null,
   "id": "604d9787-16a1-48d1-9bc6-72dce16955d1",
   "metadata": {},
   "outputs": [],
   "source": [
    "n = int(input('Enter number of rows : '))\n",
    " \n",
    "i = 1\n",
    "while i <= n :\n",
    "    j = n\n",
    "    while j >= i:\n",
    "        print(\"*\", end = \" \")\n",
    "        j -= 1\n",
    "    print()\n",
    "    i += 1"
   ]
  },
  {
   "cell_type": "markdown",
   "id": "2285f0d0-113c-4e49-9393-a96ce1d03cae",
   "metadata": {},
   "source": [
    "3. '*' Equilateral triangle."
   ]
  },
  {
   "cell_type": "code",
   "execution_count": null,
   "id": "97458e83-005e-4ae4-be2f-a586fbc8ff48",
   "metadata": {},
   "outputs": [],
   "source": [
    "n = 10\n",
    "i = 1\n",
    "while i < 10:\n",
    "    print(' '*n,end='')\n",
    "    print('* '*(i))\n",
    "    n-=1\n",
    "    i+=1\n",
    "print()"
   ]
  },
  {
   "cell_type": "markdown",
   "id": "a4ba88d6-58f0-4568-b6b6-ed4e5c8299e6",
   "metadata": {},
   "source": [
    "4. '*' Reverse Equilateral triangle."
   ]
  },
  {
   "cell_type": "code",
   "execution_count": null,
   "id": "f7d31da0-4584-4ed6-9bbf-803f51ba6a20",
   "metadata": {},
   "outputs": [],
   "source": [
    "n = 10\n",
    "i = 1\n",
    "while i < 11:\n",
    "    print('-'*(i),end='')\n",
    "    print('* '*n)\n",
    "    n-=1\n",
    "    i+=1\n",
    "print()"
   ]
  },
  {
   "cell_type": "markdown",
   "id": "7383baba-fc3f-4a1a-a027-e34e88cd6e53",
   "metadata": {},
   "source": [
    "Q7) Reverse a while loop to display numbers grom 10 to 1."
   ]
  },
  {
   "cell_type": "code",
   "execution_count": null,
   "id": "7d62516c-933f-4151-a640-7f4526e83187",
   "metadata": {},
   "outputs": [],
   "source": [
    "i = 10\n",
    "while i > 0:\n",
    "    print(i)\n",
    "    i-=1"
   ]
  },
  {
   "cell_type": "markdown",
   "id": "ed396613-299d-486c-85fa-6b04d4113a91",
   "metadata": {},
   "source": [
    "End."
   ]
  }
 ],
 "metadata": {
  "kernelspec": {
   "display_name": "Python 3 (ipykernel)",
   "language": "python",
   "name": "python3"
  },
  "language_info": {
   "codemirror_mode": {
    "name": "ipython",
    "version": 3
   },
   "file_extension": ".py",
   "mimetype": "text/x-python",
   "name": "python",
   "nbconvert_exporter": "python",
   "pygments_lexer": "ipython3",
   "version": "3.10.8"
  }
 },
 "nbformat": 4,
 "nbformat_minor": 5
}
