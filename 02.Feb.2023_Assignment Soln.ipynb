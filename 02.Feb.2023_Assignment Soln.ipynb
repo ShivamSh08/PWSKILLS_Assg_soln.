{
 "cells": [
  {
   "cell_type": "markdown",
   "id": "46b93e69-82dd-4ccc-afdd-944232777436",
   "metadata": {},
   "source": [
    "#### Q1. What are the characteristics of the tuples? Is tuple immutable ?<br>\n",
    "\n",
    "Ans. <br>\n",
    "Tuples as following charactersitics:- <br>\n",
    "* Tuple is an ordered collection of elements of the same or different data types. <br>\n",
    "* Tuple elements are enclosed in () (round brackets) and are separated from each other by , (comma). <br>\n",
    "* Indexing and slicing can be performed on tuple (as tuple is ordered). <br>\n",
    "* Tuple is immutable (it can’t be changed). <br>\n",
    "* Tuple can contain duplicate elements. <br>\n",
    "\n",
    "\n",
    "Yes, Tuple is immutable."
   ]
  },
  {
   "cell_type": "markdown",
   "id": "ec6e516e-db3f-4861-8d3b-3a62b6760574",
   "metadata": {
    "tags": []
   },
   "source": [
    "#### Q2. What are the two tuple methods in python? Give an example of each method. Give a reason why tuples have only two in-built methods as compared to Lists.<br>\n",
    "Ans.<br>\n",
    "\n",
    "* count():- It count the no. of occurance of character present inside of tuple.<br>\n",
    "\n",
    "Ex:- <br>\n",
    "\n",
    "t = (1,2,3,2)<br>\n",
    "t.count(2)<br>\n",
    "\n",
    "output:-<br>\n",
    "2<br>\n",
    "\n",
    "Reason:- '2' has been present 2 times in the above tuple.<br>\n",
    "\n",
    "* index():- It is used to reflect the index of character that present in the tuple after passing it as an argument in the index() function. <br>\n",
    "\n",
    "t.index(3)<br>\n",
    "\n",
    "output:-<br>\n",
    "2<br>\n",
    "\n",
    "Reason:- '3' has been present at 2nd index in the above tuple.<br>\n"
   ]
  },
  {
   "cell_type": "code",
   "execution_count": 3,
   "id": "d7b15ae2-7777-4a00-afdc-fe8071f23190",
   "metadata": {},
   "outputs": [
    {
     "data": {
      "text/plain": [
       "2"
      ]
     },
     "execution_count": 3,
     "metadata": {},
     "output_type": "execute_result"
    }
   ],
   "source": [
    "t = (1,2,3,2)\n",
    "t.count(1)\n",
    "t.index(3)"
   ]
  },
  {
   "cell_type": "markdown",
   "id": "4fd76b3f-45c6-42c2-8fb9-3d1694c4d0b0",
   "metadata": {},
   "source": [
    "#### Q3. Which collection datatypes in python do not allow duplicate items? Write a code using a set to remove duplicates from the given list.<br>\n",
    "\n",
    "List = [1, 1, 1, 2, 1, 3, 1, 4, 2, 1, 2, 2, 2, 3, 2, 4, 3, 1, 3, 2, 3, 3, 3, 4, 4, 1, 4, 2, 4, 3, 4, 4] <br>\n",
    "\n",
    "Ans. <br>\n",
    "\n",
    " Set is the collection datatype in python which does not allow duplicate items."
   ]
  },
  {
   "cell_type": "code",
   "execution_count": 8,
   "id": "d4c84e4e-c0c6-4508-9074-45a1f6997e67",
   "metadata": {},
   "outputs": [
    {
     "data": {
      "text/plain": [
       "[1, 2, 3, 4]"
      ]
     },
     "execution_count": 8,
     "metadata": {},
     "output_type": "execute_result"
    }
   ],
   "source": [
    "List = [1, 1, 1, 2, 1, 3, 1, 4, 2, 1, 2, 2, 2, 3, 2, 4, 3, 1, 3, 2, 3, 3, 3, 4, 4, 1, 4, 2, 4, 3, 4, 4]\n",
    "List = list(set(List))\n",
    "List"
   ]
  },
  {
   "cell_type": "markdown",
   "id": "bca43e17-10ee-4ff1-b6a9-eda05e0b5554",
   "metadata": {},
   "source": [
    "#### Q4. Explain the difference between the union() and update() methods for a set. Give an example of each method. <br>\n",
    "\n",
    "Ans. <br>\n",
    "\n",
    "* update()<br>\n",
    "\n",
    "We can add multiple elements using the update() method in any set and it changes its values. The update() method can take tuples, lists, strings or other sets as its argument. In all cases, duplicates are avoided.<br>\n",
    "\n",
    "Example:- <br>\n"
   ]
  },
  {
   "cell_type": "code",
   "execution_count": 10,
   "id": "441bb19b-7883-4a0f-ba3e-b3da7bcc8dbc",
   "metadata": {},
   "outputs": [
    {
     "data": {
      "text/plain": [
       "{1, 2, 3, 4, 5}"
      ]
     },
     "execution_count": 10,
     "metadata": {},
     "output_type": "execute_result"
    }
   ],
   "source": [
    "set1 ={1,2,3}\n",
    "set2 ={3,4,5}\n",
    "\n",
    "set1.update(set2)\n",
    "set1"
   ]
  },
  {
   "cell_type": "markdown",
   "id": "1e5a2a53-a17c-4079-a70f-6bbdf14a2d0b",
   "metadata": {},
   "source": [
    "* union():- <br>\n",
    "union form a new set after combining items of given sets. And don't make any changes to previous sets. <br>\n",
    "\n",
    "Example:- <br>\n"
   ]
  },
  {
   "cell_type": "code",
   "execution_count": 11,
   "id": "48280258-2453-4c67-9e09-71914d6e6ab7",
   "metadata": {},
   "outputs": [
    {
     "data": {
      "text/plain": [
       "{1, 2, 3, 4, 5, 6, 7, 8}"
      ]
     },
     "execution_count": 11,
     "metadata": {},
     "output_type": "execute_result"
    }
   ],
   "source": [
    "a={1,2,3,4}\n",
    "b={5,6,7,8}\n",
    "a.union(b)"
   ]
  },
  {
   "cell_type": "code",
   "execution_count": 16,
   "id": "41cb0b8f-b372-4c91-8c78-abf8807b4f91",
   "metadata": {},
   "outputs": [
    {
     "data": {
      "text/plain": [
       "({1, 2, 3, 4}, {5, 6, 7, 8})"
      ]
     },
     "execution_count": 16,
     "metadata": {},
     "output_type": "execute_result"
    }
   ],
   "source": [
    "a, b"
   ]
  },
  {
   "cell_type": "markdown",
   "id": "5ba1bde2-60dd-402e-9882-f03dc339c791",
   "metadata": {},
   "source": [
    "#### Q5. What is a dictionary? Give an example. Also, state whether a dictionary is ordered or unordered.<br>\n",
    "\n",
    "Ans. <br>\n",
    "\n",
    "Python dictionary is an **unordered collection** of items. Each item of a dictionary has a key/value pair. Dictionaries are like lists but with user-defined indices known as keys. These keys are used to extract values from the dictionary.<br>\n",
    "\n",
    "Ex:- dic = {1:'apple', 'a': 'John'}"
   ]
  },
  {
   "cell_type": "markdown",
   "id": "e3953ed4-9246-4ed3-8fc3-256393403171",
   "metadata": {},
   "source": [
    "#### Q6. Can we create a nested dictionary? If so, please give an example by creating a simple one-level nested dictionary. <br>\n",
    "\n",
    "Ans <br>\n",
    "\n",
    "Yes, we can create a nested dictionary.<br>\n",
    "\n",
    "Ex:- <br>"
   ]
  },
  {
   "cell_type": "code",
   "execution_count": 3,
   "id": "a64c77f2-b6b8-4a3a-bc86-c68ea396ce53",
   "metadata": {},
   "outputs": [
    {
     "data": {
      "text/plain": [
       "{'key1': 1, 'key2': 'John', 'key3': {'name': 'Shivam', 'age': 26}}"
      ]
     },
     "execution_count": 3,
     "metadata": {},
     "output_type": "execute_result"
    }
   ],
   "source": [
    "Dict = {'key1': 1, 'key2': 'John', 'key3':{'name': 'Shivam', 'age': 26}}\n",
    "Dict"
   ]
  },
  {
   "cell_type": "markdown",
   "id": "3368e6bf-a9e0-4f7f-a6bb-9791e4882e37",
   "metadata": {},
   "source": [
    "#### Q7. Using setdefault() method, create key named topics in the given dictionary and also add the value of the key as this list ['Python', 'Machine Learning’, 'Deep Learning'].<br>\n",
    "\n",
    "dict1 = {'language' : 'Python', 'course': 'Data Science Masters'}"
   ]
  },
  {
   "cell_type": "code",
   "execution_count": 4,
   "id": "d1ebd277-1ecd-4305-a194-0fbe2a2686ca",
   "metadata": {},
   "outputs": [],
   "source": [
    "dict1 = {'language' : 'Python', 'course': 'Data Science Masters'}"
   ]
  },
  {
   "cell_type": "code",
   "execution_count": 8,
   "id": "5e241b49-c644-4321-9b28-141263ec7d4e",
   "metadata": {},
   "outputs": [
    {
     "data": {
      "text/plain": [
       "['Python', 'Machine Learning', 'Deep Learning']"
      ]
     },
     "execution_count": 8,
     "metadata": {},
     "output_type": "execute_result"
    }
   ],
   "source": [
    "dict1.setdefault('topic', ['Python','Machine Learning','Deep Learning'])"
   ]
  },
  {
   "cell_type": "code",
   "execution_count": 9,
   "id": "9edc307f-6846-4b83-8b4f-efd086ef0f3e",
   "metadata": {},
   "outputs": [
    {
     "data": {
      "text/plain": [
       "{'language': 'Python',\n",
       " 'course': 'Data Science Masters',\n",
       " 'topic': ['Python', 'Machine Learning', 'Deep Learning']}"
      ]
     },
     "execution_count": 9,
     "metadata": {},
     "output_type": "execute_result"
    }
   ],
   "source": [
    "dict1"
   ]
  },
  {
   "cell_type": "markdown",
   "id": "db2a5807-c59f-4795-95d0-65927e0d3797",
   "metadata": {},
   "source": [
    "#### Q8. What are the three view objects in dictionaries? Use the three in-built methods in python to display these three view objects for the given dictionary.<br>\n",
    "\n",
    "\n",
    "dict1 = {'Sport': 'Cricket' , 'Teams': ['India', 'Australia', 'England', 'South Africa', 'Sri Lanka', 'New Zealand']}<br>\n",
    "\n",
    "Ans. <br>\n",
    "The main view objects of dictionary in python are keys, values and items. They provide a non-constant view of the dictionary’s entries. <br>\n",
    "\n",
    "Keys holds all the keys of the dictionary, the values objects holds all the values, whereas the items holds the key-value pairs.<br>"
   ]
  },
  {
   "cell_type": "code",
   "execution_count": 10,
   "id": "7d8b646b-1e92-4718-9b62-c5ecc0e2070f",
   "metadata": {},
   "outputs": [],
   "source": [
    "dict1 = {'Sport': 'Cricket' , 'Teams': ['India', 'Australia', 'England', 'South Africa', 'Sri Lanka', 'New Zealand']}"
   ]
  },
  {
   "cell_type": "code",
   "execution_count": 11,
   "id": "e0046a58-6c1b-47f0-b0f8-29ade06a839d",
   "metadata": {},
   "outputs": [
    {
     "data": {
      "text/plain": [
       "{'Sport': 'Cricket',\n",
       " 'Teams': ['India',\n",
       "  'Australia',\n",
       "  'England',\n",
       "  'South Africa',\n",
       "  'Sri Lanka',\n",
       "  'New Zealand']}"
      ]
     },
     "execution_count": 11,
     "metadata": {},
     "output_type": "execute_result"
    }
   ],
   "source": [
    "dict1"
   ]
  },
  {
   "cell_type": "code",
   "execution_count": 12,
   "id": "e33b34de-25b0-4f21-a7a7-7137b855bf9e",
   "metadata": {},
   "outputs": [
    {
     "data": {
      "text/plain": [
       "dict_keys(['Sport', 'Teams'])"
      ]
     },
     "execution_count": 12,
     "metadata": {},
     "output_type": "execute_result"
    }
   ],
   "source": [
    "d = dict1.keys()\n",
    "d"
   ]
  },
  {
   "cell_type": "code",
   "execution_count": 13,
   "id": "7ad61e1d-aaab-4157-9dbc-79a2ff915fa2",
   "metadata": {},
   "outputs": [
    {
     "data": {
      "text/plain": [
       "dict_values(['Cricket', ['India', 'Australia', 'England', 'South Africa', 'Sri Lanka', 'New Zealand']])"
      ]
     },
     "execution_count": 13,
     "metadata": {},
     "output_type": "execute_result"
    }
   ],
   "source": [
    "d1 = dict1.values()\n",
    "d1"
   ]
  },
  {
   "cell_type": "code",
   "execution_count": 14,
   "id": "c87ddb3b-1d6f-4253-9bf2-0dc82fef36c8",
   "metadata": {},
   "outputs": [
    {
     "data": {
      "text/plain": [
       "dict_items([('Sport', 'Cricket'), ('Teams', ['India', 'Australia', 'England', 'South Africa', 'Sri Lanka', 'New Zealand'])])"
      ]
     },
     "execution_count": 14,
     "metadata": {},
     "output_type": "execute_result"
    }
   ],
   "source": [
    "d2 = dict1.items()\n",
    "d2"
   ]
  },
  {
   "cell_type": "code",
   "execution_count": null,
   "id": "97bd6595-8840-41b2-8658-33984d20beb2",
   "metadata": {},
   "outputs": [],
   "source": []
  }
 ],
 "metadata": {
  "kernelspec": {
   "display_name": "Python 3 (ipykernel)",
   "language": "python",
   "name": "python3"
  },
  "language_info": {
   "codemirror_mode": {
    "name": "ipython",
    "version": 3
   },
   "file_extension": ".py",
   "mimetype": "text/x-python",
   "name": "python",
   "nbconvert_exporter": "python",
   "pygments_lexer": "ipython3",
   "version": "3.10.8"
  }
 },
 "nbformat": 4,
 "nbformat_minor": 5
}
