{
 "cells": [
  {
   "cell_type": "markdown",
   "id": "4c3c40eb-5725-479c-941d-9a17ef2f0287",
   "metadata": {},
   "source": [
    "### Q1. Which function is used to open a file? What are the different modes of opening a file? Explain each mode of file opening. <br>\n",
    "**Ans. <br>**\n",
    "Opening a file refers to getting the file ready either for reading or for writing. This can be done using the open() function. This function returns a file object and takes two arguments, one that accepts the file name and another that accepts the mode(Access Mode). Now, the question arises what is the access mode? **Access modes** govern the type of operations possible in the opened file. It refers to how the file will be used once it’s opened. These modes also define the location of the File Handle in the file. File handle is like a cursor, which defines from where the data has to be read or written in the file. There are 6 access modes in python. <br>\n",
    "\n",
    "* **Read Only (‘r’):** Open text file for reading. The handle is positioned at the beginning of the file. If the file does not exist, raises an I/O error. This is also the default mode in which the file is opened.<br>\n",
    "\n",
    "* **Read and Write (‘r+’):** Open the file for reading and writing. The handle is positioned at the beginning of the file. Raises I/O error if the file does not exist.<br>\n",
    "\n",
    "* **Write Only (‘w’):** Open the file for writing. For the existing files, the data is truncated and over-written. The handle is positioned at the beginning of the file. Creates the file if the file does not exist.<br>\n",
    "* **Write and Read (‘w+’):** Open the file for reading and writing. For existing files, data is truncated and over-written. The handle is positioned at the beginning of the file.<br>\n",
    "\n",
    "* **Append Only (‘a’):** Open the file for writing. The file is created if it does not exist. The handle is positioned at the end of the file. The data being written will be inserted at the end, after the existing data.<br>\n",
    "\n",
    "* **Append and Read (‘a+’):** Open the file for reading and writing. The file is created if it does not exist. The handle is positioned at the end of the file. The data being written will be inserted at the end, after the existing data.<br>\n",
    "\n",
    "* **Read Only in Binary format(‘rb’):**  It lets the user open the file for reading in binary format.<br>\n",
    "\n",
    "* **Read and Write in Binary Format(‘rb+’):** It lets the user open the file for reading and writing in binary format.<br>\n",
    "\n",
    "* **Write Only in Binary Format(‘wb’):** It lets the user open the file for writing in binary format. When a file gets opened in this mode, there are two things that can happen mostly. A new file gets created if the file does not exist. The content within the file will get overwritten if the file exists and has some data stored in it. <br>\n",
    "\n",
    "* **Write and Read in Binary Format(‘wb+’):**  It lets the user open the file for reading as well as writing in binary format. When a file gets opened in this mode, there are two things that can mostly happen. A new file gets created for writing and reading if the file does not exist. The content within the file will get overwritten if the file exists and has some data stored in it. <br>\n",
    "\n",
    "* **Append only in Binary Format(‘ab’):** It lets the user open the file for appending in binary format. A new file gets created if there is no file. The data will be inserted at the end if the file exists and has some data stored in it. <br>\n",
    "\n",
    "* **Append and Read in Binary Format(‘ab+’):** It lets the user open the file for appending and reading in binary format. A new file will be created for reading and appending if the file does not exist. We can read and append if the file exists and has some data stored in it.  <br>"
   ]
  },
  {
   "cell_type": "markdown",
   "id": "7433f050-a2f5-43c4-88a6-1d3f1499d9ed",
   "metadata": {},
   "source": [
    "### Q2. Why close() function is used? Why is it important to close a file? <br>\n",
    "\n",
    "**Ans <br>** The close() method closes an open file. You should always close your files, in some cases, due to buffering, changes made to a file may not show until you close the file. <br>\n",
    "\n",
    "It is important to close files in Python. Because files are limited resources managed by the operating system, making sure files are closed after use will protect against hard-to-debug issues like running out of file handles or experiencing corrupted data."
   ]
  },
  {
   "cell_type": "markdown",
   "id": "fd65cb25-852c-45a8-b1f2-fa055162cbfd",
   "metadata": {},
   "source": [
    "### Q3. Write a python program to create a text file. Write ‘I want to become a Data Scientist’ in that file. Then close the file. Open this file and read the content of the file.<br>\n",
    "\n",
    "**Ans <br>**"
   ]
  },
  {
   "cell_type": "code",
   "execution_count": 1,
   "id": "1b54b5ea-6a40-4300-b3b4-520746e54dbf",
   "metadata": {},
   "outputs": [],
   "source": [
    "f = open ('test.txt', 'w')"
   ]
  },
  {
   "cell_type": "code",
   "execution_count": 2,
   "id": "6178836c-f47d-43f9-b417-cebc08a1254c",
   "metadata": {},
   "outputs": [
    {
     "data": {
      "text/plain": [
       "'/home/jovyan/work'"
      ]
     },
     "execution_count": 2,
     "metadata": {},
     "output_type": "execute_result"
    }
   ],
   "source": [
    "pwd"
   ]
  },
  {
   "cell_type": "code",
   "execution_count": 3,
   "id": "788e2c57-021f-44c8-acf0-df73eaedb047",
   "metadata": {},
   "outputs": [
    {
     "name": "stdout",
     "output_type": "stream",
     "text": [
      "'02.Feb.2023_Assignment Soln.ipynb'  '09.Feb.2023_Assignment Soln.ipynb'\n",
      "'03.Feb.2023_Assignment Soln.ipynb'  '10.Feb.2023_Assignment Soln.ipynb'\n",
      "'04.Feb.2023_Assignment Soln.ipynb'  '29.jan.2023_Assignment Soln..ipynb'\n",
      "'05.Feb.2023_Assignment Soln.ipynb'  '30.jan.2023_Assignment Soln.ipynb'\n",
      "'06.Feb.2023_Assignment Soln.ipynb'   README.md\n",
      "'07.Feb.2023_Assignment Soln.ipynb'   test.txt\n"
     ]
    }
   ],
   "source": [
    "ls"
   ]
  },
  {
   "cell_type": "code",
   "execution_count": 4,
   "id": "e8ad7c36-777a-43ec-83c3-016d7b167d99",
   "metadata": {},
   "outputs": [
    {
     "data": {
      "text/plain": [
       "33"
      ]
     },
     "execution_count": 4,
     "metadata": {},
     "output_type": "execute_result"
    }
   ],
   "source": [
    "f.write(\"I want to become a Data Scientist\")"
   ]
  },
  {
   "cell_type": "code",
   "execution_count": 5,
   "id": "485b2fed-a685-4c9d-bb2b-a6dc13c4b6bf",
   "metadata": {},
   "outputs": [],
   "source": [
    "f.close()"
   ]
  },
  {
   "cell_type": "code",
   "execution_count": 6,
   "id": "339dd433-4bd3-469b-bafa-23bb7f91bb6f",
   "metadata": {},
   "outputs": [],
   "source": [
    "data = open('test.txt','r')"
   ]
  },
  {
   "cell_type": "code",
   "execution_count": 7,
   "id": "6ef59d00-e250-4b4c-bb41-1d2a3a585399",
   "metadata": {},
   "outputs": [
    {
     "data": {
      "text/plain": [
       "'I want to become a Data Scientist'"
      ]
     },
     "execution_count": 7,
     "metadata": {},
     "output_type": "execute_result"
    }
   ],
   "source": [
    "data.read()"
   ]
  },
  {
   "cell_type": "markdown",
   "id": "3c20b164-63f1-498c-8c97-c227c9ce1275",
   "metadata": {},
   "source": [
    "### Q4. Explain the following with python code: read(), readline() and readlines(). <br>\n",
    "\n",
    "**Ans <br>**\n",
    "* **read() :** Returns the read bytes in form of a string. Reads n bytes, if no n specified, reads the entire file.<br>\n",
    "\n",
    "**File_object.read([n])**\n",
    "\n",
    "\n",
    "* **readline() :** Reads a line of the file and returns in form of a string.For specified n, reads at most n bytes. However, does not reads more than one line, even if n exceeds the length of the line.<br>\n",
    "\n",
    "**File_object.readline([n])**\n",
    "\n",
    "\n",
    "* **readlines() :** Reads all the lines and return them as each line a string element in a list.\n",
    "\n",
    "**File_object.readlines()**"
   ]
  },
  {
   "cell_type": "code",
   "execution_count": 5,
   "id": "37aabc8c-4f41-4f3b-ad66-a1a6eb47467c",
   "metadata": {},
   "outputs": [
    {
     "name": "stdout",
     "output_type": "stream",
     "text": [
      "Output of Read function is \n",
      "Hello \n",
      "This is Delhi \n",
      "This is Paris \n",
      "This is London \n",
      "\n",
      "Output of Readline function is \n",
      "Hello \n",
      "\n",
      "Output of Readlines function is \n",
      "['Hello \\n', 'This is Delhi \\n', 'This is Paris \\n', 'This is London \\n']\n",
      "Output of Read(9) function is \n",
      "Hello \n",
      "Th\n",
      "Output of Readline(9) function is \n",
      "Hello \n",
      "\n",
      "Output of Readlines(9) function is \n",
      "['Hello \\n', 'This is Delhi \\n']\n"
     ]
    }
   ],
   "source": [
    "# Program to show various ways to\n",
    "# read data from a file.\n",
    "\n",
    "# Creating a file\n",
    "file1 = open(\"myfile.txt\", \"w\")\n",
    "L = [\"This is Delhi \\n\", \"This is Paris \\n\", \"This is London \\n\"]\n",
    "\n",
    "# Writing data to a file\n",
    "file1.write(\"Hello \\n\")\n",
    "file1.writelines(L)\n",
    "file1.close() # to change file access modes\n",
    "\n",
    "file1 = open(\"myfile.txt\", \"r\")\n",
    "\n",
    "print(\"Output of Read function is \")\n",
    "print(file1.read())\n",
    "\n",
    "# seek(n) takes the file handle to the nth\n",
    "# byte from the beginning.\n",
    "file1.seek(0)\n",
    "\n",
    "print(\"Output of Readline function is \")\n",
    "print(file1.readline())\n",
    "\n",
    "file1.seek(0)\n",
    "\n",
    "# readlines function\n",
    "print(\"Output of Readlines function is \")\n",
    "print(file1.readlines())\n",
    "\n",
    "file1.seek(0)\n",
    "\n",
    "# To show difference between read and readline\n",
    "print(\"Output of Read(9) function is \")\n",
    "print(file1.read(9))\n",
    "\n",
    "file1.seek(0)\n",
    "\n",
    "print(\"Output of Readline(9) function is \")\n",
    "print(file1.readline(9))\n",
    "\n",
    "file1.seek(0)\n",
    "\n",
    "# readlines function\n",
    "print(\"Output of Readlines(9) function is \")\n",
    "print(file1.readlines(9))\n",
    "file1.close()\n"
   ]
  },
  {
   "cell_type": "markdown",
   "id": "593cd191-ab80-46c3-927a-bb452fe8e511",
   "metadata": {},
   "source": [
    "### Q5. Explain why with statement is used with open(). What is the advantage of using with statement and open() together? <br>\n",
    "\n",
    "**Ans <br>**\n",
    "The with statement works with the open() function to open a file. Unlike open() where you have to close the file with the close() method, the with statement closes the file for you without you telling it to. This is because the with statement calls 2 built-in methods behind the scene – __enter()__ and __exit()__ .<br>\n",
    "\n",
    "* **Fewer chances of bug due to coding error**<br>\n",
    "\n",
    "No need to explicitly close the opened file, “with statement” takes care of that. When with the block ends, it will automatically close the file. So, it reduces the number of lines of code and reduces the chances of bug.<br>\n",
    "\n",
    "* **Excellent handling in case of exception**<br>"
   ]
  },
  {
   "cell_type": "markdown",
   "id": "52dc3302-9cc9-4d91-b2c7-1054caa296dd",
   "metadata": {},
   "source": [
    "### Q6. Explain the write() and writelines() functions. Give a suitable example.<br>\n",
    "\n",
    "**Ans <br>**\n",
    "* **write() :** Inserts the string in a single line in the text file.<br>\n",
    "**File_object.write(str1)**\n",
    "\n",
    "\n",
    "* **writelines() :** For a list of string elements, each string is inserted in the text file. Used to insert multiple strings at a single time.<br>\n",
    "**File_object.writelines(L) for L = [str1, str2, str3]**"
   ]
  },
  {
   "cell_type": "code",
   "execution_count": 4,
   "id": "7233c5fb-5b5e-4b5f-a678-3da58bb38d18",
   "metadata": {},
   "outputs": [
    {
     "name": "stdout",
     "output_type": "stream",
     "text": [
      "Hello \n",
      "This is Delhi \n",
      "This is Paris \n",
      "This is London \n",
      "\n"
     ]
    }
   ],
   "source": [
    "# Python program to demonstrate\n",
    "# writing to file\n",
    "\n",
    "# Opening a file\n",
    "file2 = open('myfile2.txt', 'w')\n",
    "L = [\"This is Delhi \\n\", \"This is Paris \\n\", \"This is London \\n\"]\n",
    "s = \"Hello\\n\"\n",
    "\n",
    "# Writing a string to file\n",
    "file2.write(s)\n",
    "\n",
    "# Writing multiple strings\n",
    "# at a time\n",
    "file2.writelines(L)\n",
    "\n",
    "# Closing file\n",
    "file2.close()\n",
    "\n",
    "# Checking if the data is\n",
    "# written to file or not\n",
    "file2 = open('myfile.txt', 'r')\n",
    "print(file2.read())\n",
    "file2.close()\n"
   ]
  }
 ],
 "metadata": {
  "kernelspec": {
   "display_name": "Python 3 (ipykernel)",
   "language": "python",
   "name": "python3"
  },
  "language_info": {
   "codemirror_mode": {
    "name": "ipython",
    "version": 3
   },
   "file_extension": ".py",
   "mimetype": "text/x-python",
   "name": "python",
   "nbconvert_exporter": "python",
   "pygments_lexer": "ipython3",
   "version": "3.10.8"
  }
 },
 "nbformat": 4,
 "nbformat_minor": 5
}
